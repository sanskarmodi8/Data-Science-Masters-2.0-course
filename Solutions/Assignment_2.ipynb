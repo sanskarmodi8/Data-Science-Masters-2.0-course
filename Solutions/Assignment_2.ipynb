{
 "cells": [
  {
   "cell_type": "code",
   "execution_count": 11,
   "id": "03719236-79ad-47a9-b027-d43c19e5be44",
   "metadata": {},
   "outputs": [
    {
     "data": {
      "text/plain": [
       "'\\nthis is a\\nmultiline \\ncomment\\n'"
      ]
     },
     "execution_count": 11,
     "metadata": {},
     "output_type": "execute_result"
    }
   ],
   "source": [
    "# Answer 1\n",
    "\n",
    "# There are 2 types of comments in Python-\n",
    "# i) Single line comments -- we use Hashtag symbol (#) before the line we want to comment eg -- # this is a singleline comment\n",
    "# ii) Multi line comments -- we use three single quote before and after the comment line(s) eg -:\n",
    "'''\n",
    "this is a\n",
    "multiline \n",
    "comment\n",
    "'''"
   ]
  },
  {
   "cell_type": "code",
   "execution_count": 9,
   "id": "7d7903c6-c79a-4b64-8082-12a52d00490b",
   "metadata": {},
   "outputs": [],
   "source": [
    "# Answer 2\n",
    "\n",
    "# Variables are like a container which stores different types of values which we can use anytime we want.\n",
    "# In python, we declare a variable by writing its name according to naming rules and assign it a value using the assignment operator (=). eg-:\n",
    "variable1 = \"This is a variable which is currently storing a string\"\n",
    "# we dont need to specify the datatype of the value when assigning the variable in Python\n"
   ]
  },
  {
   "cell_type": "code",
   "execution_count": 18,
   "id": "103ec93e-f585-40a2-b692-3bd4adfae8d1",
   "metadata": {},
   "outputs": [
    {
     "name": "stdout",
     "output_type": "stream",
     "text": [
      "4 -- <class 'int'>\n"
     ]
    }
   ],
   "source": [
    "# Answer 3 \n",
    "\n",
    "# to convert one datatype to another in python we place the variable to be converted as the parameter into the function call of predefined python \n",
    "# functions for typecasting. eg -:\n",
    "variable2 = \"4\"\n",
    "variable3 = int(variable2)  #typecasting variable2 to an integeral value\n",
    "print(\"{} -- {}\".format(variable3, type(variable3)))"
   ]
  },
  {
   "cell_type": "code",
   "execution_count": 19,
   "id": "342a15b1-70ea-49e7-9455-ce64a58b41fc",
   "metadata": {},
   "outputs": [],
   "source": [
    "# Answer 4\n",
    "\n",
    "#To execute a python script from the command line write \"python filename.py\" and press enter\n",
    "\n",
    "# To execute python commands in the command line, write python in the command line and hit enter\n",
    "# Python shell will start and now you can write python commands and press enter to execute in the command line"
   ]
  },
  {
   "cell_type": "code",
   "execution_count": 21,
   "id": "f1d362e9-24ab-4a0f-a2c2-49fd8eeff864",
   "metadata": {},
   "outputs": [
    {
     "data": {
      "text/plain": [
       "[2, 3]"
      ]
     },
     "execution_count": 21,
     "metadata": {},
     "output_type": "execute_result"
    }
   ],
   "source": [
    "# Answer 5\n",
    "\n",
    "my_list = [1, 2, 3, 4, 5]\n",
    "\n",
    "ans_list = my_list[1:3]\n",
    "ans_list"
   ]
  },
  {
   "cell_type": "code",
   "execution_count": 23,
   "id": "6c16ed0b-9c58-49cf-b061-bc517e3cb486",
   "metadata": {},
   "outputs": [],
   "source": [
    "# Answer 6\n",
    "\n",
    "# In Mathematics, complex number is an imaginary number which cannot be represented on the real number line.\n",
    "# In python, a complex number is denoted by using the letter \"j\" instead of \"i\", that we use in mathematics. eg -- 2+8j"
   ]
  },
  {
   "cell_type": "code",
   "execution_count": 24,
   "id": "82c93a4e-7013-4f7a-8986-dbaa5806d649",
   "metadata": {},
   "outputs": [],
   "source": [
    "# Answer 7\n",
    "\n",
    "age = 25"
   ]
  },
  {
   "cell_type": "code",
   "execution_count": 26,
   "id": "674444ef-8470-44e8-9652-4b304d160207",
   "metadata": {},
   "outputs": [
    {
     "data": {
      "text/plain": [
       "float"
      ]
     },
     "execution_count": 26,
     "metadata": {},
     "output_type": "execute_result"
    }
   ],
   "source": [
    "# Answer 8\n",
    "\n",
    "price = 9.99\n",
    "\n",
    "# This variable is of type Float which represents a floating point number or a decimal\n",
    "type(price)"
   ]
  },
  {
   "cell_type": "code",
   "execution_count": 27,
   "id": "39f15280-9c0e-4986-bf56-537025118678",
   "metadata": {},
   "outputs": [
    {
     "name": "stdout",
     "output_type": "stream",
     "text": [
      "Sanskar Modi\n"
     ]
    }
   ],
   "source": [
    "# Answer 9\n",
    "\n",
    "name = \"Sanskar Modi\"\n",
    "print(name)"
   ]
  },
  {
   "cell_type": "code",
   "execution_count": 30,
   "id": "e62d355d-14a9-45da-9f3c-1eb9c188957c",
   "metadata": {},
   "outputs": [
    {
     "data": {
      "text/plain": [
       "'World'"
      ]
     },
     "execution_count": 30,
     "metadata": {},
     "output_type": "execute_result"
    }
   ],
   "source": [
    "# Answer 10\n",
    "\n",
    "string = \"Hello World\"\n",
    "ans_string = string[6:11]\n",
    "ans_string"
   ]
  },
  {
   "cell_type": "code",
   "execution_count": 31,
   "id": "d75586ab-9118-43cd-96fe-85c121a5d4e8",
   "metadata": {},
   "outputs": [],
   "source": [
    "# Answer 11\n",
    "\n",
    "is_student = True"
   ]
  },
  {
   "cell_type": "code",
   "execution_count": null,
   "id": "8103558c-694e-4b4f-b2ca-ccdee73a0a12",
   "metadata": {},
   "outputs": [],
   "source": []
  }
 ],
 "metadata": {
  "kernelspec": {
   "display_name": "Python 3 (ipykernel)",
   "language": "python",
   "name": "python3"
  },
  "language_info": {
   "codemirror_mode": {
    "name": "ipython",
    "version": 3
   },
   "file_extension": ".py",
   "mimetype": "text/x-python",
   "name": "python",
   "nbconvert_exporter": "python",
   "pygments_lexer": "ipython3",
   "version": "3.10.8"
  }
 },
 "nbformat": 4,
 "nbformat_minor": 5
}
