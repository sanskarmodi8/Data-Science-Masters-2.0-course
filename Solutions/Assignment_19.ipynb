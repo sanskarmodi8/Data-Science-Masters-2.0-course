{
 "cells": [
  {
   "cell_type": "code",
   "execution_count": 6,
   "id": "5f930479-046a-45a6-a00c-796d90ccee3b",
   "metadata": {},
   "outputs": [],
   "source": [
    "import pandas as pd\n",
    "import numpy as np"
   ]
  },
  {
   "cell_type": "code",
   "execution_count": 4,
   "id": "ae2f9a89-3e32-4625-9a59-e8f9c66c5a44",
   "metadata": {},
   "outputs": [
    {
     "name": "stdout",
     "output_type": "stream",
     "text": [
      "0     4\n",
      "1     8\n",
      "2    15\n",
      "3    16\n",
      "4    23\n",
      "5    42\n",
      "dtype: int64\n",
      "<class 'pandas.core.series.Series'>\n"
     ]
    }
   ],
   "source": [
    "# Answer 1\n",
    "\n",
    "answer = pd.Series([4, 8, 15, 16, 23, 42])\n",
    "print(answer)\n",
    "print(type(answer))"
   ]
  },
  {
   "cell_type": "code",
   "execution_count": 5,
   "id": "f7e86f34-5d97-42db-97f8-3b70900994a1",
   "metadata": {},
   "outputs": [
    {
     "name": "stdout",
     "output_type": "stream",
     "text": [
      "0    0\n",
      "1    1\n",
      "2    2\n",
      "3    3\n",
      "4    4\n",
      "5    5\n",
      "6    6\n",
      "7    7\n",
      "8    8\n",
      "9    9\n",
      "dtype: int64\n"
     ]
    }
   ],
   "source": [
    "# Answer 2\n",
    "\n",
    "lst = [0,1,2,3,4,5,6,7,8,9]\n",
    "print(pd.Series(lst))"
   ]
  },
  {
   "cell_type": "code",
   "execution_count": 17,
   "id": "86fcf37a-f900-47a6-a201-6452c2cd0fc3",
   "metadata": {},
   "outputs": [
    {
     "name": "stdout",
     "output_type": "stream",
     "text": [
      "     Name Age  Gender\n",
      "0   Alice  25  Female\n",
      "1     Bob  30    Male\n",
      "2  Claire  27  Female\n"
     ]
    }
   ],
   "source": [
    "# Answer 3\n",
    "\n",
    "l1 = [\"Alice\", \"25\", \"Female\"]\n",
    "l2 = [\"Bob\", \"30\", \"Male\"]\n",
    "l3 = [\"Claire\", \"27\", \"Female\"]\n",
    "arr = np.array([l1,l2,l3])\n",
    "\n",
    "df = pd.DataFrame(arr, columns=[\"Name\", \"Age\", \"Gender\"])\n",
    "print(df)"
   ]
  },
  {
   "cell_type": "code",
   "execution_count": 26,
   "id": "d462ca77-5894-4d1f-b4ac-bb6e32ddeac3",
   "metadata": {},
   "outputs": [
    {
     "name": "stdout",
     "output_type": "stream",
     "text": [
      "Series : \n",
      "0     Alice\n",
      "1       Bob\n",
      "2    Claire\n",
      "Name: Name, dtype: object\n",
      "<class 'pandas.core.series.Series'>\n",
      "\n",
      "\n",
      "\n",
      "Dataframe : \n",
      "     Name Age\n",
      "0   Alice  25\n",
      "1     Bob  30\n",
      "2  Claire  27\n",
      "<class 'pandas.core.frame.DataFrame'>\n"
     ]
    }
   ],
   "source": [
    "# Answer 4\n",
    "\n",
    "# in Pandas, dataframe is a structurized data with atleast 2 rows and 2 columns\n",
    "# while Series in Pandas is a 1 dimensional array i.e. either a row or a column\n",
    "\n",
    "#example -- \n",
    "\n",
    "print(\"Series : \")\n",
    "print(df['Name'])\n",
    "print(type(df['Name']))\n",
    "\n",
    "print(\"\\n\\n\")\n",
    "\n",
    "print(\"Dataframe : \")\n",
    "print(df[['Name', 'Age']])\n",
    "print(type(df[['Name', 'Age']]))"
   ]
  },
  {
   "cell_type": "code",
   "execution_count": 34,
   "id": "bf5550e1-8fab-4c4f-8925-36658db580b2",
   "metadata": {},
   "outputs": [
    {
     "name": "stdout",
     "output_type": "stream",
     "text": [
      "     Name Age  Gender\n",
      "0   Alice  25  Female\n",
      "1     Bob  30    Male\n",
      "2  Claire  27  Female\n",
      "\n",
      "\n",
      "\n",
      "sorted df by age : \n",
      "\n",
      "\n",
      "     Name Age  Gender\n",
      "0   Alice  25  Female\n",
      "2  Claire  27  Female\n",
      "1     Bob  30    Male\n"
     ]
    }
   ],
   "source": [
    "# Answer 5\n",
    "\n",
    "# there are many functions which can be used to mainupulate data in Pandas dataframe eg -- sort_values, drop, fillna etc\n",
    "# eg of one of these -- sort_values -->\n",
    "\n",
    "sorted_df = df.sort_values(by='Age')\n",
    "print(df)\n",
    "print(\"\\n\\n\")\n",
    "print(\"sorted df by age : \")\n",
    "print(\"\\n\")\n",
    "print(sorted_df)"
   ]
  },
  {
   "cell_type": "code",
   "execution_count": 35,
   "id": "af68c92c-3d26-4fa0-8377-54d5b8110514",
   "metadata": {},
   "outputs": [],
   "source": [
    "# Answer 6\n",
    "\n",
    "# Among dataframe, series and panel, both dataframe and series are mutable unliike panel which is non mutable"
   ]
  },
  {
   "cell_type": "code",
   "execution_count": 41,
   "id": "dc049f43-b61e-4a32-a952-f9e542c0ee68",
   "metadata": {},
   "outputs": [
    {
     "data": {
      "text/html": [
       "<div>\n",
       "<style scoped>\n",
       "    .dataframe tbody tr th:only-of-type {\n",
       "        vertical-align: middle;\n",
       "    }\n",
       "\n",
       "    .dataframe tbody tr th {\n",
       "        vertical-align: top;\n",
       "    }\n",
       "\n",
       "    .dataframe thead th {\n",
       "        text-align: right;\n",
       "    }\n",
       "</style>\n",
       "<table border=\"1\" class=\"dataframe\">\n",
       "  <thead>\n",
       "    <tr style=\"text-align: right;\">\n",
       "      <th></th>\n",
       "      <th>Column1</th>\n",
       "      <th>Column2</th>\n",
       "      <th>Column3</th>\n",
       "    </tr>\n",
       "  </thead>\n",
       "  <tbody>\n",
       "    <tr>\n",
       "      <th>Row1</th>\n",
       "      <td>1</td>\n",
       "      <td>4</td>\n",
       "      <td>7</td>\n",
       "    </tr>\n",
       "    <tr>\n",
       "      <th>Row2</th>\n",
       "      <td>10</td>\n",
       "      <td>13</td>\n",
       "      <td>16</td>\n",
       "    </tr>\n",
       "    <tr>\n",
       "      <th>Row3</th>\n",
       "      <td>2</td>\n",
       "      <td>5</td>\n",
       "      <td>8</td>\n",
       "    </tr>\n",
       "    <tr>\n",
       "      <th>Row4</th>\n",
       "      <td>11</td>\n",
       "      <td>14</td>\n",
       "      <td>17</td>\n",
       "    </tr>\n",
       "    <tr>\n",
       "      <th>Row5</th>\n",
       "      <td>3</td>\n",
       "      <td>6</td>\n",
       "      <td>9</td>\n",
       "    </tr>\n",
       "    <tr>\n",
       "      <th>Row6</th>\n",
       "      <td>12</td>\n",
       "      <td>15</td>\n",
       "      <td>18</td>\n",
       "    </tr>\n",
       "  </tbody>\n",
       "</table>\n",
       "</div>"
      ],
      "text/plain": [
       "      Column1  Column2  Column3\n",
       "Row1        1        4        7\n",
       "Row2       10       13       16\n",
       "Row3        2        5        8\n",
       "Row4       11       14       17\n",
       "Row5        3        6        9\n",
       "Row6       12       15       18"
      ]
     },
     "execution_count": 41,
     "metadata": {},
     "output_type": "execute_result"
    }
   ],
   "source": [
    "# Answer 7\n",
    "\n",
    "s1 = pd.Series([1, 4, 7, 10, 13, 16])\n",
    "s2 = pd.Series([2, 5, 8, 11, 14, 17])\n",
    "s3 = pd.Series([3, 6, 9, 12, 15, 18])\n",
    "\n",
    "df2 = pd.DataFrame(np.array([s1,s2,s3]).reshape(6,3), index=['Row1', 'Row2', 'Row3', 'Row4', 'Row5', 'Row6'],\n",
    "                   columns=['Column1', 'Column2', 'Column3'])\n",
    "df2"
   ]
  },
  {
   "cell_type": "code",
   "execution_count": null,
   "id": "98650dad-13ef-4ae5-87cc-76218b5451cb",
   "metadata": {},
   "outputs": [],
   "source": []
  }
 ],
 "metadata": {
  "kernelspec": {
   "display_name": "Python 3 (ipykernel)",
   "language": "python",
   "name": "python3"
  },
  "language_info": {
   "codemirror_mode": {
    "name": "ipython",
    "version": 3
   },
   "file_extension": ".py",
   "mimetype": "text/x-python",
   "name": "python",
   "nbconvert_exporter": "python",
   "pygments_lexer": "ipython3",
   "version": "3.10.8"
  }
 },
 "nbformat": 4,
 "nbformat_minor": 5
}
