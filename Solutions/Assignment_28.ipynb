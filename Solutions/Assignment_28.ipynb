{
 "cells": [
  {
   "cell_type": "code",
   "execution_count": 1,
   "id": "e33ffa39-2343-44d6-ace1-c4fc23c0ab9b",
   "metadata": {},
   "outputs": [],
   "source": [
    "# Answer 1\n",
    "\n",
    "# Some common measures of central tendencies are --\n",
    "\n",
    "# Mean: The mean provides the average value of a dataset and is calculated by summing all values and dividing by the total count.\n",
    "# It represents the typical value.\n",
    "\n",
    "# Median: The median is the middle value when the dataset is sorted in ascending or descending order.\n",
    "# It is resistant to extreme values and represents the central value.\n",
    "\n",
    "# Mode: The mode is the value(s) that occur most frequently in a dataset. It identifies the most common value."
   ]
  },
  {
   "cell_type": "code",
   "execution_count": 2,
   "id": "93e60bbb-1556-45a3-86f8-8f1d6e849ae7",
   "metadata": {},
   "outputs": [],
   "source": [
    "# Answer 2\n",
    "\n",
    "# The mean, median, and mode are measures of central tendency used to describe the typical or central value of a dataset.\n",
    "\n",
    "# Mean: The mean is the average value of a dataset and is calculated by summing all the values and dividing by the total count. \n",
    "# It is sensitive to extreme values and provides a measure of the typical value when the dataset follows a roughly symmetric distribution.\n",
    "\n",
    "# Median: The median is the middle value in a dataset when arranged in ascending or descending order. It is not affected by extreme values\n",
    "# and is useful when the data is skewed or contains outliers. The median represents the central value of the dataset.\n",
    "\n",
    "# Mode: The mode represents the value(s) that occur most frequently in a dataset. It identifies the most common value(s) or the peak of\n",
    "# the distribution. The mode can be used to describe the most typical category or value in categorical data."
   ]
  },
  {
   "cell_type": "code",
   "execution_count": 3,
   "id": "35708174-6cfb-490c-81b8-9d2622fc5a83",
   "metadata": {},
   "outputs": [],
   "source": [
    "# Answer 3\n",
    "\n",
    "# data = [178,177,176,177,178.2,178,175,179,180,175,178.9,176.2,177,172.5,178,176.5]\n",
    "\n",
    "# mean = (178 + 177 + 176 + 177 + 178.2 + 178 + 175 + 179 + 180 + 175 + 178.9 + 176.2 + 177 + 172.5 + 178 + 176.5) / 16 = 176.9375\n",
    "\n",
    "# median= 177.5 (average of the two middle values: 177 and 178).\n",
    "\n",
    "# mode = 178 and 177 (as each value is occuring 3 times which is the most frequency any elemnt have in the data)"
   ]
  },
  {
   "cell_type": "code",
   "execution_count": 4,
   "id": "00ae3fb2-0116-49dc-9006-6c2d65dd56b3",
   "metadata": {},
   "outputs": [],
   "source": [
    "# Answer 4\n",
    "\n",
    "# Performing the calculations, the standard deviation for the given data is approximately 1.9617 (rounded to four decimal places).\n",
    "# formula used --  √[ Σ(x - μ)² / N ]"
   ]
  },
  {
   "cell_type": "code",
   "execution_count": 5,
   "id": "0ee9b55d-c2d1-4475-a2fc-f5322f4deba7",
   "metadata": {},
   "outputs": [],
   "source": [
    "# Answer 5\n",
    "\n",
    "# Range: The range is the simplest measure of dispersion and represents the difference between the maximum and minimum values in a dataset. \n",
    "# It provides a quick assessment of the spread but is sensitive to extreme values. A larger range indicates a wider spread.\n",
    "\n",
    "# Example: In a dataset of exam scores, the range is calculated as the difference between the highest and lowest scores.\n",
    "# A range of 40 points implies a larger spread than a range of 10 points.\n",
    "\n",
    "# Variance: Variance measures the average squared deviation of each data point from the mean. It quantifies the variability around the \n",
    "# mean and provides a more precise measure of spread. A higher variance indicates greater dispersion.\n",
    "\n",
    "# Example: In a dataset of house prices, the variance quantifies the average squared difference of each house price from the mean.\n",
    "# A larger variance indicates a wider spread of prices.\n",
    "\n",
    "# Standard Deviation: The standard deviation is the square root of the variance. It provides a measure of dispersion in the original units\n",
    "# of the data, making it more interpretable than variance. A larger standard deviation indicates greater spread.\n",
    "\n",
    "# Example: In a dataset of daily temperature readings, the standard deviation measures the typical difference between each days\n",
    "# temperature and the mean. A larger standard deviation suggests greater day-to-day temperature variability."
   ]
  },
  {
   "cell_type": "code",
   "execution_count": 6,
   "id": "0a57f558-0070-4cd5-ae72-a19463202980",
   "metadata": {},
   "outputs": [],
   "source": [
    "# Answer 6\n",
    "\n",
    "# A Venn diagram is a visual representation that uses overlapping circles or shapes to show the relationships and commonalities\n",
    "# between different sets or groups of items."
   ]
  },
  {
   "cell_type": "code",
   "execution_count": 7,
   "id": "1e680c8e-125a-46ba-8288-22d8ee3e2968",
   "metadata": {},
   "outputs": [],
   "source": [
    "# Answer 7\n",
    "\n",
    "# i) (2,6)\n",
    "# ii) (0,2,3,4,5,6,7,8,10)"
   ]
  },
  {
   "cell_type": "code",
   "execution_count": 8,
   "id": "87d08a31-435d-4af3-a3bb-7175ed63e08a",
   "metadata": {},
   "outputs": [],
   "source": [
    "# Answer 8\n",
    "\n",
    "# Skewness in data refers to the asymmetry or lack of symmetry in the distribution of values. It measures the degree and direction of deviation\n",
    "# from a perfectly symmetric distribution. A distribution can be positively skewed, negatively skewed, or have zero skewness.\n"
   ]
  },
  {
   "cell_type": "code",
   "execution_count": 9,
   "id": "4e24a5ce-35ae-4100-bd3d-4c2697dec3d7",
   "metadata": {},
   "outputs": [],
   "source": [
    "# Answer 9\n",
    "\n",
    "# If a data distribution is right-skewed (positively skewed), the median will typically be lower than the mean."
   ]
  },
  {
   "cell_type": "code",
   "execution_count": 10,
   "id": "3563387f-bdc3-40d5-81c4-90fd257b5712",
   "metadata": {},
   "outputs": [],
   "source": [
    "# Answer 10\n",
    "\n",
    "# Covariance measures the directional relationship between variables, while correlation quantifies the strength and direction of the\n",
    "# linear relationship. Correlation is preferred as it provides a standardized measure that is not influenced by scale or units. \n",
    "# Both measures are used to understand the relationship between variables in statistical analysis, with correlation being more widely \n",
    "# used due to its interpretability and comparability."
   ]
  },
  {
   "cell_type": "code",
   "execution_count": 11,
   "id": "cbd61566-88b9-491a-a162-6a6016fbee4b",
   "metadata": {},
   "outputs": [],
   "source": [
    "# Answer 11\n",
    "\n",
    "# The formula for calculating the sample mean is as follows:\n",
    "# Sample Mean = (Sum of all data points) / (Total number of data points)\n",
    "\n",
    "# example --\n",
    "# given height data of a class from a school:\n",
    "# [178,177,176,177,178.2,178,175,179,180,175,178.9,176.2,177,172.5,178,176.5]\n",
    "# mean = (178 + 177 + 176 + 177 + 178.2 + 178 + 175 + 179 + 180 + 175 + 178.9 + 176.2 + 177 + 172.5 + 178 + 176.5) / 16 = 176.9375\n"
   ]
  },
  {
   "cell_type": "code",
   "execution_count": 12,
   "id": "895d368f-7a44-465a-bd19-8883cadc8915",
   "metadata": {},
   "outputs": [],
   "source": [
    "# Answer 12\n",
    "\n",
    "# For a normal distribution, the measures of central tendency, namely the mean, median, and mode, are all equal. \n",
    "# This relationship holds true due to the symmetric nature of a normal distribution."
   ]
  },
  {
   "cell_type": "code",
   "execution_count": 13,
   "id": "62608827-06fc-4735-85ec-410315140d58",
   "metadata": {},
   "outputs": [],
   "source": [
    "# Answer 13\n",
    "\n",
    "# Covariance measures the directional relationship between variables, while correlation quantifies the strength and direction of the\n",
    "# linear relationship. Correlation is preferred as it provides a standardized measure that is not influenced by scale or units. \n",
    "# Both measures are used to understand the relationship between variables in statistical analysis, with correlation being more widely \n",
    "# used due to its interpretability and comparability. "
   ]
  },
  {
   "cell_type": "code",
   "execution_count": null,
   "id": "02fd0354-569d-4005-8028-fae6dc76ae5b",
   "metadata": {},
   "outputs": [],
   "source": [
    "# Answer 14\n",
    "\n",
    "# Outliers can significantly impact measures of central tendency and dispersion. \n",
    "\n",
    "# Example: Consider a dataset of incomes in a neighborhood: $30,000, $35,000, $40,000, $45,000, $50,000, and an extreme outlier of \n",
    "# $10,000,000. The presence of the outlier drastically increases the mean income, making it an unreliable measure. The median income, \n",
    "# however, remains relatively unaffected. The outlier also significantly inflates the variance and standard deviation, suggesting a larger\n",
    "# spread in incomes than what is representative of the majority of data points.\n",
    "\n",
    "# In summary, outliers can distort measures of central tendency, such as the mean, and impact measures of dispersion, such as the range, \n",
    "# variance, and standard deviation. It is important to identify and handle outliers appropriately to avoid misleading interpretations \n",
    "# and analyses."
   ]
  }
 ],
 "metadata": {
  "kernelspec": {
   "display_name": "Python 3 (ipykernel)",
   "language": "python",
   "name": "python3"
  },
  "language_info": {
   "codemirror_mode": {
    "name": "ipython",
    "version": 3
   },
   "file_extension": ".py",
   "mimetype": "text/x-python",
   "name": "python",
   "nbconvert_exporter": "python",
   "pygments_lexer": "ipython3",
   "version": "3.10.8"
  }
 },
 "nbformat": 4,
 "nbformat_minor": 5
}
