{
 "cells": [
  {
   "cell_type": "code",
   "execution_count": 1,
   "id": "3bca800c-d1a3-4b4a-b8a9-a9413ff5cc5b",
   "metadata": {},
   "outputs": [],
   "source": [
    "# Answer 1\n",
    "\n",
    "#GET method is used to retrieve data from a server by sending parameters in the URL, while POST method is used to submit data to \n",
    "#a server in the body of the HTTP request."
   ]
  },
  {
   "cell_type": "code",
   "execution_count": 2,
   "id": "dd7a3829-78ee-4fca-89ac-1e733569ed57",
   "metadata": {},
   "outputs": [],
   "source": [
    "# Answer 2\n",
    "\n",
    "# The request object in Flask is used to access and handle incoming client requests in a Flask application. It allows you to access\n",
    "# form data, query parameters, request headers, cookies, and more, enabling you to retrieve and process data sent by the client."
   ]
  },
  {
   "cell_type": "code",
   "execution_count": 3,
   "id": "07442c1d-c10b-49d9-9269-11a89e4d1a23",
   "metadata": {},
   "outputs": [],
   "source": [
    "# Answer 3\n",
    "\n",
    "# The redirect() function in Flask is used to redirect the clients browser to a different URL. It is commonly used when you want to redirect \n",
    "# the user to another page or route after processing a request. This can be useful for performing actions such as redirecting to a success page \n",
    "# after form submission."
   ]
  },
  {
   "cell_type": "code",
   "execution_count": 4,
   "id": "b0c06ff6-fce2-48e6-a6a6-9ab6d3ee8dba",
   "metadata": {},
   "outputs": [],
   "source": [
    "# Answer 4\n",
    "\n",
    "\n",
    "# Templates in Flask are files that contain HTML code with placeholders for dynamic content\n",
    "\n",
    "# The render_template() function in Flask is used to render and display a template. It takes the name of the template file as a parameter\n",
    "# and processes it, replacing the placeholders with the actual data. "
   ]
  },
  {
   "cell_type": "code",
   "execution_count": null,
   "id": "274f457c-736e-4a31-848d-b20a4548b338",
   "metadata": {},
   "outputs": [],
   "source": [
    "# Answer 5\n",
    "\n",
    "# code--\n",
    "\n",
    "# from flask import Flask, jsonify, request\n",
    "# from functools import wraps\n",
    "\n",
    "# app = Flask(__name__)\n",
    "\n",
    "# def disable_auth(f):\n",
    "#     @wraps(f)\n",
    "#     def decorated(*args, **kwargs):\n",
    "#         return f(*args, **kwargs)\n",
    "#     return decorated\n",
    "\n",
    "# @app.route('/api/add', methods=['POST'])\n",
    "# @disable_auth\n",
    "# def add_numbers():\n",
    "#     data = request.get_json()\n",
    "#     num1 = data['num1']\n",
    "#     num2 = data['num2']\n",
    "#     result = num1 + num2\n",
    "#     return jsonify({'result': result})\n",
    "\n",
    "# if __name__ == '__main__':\n",
    "#     app.run()\n",
    "#     app.run()\n",
    "\n",
    "# output -- see below"
   ]
  },
  {
   "cell_type": "markdown",
   "id": "519fe0ae-39cc-40ba-97e4-5b6d8a7dd5b1",
   "metadata": {},
   "source": [
    "![q5-solution](images/assignment15-q5-sol.png)\n"
   ]
  },
  {
   "cell_type": "code",
   "execution_count": null,
   "id": "2f292933-97a8-436b-96cd-9473ba45c035",
   "metadata": {},
   "outputs": [],
   "source": []
  }
 ],
 "metadata": {
  "kernelspec": {
   "display_name": "Python 3 (ipykernel)",
   "language": "python",
   "name": "python3"
  },
  "language_info": {
   "codemirror_mode": {
    "name": "ipython",
    "version": 3
   },
   "file_extension": ".py",
   "mimetype": "text/x-python",
   "name": "python",
   "nbconvert_exporter": "python",
   "pygments_lexer": "ipython3",
   "version": "3.10.8"
  }
 },
 "nbformat": 4,
 "nbformat_minor": 5
}
