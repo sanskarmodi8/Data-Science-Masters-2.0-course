{
 "cells": [
  {
   "cell_type": "code",
   "execution_count": 1,
   "id": "c85c4bd1-7684-4265-8fb6-9046324e8fb4",
   "metadata": {},
   "outputs": [],
   "source": [
    "# Answer 1\n",
    "\n",
    "# Web scraping is automated data extraction from websites. It is used for efficient collection of large datasets.\n",
    "# Web scraping finds applications in areas such as:\n",
    "# 1)Data Collection and Preprocessing\n",
    "# 2)Natural Language Processing \n",
    "# 3)Market Research and Competitive Analysis"
   ]
  },
  {
   "cell_type": "code",
   "execution_count": 2,
   "id": "f18771b8-b75c-4cd0-85b2-b82daa48e91e",
   "metadata": {},
   "outputs": [],
   "source": [
    "# Answer 2\n",
    "\n",
    "# There are several methods commonly used for web scraping:\n",
    "\n",
    "# 1)Manual Extraction: This method involves manually copying and pasting data from web pages into a local file or spreadsheet.\n",
    "\n",
    "# 2)Regular Expressions (Regex): Regular expressions can be used to extract specific patterns or information from HTML code.\n",
    "\n",
    "# 3)HTML Parsing: HTML parsing involves using libraries such as BeautifulSoup (Python) or Jsoup (Java) to parse the HTML structure\n",
    "# of web pages.\n",
    "\n",
    "# 4)Web Scraping Frameworks: There are various web scraping frameworks and tools available that provide high-level functionalities\n",
    "# for web scraping.\n",
    "\n",
    "# 5)Headless Browsers: Headless browsers, such as Puppeteer (JavaScript) or Selenium (multiple languages), simulate a browser\n",
    "# environment and allow interaction with web pages programmatically."
   ]
  },
  {
   "cell_type": "code",
   "execution_count": 3,
   "id": "f117fd09-d909-4798-b9a7-494d95d302c2",
   "metadata": {},
   "outputs": [],
   "source": [
    "# Answer 3\n",
    "\n",
    "# BeautifulSoup is a python library used to parse html structres of web pages. It provides convenient methods to navigate\n",
    "# through the HTML tree, locate specific elements, and extract data based on tags, attributes, or class names. "
   ]
  },
  {
   "cell_type": "code",
   "execution_count": 4,
   "id": "b2a76996-6812-43bd-9ba7-39d091c30f65",
   "metadata": {},
   "outputs": [],
   "source": [
    "# Answer 4\n",
    "\n",
    "# Flask is used in this web scraping projects because it adds functionalities such as user interface and\n",
    "# user interaction, let them input the product of their choice, displays it on a different route\n",
    "# Flask allows for rapid development, enabling quick integration of web scraping functionalities.\n",
    "# It offers a range of extensions and libraries that facilitate tasks such as URL routing, request handling, and data storage, enhancing the efficiency of web scraping projects."
   ]
  },
  {
   "cell_type": "code",
   "execution_count": null,
   "id": "c4a73613-ad83-4660-b3a9-543222f0ab72",
   "metadata": {},
   "outputs": [],
   "source": [
    "# Answer 5\n",
    "\n",
    "# Aws services used in this project were -- Elastic Beanstalk and Codepipeline\n",
    "\n",
    "# Elastic Beanstalk is an AWS service that simplifies application deployment and scaling. CodePipeline is a continuous\n",
    "# integration and delivery service that automates the release process.\n",
    "# Together, they streamline application deployment and ensure efficient software delivery in AWS."
   ]
  }
 ],
 "metadata": {
  "kernelspec": {
   "display_name": "Python 3 (ipykernel)",
   "language": "python",
   "name": "python3"
  },
  "language_info": {
   "codemirror_mode": {
    "name": "ipython",
    "version": 3
   },
   "file_extension": ".py",
   "mimetype": "text/x-python",
   "name": "python",
   "nbconvert_exporter": "python",
   "pygments_lexer": "ipython3",
   "version": "3.10.8"
  }
 },
 "nbformat": 4,
 "nbformat_minor": 5
}
