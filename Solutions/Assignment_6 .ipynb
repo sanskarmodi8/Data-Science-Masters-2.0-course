{
 "cells": [
  {
   "cell_type": "code",
   "execution_count": 1,
   "id": "e20f4f16-06ff-4e9b-b84b-2d7cd6e37764",
   "metadata": {},
   "outputs": [],
   "source": [
    "# Answer 1\n",
    "\n",
    "class vehicle:\n",
    "    def __init__(self, name_of_vehicle, max_speed, average_of_vehicle):\n",
    "        self.name_of_vehicle = name_of_vehicle\n",
    "        self.max_speed = max_speed\n",
    "        self.average_of_vehicle = average_of_vehicle\n"
   ]
  },
  {
   "cell_type": "code",
   "execution_count": 5,
   "id": "537801aa-77f2-4cf7-a5b2-b3035a1836fe",
   "metadata": {},
   "outputs": [],
   "source": [
    "# Answer 2\n",
    "\n",
    "class car(vehicle):\n",
    "    def seating_capacity(self, capacity):\n",
    "        return self.name_of_vehicle, capacity"
   ]
  },
  {
   "cell_type": "code",
   "execution_count": 7,
   "id": "ff7c979c-d431-484f-b5a8-be9e9d593df0",
   "metadata": {},
   "outputs": [
    {
     "name": "stdout",
     "output_type": "stream",
     "text": [
      "square face\n",
      "playing football\n"
     ]
    }
   ],
   "source": [
    "# Answer 3\n",
    "\n",
    "#Multiple inheritance means inheriting from more than one class. Example --\n",
    "\n",
    "class dad:\n",
    "    def facetype(self):\n",
    "        print(\"square face\")\n",
    "class mom:\n",
    "    def hobbies(self):\n",
    "        print(\"playing football\")\n",
    "class child(dad, mom): #multiple inheritance\n",
    "    pass\n",
    "\n",
    "\n",
    "himesh = child()\n",
    "himesh.facetype()\n",
    "himesh.hobbies()"
   ]
  },
  {
   "cell_type": "code",
   "execution_count": 12,
   "id": "40f694bb-6886-44f8-b44f-028935f0e65b",
   "metadata": {},
   "outputs": [],
   "source": [
    "# Answer 4\n",
    "\n",
    "# getter and setter functions in python are used to get and set the private properties of the class which cannot be accessed directly. Example--\n",
    "\n",
    "class login:\n",
    "    def __init__(self, name, password):\n",
    "        self.name = name\n",
    "        self.__password = password\n",
    "        \n",
    "    #getter\n",
    "    def get_password(self):\n",
    "        return self.__password\n",
    "    \n",
    "    #setter\n",
    "    def set_password(self, newpassword):\n",
    "        self.__password = newpassword"
   ]
  },
  {
   "cell_type": "code",
   "execution_count": 15,
   "id": "b9b73ec2-0408-4f87-90ad-9c98d3662941",
   "metadata": {},
   "outputs": [
    {
     "name": "stdout",
     "output_type": "stream",
     "text": [
      "cooking, tennis\n",
      "painting, football\n"
     ]
    }
   ],
   "source": [
    "# Anser 5\n",
    "\n",
    "# method overriding in python means creating a method in a python class with the same name as that of the method present in the parent class. this overrides \n",
    "#its functionality for that specific class\n",
    "#example --\n",
    "\n",
    "class father:\n",
    "    def hobbies(self):\n",
    "        print(\"cooking, tennis\")\n",
    "class child1(father):\n",
    "    pass\n",
    "class child2(father):\n",
    "    def hobbies(self): #method overriding\n",
    "        print(\"painting, football\")\n",
    "        \n",
    "mukesh = child1()\n",
    "suresh = child2()\n",
    "\n",
    "mukesh.hobbies()\n",
    "suresh.hobbies()"
   ]
  },
  {
   "cell_type": "code",
   "execution_count": null,
   "id": "2fc848dd-4b12-44f1-bd3a-7b357e39025d",
   "metadata": {},
   "outputs": [],
   "source": []
  }
 ],
 "metadata": {
  "kernelspec": {
   "display_name": "Python 3 (ipykernel)",
   "language": "python",
   "name": "python3"
  },
  "language_info": {
   "codemirror_mode": {
    "name": "ipython",
    "version": 3
   },
   "file_extension": ".py",
   "mimetype": "text/x-python",
   "name": "python",
   "nbconvert_exporter": "python",
   "pygments_lexer": "ipython3",
   "version": "3.10.8"
  }
 },
 "nbformat": 4,
 "nbformat_minor": 5
}
