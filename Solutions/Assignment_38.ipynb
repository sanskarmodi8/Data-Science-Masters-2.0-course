{
 "cells": [
  {
   "cell_type": "code",
   "execution_count": 1,
   "id": "5e10e309-2f97-4c58-a1c7-7bdf882e9fb7",
   "metadata": {},
   "outputs": [],
   "source": [
    "# Answer 1\n",
    "\n",
    "# Missing values in a dataset refer to the absence of certain data points for specific variables or observations. These missing values can occur due to various reasons such as data entry errors, data corruption, or incomplete data collection. Handling missing values is crucial because they can lead to biased analysis, inaccurate model predictions, and incorrect conclusions. Ignoring missing values may result in incomplete and unreliable insights.\n",
    "\n",
    "# Algorithms that are not affected by missing values include:\n",
    "\n",
    "# Decision Trees: Decision trees can naturally handle missing values during their splitting process.\n",
    "# Random Forests: Random Forests are an ensemble of decision trees, so they can handle missing values similarly to individual decision trees.\n",
    "# K-Nearest Neighbors (KNN): KNN can work with missing values as it only considers the available features for calculating distances."
   ]
  },
  {
   "cell_type": "code",
   "execution_count": 2,
   "id": "11c249d5-b77f-4f4c-8a5e-e6a5eb16a36d",
   "metadata": {},
   "outputs": [
    {
     "name": "stdout",
     "output_type": "stream",
     "text": [
      "      A     B\n",
      "0  10.0   5.0\n",
      "1  20.0  15.0\n",
      "2  25.0  15.0\n",
      "3  30.0  25.0\n",
      "4  40.0  15.0\n"
     ]
    }
   ],
   "source": [
    "# Answer 2\n",
    "\n",
    "# Mean/Median/Mode Imputation: Replace missing values with the mean, median, or mode of the non-missing values for that feature.\n",
    "\n",
    "# Forward Fill/Backward Fill: Propagate the last known value forward or the next known value backward to fill missing values in time-series data.\n",
    "\n",
    "# Interpolation: Use interpolation methods to estimate missing values based on neighboring data points.\n",
    "\n",
    "# Removing Rows: Remove rows with missing values if they are relatively few and won't affect the analysis significantly.\n",
    "\n",
    "# Example (Mean Imputation in Python):\n",
    "\n",
    "import pandas as pd\n",
    "\n",
    "# Create a sample DataFrame with missing values\n",
    "data = {'A': [10, 20, None, 30, 40], 'B': [5, None, 15, 25, None]}\n",
    "df = pd.DataFrame(data)\n",
    "\n",
    "# Mean imputation for column A\n",
    "mean_A = df['A'].mean()\n",
    "df['A'] = df['A'].fillna(mean_A)\n",
    "\n",
    "# Mean imputation for column B\n",
    "mean_B = df['B'].mean()\n",
    "df['B'] = df['B'].fillna(mean_B)\n",
    "\n",
    "print(df)\n",
    "\n"
   ]
  },
  {
   "cell_type": "code",
   "execution_count": 3,
   "id": "c316ddc4-40f8-4347-bedc-a1312a0d9da8",
   "metadata": {},
   "outputs": [],
   "source": [
    "# Answer 3\n",
    "\n",
    "# Imbalanced data refers to a situation where the classes in a dataset have significantly different numbers of instances. It is a common issue in machine learning, especially in binary classification problems, where one class (minority class) has substantially fewer samples compared to the other class (majority class).\n",
    "\n",
    "# If imbalanced data is not handled properly, it can lead to biased models that perform well on the majority class but poorly on the minority class. The classifier might become overly biased towards the majority class, making it challenging to identify the minority class instances. This can have severe consequences, especially in critical applications like medical diagnosis or fraud detection, where correctly identifying the minority class is crucial.\n"
   ]
  },
  {
   "cell_type": "code",
   "execution_count": 4,
   "id": "0a274d33-2790-456c-a74a-a54e0f49fcd9",
   "metadata": {},
   "outputs": [],
   "source": [
    "# Answer 4\n",
    "\n",
    "# Up-sampling and Down-sampling are techniques used to address imbalanced data:\n",
    "\n",
    "# Up-sampling: It involves increasing the number of instances in the minority class by generating synthetic samples or duplicating existing ones. It helps balance the class distribution and provides more representative data for the minority class.\n",
    "\n",
    "# Down-sampling: It involves reducing the number of instances in the majority class by randomly removing samples. It helps balance the class distribution and prevents the model from being biased towards the majority class.\n",
    "\n",
    "# Example:\n",
    "# Let's say we have a binary classification problem to detect fraudulent transactions (minority class) with only a few positive instances compared to non-fraudulent transactions (majority class). We can use up-sampling to create more synthetic fraudulent transactions and down-sampling to reduce the number of non-fraudulent transactions.\n"
   ]
  },
  {
   "cell_type": "code",
   "execution_count": 5,
   "id": "ba83e56d-5af0-46a5-a3d8-4474ba388e63",
   "metadata": {},
   "outputs": [],
   "source": [
    "# Answer 5\n",
    "\n",
    "# Data Augmentation is a technique used to increase the diversity of the training dataset by creating modified versions of the existing data. It is commonly used in computer vision tasks, natural language processing, and other areas of machine learning.\n",
    "\n",
    "# SMOTE (Synthetic Minority Over-sampling Technique) is a specific data augmentation technique used to address imbalanced datasets. It creates synthetic instances of the minority class by interpolating between existing minority class instances.\n"
   ]
  },
  {
   "cell_type": "code",
   "execution_count": 6,
   "id": "d8870770-6da4-4639-9b70-0fbb9059e129",
   "metadata": {},
   "outputs": [],
   "source": [
    "# Answer 6\n",
    "\n",
    "# Outliers are data points that significantly deviate from the rest of the data in a dataset. They can be unusually high or low values compared to the majority of the data. Handling outliers is essential because they can distort the statistical analysis and modeling process, leading to biased results and negatively affecting model performance.\n",
    "\n",
    "# Outliers can arise due to various reasons, including data entry errors, measurement errors, or genuine extreme events. They can impact the mean, standard deviation, and other statistical measures, making them unreliable."
   ]
  },
  {
   "cell_type": "code",
   "execution_count": 7,
   "id": "05f4427c-9e83-4fea-aa56-c49eed40cb2e",
   "metadata": {},
   "outputs": [],
   "source": [
    "# Answer 7\n",
    "\n",
    "# Techniques to handle missing data in customer data analysis:\n",
    "\n",
    "# Mean/Median Imputation: Replace missing values with the mean or median of the non-missing values for a particular feature.\n",
    "# Forward Fill/Backward Fill: Propagate the last known value forward or the next known value backward to fill missing values, particularly in time-series data.\n",
    "# Interpolation: Use interpolation methods to estimate missing values based on neighboring data points or trends."
   ]
  },
  {
   "cell_type": "code",
   "execution_count": 8,
   "id": "6187a3e3-ab49-4284-9fad-9c2f613f7232",
   "metadata": {},
   "outputs": [],
   "source": [
    "# Answer 8\n",
    "\n",
    "# Strategies to determine if missing data is missing at random or follows a pattern:\n",
    "\n",
    "# Statistical Tests: Conduct statistical tests to check if there is a significant difference in distributions between missing and non-missing values.\n",
    "# Visualization: Create visualizations to understand patterns in missing data and explore if certain groups or conditions have higher missingness.\n",
    "# Correlation Analysis: Check if missing values are correlated with other variables in the dataset."
   ]
  },
  {
   "cell_type": "code",
   "execution_count": 9,
   "id": "ccf30456-6203-4b6e-8b23-fec35fe7be02",
   "metadata": {},
   "outputs": [],
   "source": [
    "# Answer 9\n",
    "\n",
    "# Strategies to evaluate performance on an imbalanced medical diagnosis dataset:\n",
    "\n",
    "# Confusion Matrix: Use the confusion matrix to evaluate true positives, true negatives, false positives, and false negatives.\n",
    "# Precision, Recall, F1-Score: Calculate precision, recall, and F1-score, which are suitable evaluation metrics for imbalanced datasets.\n",
    "# ROC Curve and AUC: Plot the Receiver Operating Characteristic (ROC) curve and calculate the Area Under the Curve (AUC) to assess the model's performance.\n"
   ]
  },
  {
   "cell_type": "code",
   "execution_count": 10,
   "id": "b7040917-8b9e-4334-a47a-17f6d3ac54db",
   "metadata": {},
   "outputs": [],
   "source": [
    "# Answer 10\n",
    "\n",
    "# Methods to balance a dataset with a majority class:\n",
    "\n",
    "# Random Under-sampling: Randomly remove instances from the majority class to reduce its size and achieve a balanced dataset.\n",
    "# Cluster Centroids: Use clustering algorithms to identify centroids of the majority class and remove instances around these centroids.\n",
    "# Tomek Links: Identify Tomek links (pairs of instances from different classes that are close to each other) and remove the majority class instance.\n"
   ]
  },
  {
   "cell_type": "code",
   "execution_count": null,
   "id": "7d6e9c5e-dbbc-484b-9611-423ac3a1c103",
   "metadata": {},
   "outputs": [],
   "source": [
    "# Answer 11\n",
    "\n",
    "# Methods to balance a dataset with a minority class:\n",
    "\n",
    "# Synthetic Minority Over-sampling Technique (SMOTE): Generate synthetic instances of the minority class by interpolating between existing instances.\n",
    "# ADASYN (Adaptive Synthetic Sampling): Similar to SMOTE but adds more synthetic instances to difficult-to-learn examples.\n",
    "# Random Over-sampling: Randomly duplicate instances from the minority class to increase its size and balance the dataset."
   ]
  }
 ],
 "metadata": {
  "kernelspec": {
   "display_name": "Python 3 (ipykernel)",
   "language": "python",
   "name": "python3"
  },
  "language_info": {
   "codemirror_mode": {
    "name": "ipython",
    "version": 3
   },
   "file_extension": ".py",
   "mimetype": "text/x-python",
   "name": "python",
   "nbconvert_exporter": "python",
   "pygments_lexer": "ipython3",
   "version": "3.10.8"
  }
 },
 "nbformat": 4,
 "nbformat_minor": 5
}
