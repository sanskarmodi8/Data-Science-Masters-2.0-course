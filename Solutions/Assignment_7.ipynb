{
 "cells": [
  {
   "cell_type": "code",
   "execution_count": 2,
   "id": "15c00649-4532-4760-8a93-d70bac8cbfcc",
   "metadata": {},
   "outputs": [],
   "source": [
    "# Answer 1\n",
    "\n",
    "#Exceptions in python are the cases where some internally triggered events changes the normal flow of the program.\n",
    "\n",
    "#Difference between syntax errors and exceptions --\n",
    "# Syntax errors are the problems/errors in the syntax which will stop the execution of the code whereas exceptions are raised when some internal events\n",
    "# results in the undesirable output or it leads to deflect from normal flow."
   ]
  },
  {
   "cell_type": "code",
   "execution_count": 4,
   "id": "a84f8985-d70b-48ab-908e-ebb2c2ff4a52",
   "metadata": {},
   "outputs": [],
   "source": [
    "# Answer 2\n",
    "\n",
    "# when an exception is not handled it will certainly produce an error or an undesirable output and the code will stop if an error occured. Example--\n",
    "\n",
    "# a = 24/0  ##if you run this line, it will produce 0 division error and hence code will stop executing and below code will not be executed\n",
    "# some important code here"
   ]
  },
  {
   "cell_type": "code",
   "execution_count": 6,
   "id": "606d1a30-13d6-48a0-a25e-aa4b793a2014",
   "metadata": {},
   "outputs": [
    {
     "name": "stdout",
     "output_type": "stream",
     "text": [
      "ERROR: division by zero\n",
      "program ends here\n"
     ]
    }
   ],
   "source": [
    "# Answer 3\n",
    "\n",
    "#try except else finally are 4 statements are used to catch and handle exceptions although just try and except are sufficient to catch errors. eg--\n",
    "\n",
    "try:\n",
    "    b=24/0\n",
    "except ZeroDivisionError as e:\n",
    "    print(\"ERROR: {}\".format(e))\n",
    "else:\n",
    "    print(b)\n",
    "finally:\n",
    "    print(\"program ends here\")"
   ]
  },
  {
   "cell_type": "code",
   "execution_count": 9,
   "id": "ba9aee61-ad5d-4896-bebb-ba56dec31aca",
   "metadata": {},
   "outputs": [
    {
     "name": "stdout",
     "output_type": "stream",
     "text": [
      "ERROR: division by zero\n",
      "program ends here\n",
      "Only integers are allowed\n"
     ]
    }
   ],
   "source": [
    "# Answer 4\n",
    "\n",
    "#example explaining \"a\" and \"b\" --\n",
    "try:                                #will try to execute this block of code\n",
    "    c=24/0\n",
    "except ZeroDivisionError as e:      #will catch an exception if raised so that there are no chances of code to stop executing\n",
    "    print(\"ERROR: {}\".format(e))\n",
    "else:                               #will execute only if there are no exceptions\n",
    "    print(c) \n",
    "finally:                            #will execute always\n",
    "    #some important code here\n",
    "    print(\"program ends here\")\n",
    "    \n",
    "#example for \"c\" --\n",
    "\n",
    "class check(Exception):\n",
    "    def __init__(self, msg):\n",
    "        self.msg = msg\n",
    "        \n",
    "def checktype(inp):   \n",
    "    if not type(inp) is int:\n",
    "      raise check(\"Only integers are allowed\") #raises an exception although custom here, can also be used for predefined exceptions\n",
    "    \n",
    "try:\n",
    "    d = \"myinput\" #assume we got this on input where only integers are allowed\n",
    "    checktype(d)\n",
    "except check as e:\n",
    "    print(e)"
   ]
  },
  {
   "cell_type": "code",
   "execution_count": 10,
   "id": "83419c7e-c085-436c-a35a-506b2f5dcf09",
   "metadata": {},
   "outputs": [
    {
     "name": "stdout",
     "output_type": "stream",
     "text": [
      "Only integers are allowed\n"
     ]
    }
   ],
   "source": [
    "# Answer 5\n",
    "\n",
    "# custom exceptions in python are the exceptions created by us based on our requirements. We need custom exceptions because if we dont want some output\n",
    "# that is completely fine wrt python then we cant do anything if we wont have custom exceptions\n",
    "#eg --\n",
    "\n",
    "class check(Exception):          #inherits the Exception class\n",
    "    def __init__(self, msg):\n",
    "        self.msg = msg\n",
    "        \n",
    "def checktype(inp):   \n",
    "    if not type(inp) is int:\n",
    "      raise check(\"Only integers are allowed\") #raises our custom exception if input is not of type int\n",
    "    \n",
    "try:\n",
    "    d = \"myinput\" #assume we got this on input where only integers are allowed\n",
    "    checktype(d)\n",
    "except check as e:\n",
    "    print(e)"
   ]
  },
  {
   "cell_type": "code",
   "execution_count": 11,
   "id": "7ffdd11a-c5bf-4031-b30e-07cf3e59c6c8",
   "metadata": {},
   "outputs": [
    {
     "name": "stdout",
     "output_type": "stream",
     "text": [
      "Only integers are allowed\n"
     ]
    }
   ],
   "source": [
    "# Answer 6\n",
    "\n",
    "class check(Exception):\n",
    "    def __init__(self, msg):\n",
    "        self.msg = msg\n",
    "        \n",
    "def checktype(inp):   \n",
    "    if not type(inp) is int:\n",
    "      raise check(\"Only integers are allowed\")\n",
    "    \n",
    "try:\n",
    "    d = \"myinput\" #assume we got this on input where only integers are allowed\n",
    "    checktype(d)\n",
    "except check as e:\n",
    "    print(e)"
   ]
  },
  {
   "cell_type": "code",
   "execution_count": null,
   "id": "4685ab3a-f4f7-4989-a6e2-6ad50864413e",
   "metadata": {},
   "outputs": [],
   "source": []
  }
 ],
 "metadata": {
  "kernelspec": {
   "display_name": "Python 3 (ipykernel)",
   "language": "python",
   "name": "python3"
  },
  "language_info": {
   "codemirror_mode": {
    "name": "ipython",
    "version": 3
   },
   "file_extension": ".py",
   "mimetype": "text/x-python",
   "name": "python",
   "nbconvert_exporter": "python",
   "pygments_lexer": "ipython3",
   "version": "3.10.8"
  }
 },
 "nbformat": 4,
 "nbformat_minor": 5
}
