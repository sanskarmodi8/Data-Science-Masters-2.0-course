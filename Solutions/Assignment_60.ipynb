{
 "cells": [
  {
   "cell_type": "code",
   "execution_count": 1,
   "id": "7e20a099-dc26-4029-ab0b-75c651701573",
   "metadata": {},
   "outputs": [],
   "source": [
    "# Answer 1\n",
    "\n",
    "# Bayes' theorem is a fundamental concept in probability theory and statistics. It describes how to update the probability of a hypothesis based on new evidence or information. It's particularly useful for dealing with conditional probabilities, where the probability of an event occurring is influenced by the occurrence of another event.\n",
    "\n"
   ]
  },
  {
   "cell_type": "code",
   "execution_count": 2,
   "id": "2245f820-114c-4a24-bfad-b59a9cdc4c5b",
   "metadata": {},
   "outputs": [],
   "source": [
    "# Answer 2\n",
    "\n",
    "# P(A/B) = ( P(B/A) . P(A) ) / P(B)"
   ]
  },
  {
   "cell_type": "code",
   "execution_count": 3,
   "id": "139653bc-5f8c-4a00-be71-2a81b1c08c0d",
   "metadata": {},
   "outputs": [],
   "source": [
    "# Answer 3\n",
    "\n",
    "# Bayes' theorem has numerous applications, including but not limited to:\n",
    "\n",
    "# Medical Diagnosis: Calculating the probability of a disease given certain symptoms.\n",
    "# Spam Filtering: Determining the likelihood of an email being spam based on its content.\n",
    "# Natural Language Processing: Language modeling, text generation, and sentiment analysis.\n",
    "# Machine Learning: Bayesian methods are used in various machine learning algorithms for classification, regression, and more.\n",
    "# A/B Testing: Analyzing the effectiveness of different versions of a product or webpage.\n"
   ]
  },
  {
   "cell_type": "code",
   "execution_count": 4,
   "id": "7dd9a226-996f-4c8c-b048-099f947bd9b5",
   "metadata": {},
   "outputs": [],
   "source": [
    "# Answer 4\n",
    "\n",
    "# Bayes' theorem connects conditional probability and inverse conditional probability. It helps update our beliefs about the probability of a hypothesis (an event or an outcome) based on new evidence (conditional information). In other words, it provides a way to reverse the direction of a conditional probability statement."
   ]
  },
  {
   "cell_type": "code",
   "execution_count": 5,
   "id": "0d0722e3-cdad-48d8-b515-c974885503bd",
   "metadata": {},
   "outputs": [],
   "source": [
    "# Answer 5\n",
    "\n",
    "# When choosing a type of Naive Bayes classifier, the decision often depends on the nature of your data and the assumptions you are willing to make:\n",
    "\n",
    "# Gaussian Naive Bayes: Assumes that the features follow a Gaussian (normal) distribution.\n",
    "# Multinomial Naive Bayes: Suitable for discrete data like text, where features represent counts or frequencies.\n",
    "# Bernoulli Naive Bayes: Used for binary or boolean features, where each feature is either present or absent.\n",
    "# The choice depends on the type of data and the distribution of the features in your dataset.\n",
    "\n"
   ]
  },
  {
   "cell_type": "code",
   "execution_count": 6,
   "id": "668d8d35-500b-4011-ab16-b3e94eb6163d",
   "metadata": {},
   "outputs": [],
   "source": [
    "# Answer 6\n",
    "\n",
    "# For the new instance (X1=3, X2=4) the likelihood of class A would be\n",
    "# P(X1=3/A) . P(X2=4/A) = 4/10 . 3/10\n",
    "\n",
    "# And the likelihood for class B would be\n",
    "# P(X1=3/B) . P(X2=4/B) = 1/8 . 3/8\n",
    "\n",
    "# likelihood for class A is higher. Therefore, based on Naive Bayes classification, the new instance with features X1 = 3 and X2 = 4 would be predicted to belong to class A."
   ]
  },
  {
   "cell_type": "code",
   "execution_count": null,
   "id": "94e6c62b-9a4b-4474-a351-8682d9547706",
   "metadata": {},
   "outputs": [],
   "source": []
  }
 ],
 "metadata": {
  "kernelspec": {
   "display_name": "Python 3 (ipykernel)",
   "language": "python",
   "name": "python3"
  },
  "language_info": {
   "codemirror_mode": {
    "name": "ipython",
    "version": 3
   },
   "file_extension": ".py",
   "mimetype": "text/x-python",
   "name": "python",
   "nbconvert_exporter": "python",
   "pygments_lexer": "ipython3",
   "version": "3.10.8"
  }
 },
 "nbformat": 4,
 "nbformat_minor": 5
}
