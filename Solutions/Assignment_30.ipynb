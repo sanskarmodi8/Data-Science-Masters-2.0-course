{
 "cells": [
  {
   "cell_type": "code",
   "execution_count": 1,
   "id": "f8b9aabb-9175-4cd2-9731-815cad2209eb",
   "metadata": {},
   "outputs": [],
   "source": [
    "# Answer 1\n",
    "\n",
    "# Probability Mass Function (PMF) and Probability Density Function (PDF) are both used to describe the probability distribution of a random variable, but they apply to different types of variables.\n",
    "\n",
    "# Probability Mass Function (PMF):\n",
    "\n",
    "# PMF is used for discrete random variables.\n",
    "# It gives the probability of the random variable taking on a specific value.\n",
    "# PMF provides a mapping of each possible value to its probability.\n",
    "# The sum of all probabilities in the PMF is equal to 1.\n",
    "# Example of PMF:\n",
    "# Consider a fair six-sided die. The PMF for rolling the die is given by:\n",
    "# P(X = 1) = P(X = 2) = P(X = 3) = P(X = 4) = P(X = 5) = P(X = 6) = 1/6\n",
    "\n",
    "# Probability Density Function (PDF):\n",
    "\n",
    "# PDF is used for continuous random variables.\n",
    "# It represents the likelihood of a random variable falling within an infinitesimal interval around a specific value.\n",
    "# Unlike PMF, PDF doesn't give the probability of a single value, but it provides the probability density at that point.\n",
    "# The area under the PDF curve over a range represents the probability of the random variable falling within that range.\n",
    "# Example of PDF:\n",
    "# The standard normal distribution has a PDF given by the bell-shaped curve formula:\n",
    "# f(x) = (1 / √(2π)) * e^(-x^2/2), where x is the value of the random variable."
   ]
  },
  {
   "cell_type": "code",
   "execution_count": 2,
   "id": "3ca86598-c229-43c6-9e8a-16500de24177",
   "metadata": {},
   "outputs": [],
   "source": [
    "# Answer 2\n",
    "\n",
    "# Cumulative Density Function (CDF) is a function associated with a probability distribution. For a given value \"x,\" the CDF gives the probability that the random variable is less than or equal to \"x.\"\n",
    "\n",
    "# Mathematically, for a random variable X, the CDF is denoted by F(x), and it is defined as:\n",
    "# F(x) = P(X ≤ x)\n",
    "\n",
    "# Example of CDF:\n",
    "# For a fair six-sided die, the CDF is as follows:\n",
    "# F(x) = 0 for x < 1\n",
    "# F(x) = 1/6 for 1 ≤ x < 2\n",
    "# F(x) = 2/6 for 2 ≤ x < 3\n",
    "# F(x) = 3/6 for 3 ≤ x < 4\n",
    "# F(x) = 4/6 for 4 ≤ x < 5\n",
    "# F(x) = 5/6 for 5 ≤ x < 6\n",
    "# F(x) = 1 for x ≥ 6\n",
    "\n",
    "# The CDF is used to find probabilities for specific ranges of values, compute percentiles, and calculate various statistics related to the probability distribution."
   ]
  },
  {
   "cell_type": "code",
   "execution_count": 3,
   "id": "55842171-8ccf-416e-a5de-706e8fd404cb",
   "metadata": {},
   "outputs": [],
   "source": [
    "# Answer 4\n",
    "\n",
    "# Examples of situations where the normal distribution might be used as a model include:\n",
    "\n",
    "# Heights of Adult Males: The heights of adult males often follow a normal distribution, with the mean and standard deviation capturing the average height and the spread of heights, respectively.\n",
    "\n",
    "# Test Scores: In large populations, test scores for standardized exams often approximate a normal distribution, with the mean representing the average score and the standard deviation indicating the score variation.\n",
    "\n",
    "# Errors in Measurements: When measuring physical quantities, measurement errors are commonly assumed to follow a normal distribution, with the mean centered around zero.\n",
    "\n",
    "# Parameters of the normal distribution:\n",
    "\n",
    "# In the normal distribution, there are two parameters: the mean (μ) and the standard deviation (σ). The mean determines the center or peak of the distribution, while the standard deviation controls the spread or width of the distribution.\n",
    "\n",
    "# When the mean (μ) increases, the entire distribution shifts to the right, and vice versa.\n",
    "# When the standard deviation (σ) increases, the distribution becomes wider, and vice versa."
   ]
  },
  {
   "cell_type": "code",
   "execution_count": 4,
   "id": "9923346e-70c6-4133-bd54-3a227dc45020",
   "metadata": {},
   "outputs": [],
   "source": [
    "# Answer 5\n",
    "\n",
    "# Bernoulli Distribution:\n",
    "# The Bernoulli distribution models a random experiment with two possible outcomes: success (usually denoted by \"1\") or failure (usually denoted by \"0\"). It is used for a single trial or event, and the probability of success (denoted by \"p\") remains constant across trials.\n",
    "\n",
    "# Example of Bernoulli Distribution:\n",
    "# Tossing a fair coin can be modeled using a Bernoulli distribution. If we define \"success\" as getting heads and \"failure\" as getting tails, then the probability of success (p) is 0.5.\n",
    "\n",
    "# Difference between Bernoulli Distribution and Binomial Distribution:\n",
    "\n",
    "# Number of Trials:\n",
    "\n",
    "# Bernoulli Distribution: It represents a single trial or event with two outcomes.\n",
    "# Binomial Distribution: It represents the number of successes in a fixed number of independent Bernoulli trials.\n",
    "# Nature of the Random Variable:\n",
    "\n",
    "# Bernoulli Distribution: The random variable takes only two possible values (0 or 1).\n",
    "# Binomial Distribution: The random variable takes discrete values representing the count of successes in \"n\" trials.\n",
    "# Parameters:\n",
    "\n",
    "# Bernoulli Distribution: It has one parameter \"p\" (probability of success in a single trial).\n",
    "# Binomial Distribution: It has two parameters, \"n\" (number of trials) and \"p\" (probability of success in each trial).\n"
   ]
  },
  {
   "cell_type": "code",
   "execution_count": 5,
   "id": "36f3f45d-2d74-445e-80e1-229462eea75c",
   "metadata": {},
   "outputs": [],
   "source": [
    "# Answer 6\n",
    "\n",
    "# To find the probability that a randomly selected observation from a normally distributed dataset is greater than 60, we can use the z-score formula and standard normal table (or a calculator).\n",
    "\n",
    "# Step 1: Calculate the z-score using the formula:\n",
    "# z = (x - μ) / σ\n",
    "# where x = 60 (the value we want to find the probability for), μ = 50 (mean), and σ = 10 (standard deviation).\n",
    "\n",
    "# z = (60 - 50) / 10\n",
    "# z = 1\n",
    "\n",
    "# Step 2: Use the standard normal table (or a calculator) to find the probability corresponding to the z-score of 1. The standard normal table gives the cumulative probability up to a certain z-score, so we need to find the complement for the probability of being greater than 1.\n",
    "\n",
    "# From the standard normal table, the probability of being less than z = 1 is approximately 0.8413. Therefore, the probability of being greater than 1 (1 minus the cumulative probability) is:\n",
    "# P(Z > 1) = 1 - 0.8413\n",
    "# P(Z > 1) ≈ 0.1587\n",
    "\n",
    "# So, the probability that a randomly selected observation from the dataset will be greater than 60 is approximately 0.1587 or 15.87%."
   ]
  },
  {
   "cell_type": "code",
   "execution_count": 6,
   "id": "66108680-f71a-4b11-8190-6a8ecd65885f",
   "metadata": {},
   "outputs": [],
   "source": [
    "# Answer 7\n",
    "\n",
    "# The uniform distribution is a continuous probability distribution where all outcomes within a specified range are equally likely to occur. In other words, the probability density function (PDF) remains constant over the entire range, resulting in a constant probability of any value within that range.\n",
    "\n",
    "# Example of Uniform Distribution:\n",
    "# An example of a uniform distribution is rolling a fair six-sided die. The possible outcomes (1 to 6) are equally likely, and the probability of rolling any specific number is 1/6, making it a uniform distribution over the range [1, 6].\n",
    "\n",
    "# The probability density function (PDF) of a uniform distribution on the interval [a, b] is given by:\n",
    "# f(x) = 1 / (b - a) for a ≤ x ≤ b\n",
    "# f(x) = 0 for x < a or x > b"
   ]
  },
  {
   "cell_type": "code",
   "execution_count": 7,
   "id": "50157d31-5533-4786-95da-5ac5f503e48c",
   "metadata": {},
   "outputs": [],
   "source": [
    "# Answer 8\n",
    "\n",
    "# The z-score (also known as the standard score) is a statistical measure that quantifies how many standard deviations a data point is away from the mean of a dataset. It is used to standardize data and compare observations from different distributions.\n",
    "\n",
    "# The formula for calculating the z-score of a data point \"x\" in a dataset with mean \"μ\" and standard deviation \"σ\" is given by:\n",
    "# z = (x - μ) / σ\n",
    "\n",
    "# Importance of the z-score:\n",
    "\n",
    "# Standardization: The z-score standardizes data, transforming it into a common scale with a mean of 0 and a standard deviation of 1. This allows for easier comparison and interpretation of data.\n",
    "\n",
    "# Outlier Detection: Z-scores help identify outliers in a dataset. Data points with z-scores significantly larger or smaller than the majority of the data are potential outliers.\n",
    "\n",
    "# Probability Calculation: The z-score is used to find probabilities corresponding to specific data points in a standard normal distribution using the standard normal table."
   ]
  },
  {
   "cell_type": "code",
   "execution_count": 8,
   "id": "86432407-ed75-4224-83f9-a1ac45c570c4",
   "metadata": {},
   "outputs": [],
   "source": [
    "# Answer 9\n",
    "\n",
    "# The Central Limit Theorem (CLT) is a fundamental concept in statistics. It states that the sampling distribution of the sample mean of a sufficiently large number of independent and identically distributed random samples will be approximately normally distributed, regardless of the shape of the original population's distribution.\n",
    "\n",
    "# Significance of the Central Limit Theorem:\n",
    "\n",
    "# Normality Assurance: The CLT allows us to assume that the sample mean follows a normal distribution, even if the underlying population distribution is not normal. This enables the use of normal-based statistical methods for inference.\n",
    "\n",
    "# Sampling Accuracy: The CLT is especially valuable when dealing with large sample sizes. It assures that the sample mean is an accurate estimate of the population mean, and the distribution of sample means has less variability than individual data points.\n",
    "\n",
    "# Foundation for Inference: The CLT is the basis for many statistical techniques, such as hypothesis testing, confidence intervals, and regression analysis. It enables statisticians to draw conclusions about population parameters based on sample data."
   ]
  },
  {
   "cell_type": "code",
   "execution_count": null,
   "id": "38cc750b-7c35-45ca-bd83-c5583c8e9793",
   "metadata": {},
   "outputs": [],
   "source": [
    "# Answer 10\n",
    "\n",
    "# The Central Limit Theorem (CLT) relies on the following assumptions:\n",
    "\n",
    "# Random Sampling: The samples should be randomly selected from the population of interest. Each sample should be independent of the others.\n",
    "\n",
    "# Sample Size: The sample size should be sufficiently large. While there is no strict rule for what constitutes a \"large\" sample size, as a general guideline, a sample size of at least 30 is often considered large enough for the CLT to hold.\n",
    "\n",
    "# Identically Distributed: The sampled observations should be identically distributed. In other words, the data points within each sample should come from the same population and follow the same underlying distribution.\n",
    "\n",
    "# If these assumptions are met, the CLT allows us to make inferences about the population mean using the sample mean, even when the population distribution is non-normal or unknown."
   ]
  }
 ],
 "metadata": {
  "kernelspec": {
   "display_name": "Python 3 (ipykernel)",
   "language": "python",
   "name": "python3"
  },
  "language_info": {
   "codemirror_mode": {
    "name": "ipython",
    "version": 3
   },
   "file_extension": ".py",
   "mimetype": "text/x-python",
   "name": "python",
   "nbconvert_exporter": "python",
   "pygments_lexer": "ipython3",
   "version": "3.10.8"
  }
 },
 "nbformat": 4,
 "nbformat_minor": 5
}
