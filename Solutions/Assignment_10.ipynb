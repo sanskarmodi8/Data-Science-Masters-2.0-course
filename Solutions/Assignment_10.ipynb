{
 "cells": [
  {
   "cell_type": "code",
   "execution_count": null,
   "id": "c05d8dc3-89ad-46c5-a781-9b66aed7059b",
   "metadata": {},
   "outputs": [],
   "source": [
    "# Answer 1\n",
    "\n",
    "# Multiprocessing in Python refers to the ability to execute multiple processes simultaneously, leveraging the full capabilities of multiple CPU cores\n",
    "\n",
    "# Multiprocessing in Python is useful because it allows for true parallel execution, leveraging multiple CPU cores for improved performance, \n",
    "# and efficient utilization of available resources."
   ]
  },
  {
   "cell_type": "code",
   "execution_count": null,
   "id": "95ba7872-756f-44d0-a95f-882740819a5a",
   "metadata": {},
   "outputs": [],
   "source": [
    "# Answer 2\n",
    "\n",
    "# In multiprocessing, multiple processes are created and run concurrently, each with its own memory space. In multithreading, multiple threads\n",
    "# are executed within a single process and share the same memory space.\n",
    "# Debugging multithreaded programs can be more challenging due to race conditions and synchronization issues. In multiprocessing, crashes or errors in \n",
    "# one process generally do not affect others, providing better stability and fault isolation."
   ]
  },
  {
   "cell_type": "code",
   "execution_count": 5,
   "id": "2bb066fd-d966-4782-8e9f-1639801300e2",
   "metadata": {},
   "outputs": [
    {
     "name": "stdout",
     "output_type": "stream",
     "text": [
      "[1, 4, 9, 16, 25, 36, 49, 64, 81, 100]\n",
      "Main process finished\n"
     ]
    }
   ],
   "source": [
    "# Answer 3\n",
    "\n",
    "import multiprocessing\n",
    "\n",
    "def square(l):\n",
    "    print([i**2 for i in l])\n",
    "\n",
    "if __name__ == '__main__':\n",
    "    \n",
    "    process = multiprocessing.Process(target=square, args=([1,2,3,4,5,6,7,8,9,10],))\n",
    "\n",
    "    process.start()\n",
    "\n",
    "    process.join()\n",
    "\n",
    "    print(\"Main process finished\")\n"
   ]
  },
  {
   "cell_type": "code",
   "execution_count": null,
   "id": "65c8b1c4-1c52-4ce8-8304-0b7076ddba4b",
   "metadata": {},
   "outputs": [],
   "source": [
    "# Answer 4\n",
    "\n",
    "# In Python, a multiprocessing pool refers to a pool of worker processes that can be used to execute tasks in parallel.The pool\n",
    "# automatically manages process creation, distribution of tasks, and termination of processes.\n",
    "\n",
    "# Using a multiprocessing pool simplifies the management of parallel execution by abstracting away the low-level details of \n",
    "# process creation, distribution of tasks, and result retrieval. It provides a higher-level interface and automates the process management, making it\n",
    "# easier to parallelize tasks and leverage multiple CPU cores effectively."
   ]
  },
  {
   "cell_type": "code",
   "execution_count": 6,
   "id": "62fda452-61a8-454d-b726-4e1b9b9cd3e9",
   "metadata": {},
   "outputs": [
    {
     "name": "stdout",
     "output_type": "stream",
     "text": [
      "[2, 4, 6, 8, 10]\n"
     ]
    }
   ],
   "source": [
    "# Answer 5\n",
    "\n",
    "# To create a pool of worker processes in Python using the multiprocessing module, you can utilize the Pool class. \n",
    "# Here's an example of how to create a pool of worker processes:\n",
    "\n",
    "import multiprocessing\n",
    "\n",
    "def process_task(task):\n",
    "    # Perform task processing here\n",
    "    return task * 2\n",
    "\n",
    "if __name__ == '__main__':\n",
    "    \n",
    "    # Create a pool of worker processes with the desired number of processes\n",
    "    num_processes = multiprocessing.cpu_count()  \n",
    "    pool = multiprocessing.Pool(processes=num_processes)\n",
    "\n",
    "    # Submit tasks to the pool for parallel processing\n",
    "    tasks = [1, 2, 3, 4, 5]\n",
    "    results = pool.map(process_task, tasks)\n",
    "\n",
    "    # Close the pool and wait for the worker processes to finish\n",
    "    pool.close()\n",
    "    pool.join()\n",
    "\n",
    "    # Access the results of the processed tasks\n",
    "    print(results)\n"
   ]
  },
  {
   "cell_type": "code",
   "execution_count": 9,
   "id": "6891ea2d-16c1-4cb8-bacc-80e95eb97ffc",
   "metadata": {},
   "outputs": [
    {
     "name": "stdout",
     "output_type": "stream",
     "text": [
      "Process-77 prints number : 1\n",
      "Process-78 prints number : 2\n",
      "Process-79 prints number : 3\n",
      "Process-80 prints number : 4\n",
      "All processes finished\n"
     ]
    }
   ],
   "source": [
    "# Answer 6\n",
    "\n",
    "import multiprocessing\n",
    "\n",
    "def printnum(num):\n",
    "    print(f\"{multiprocessing.current_process().name} prints number : {num}\")\n",
    "if __name__ == '__main__':\n",
    "    processes = []\n",
    "    for i in range(1,5):\n",
    "        process = multiprocessing.Process(target=printnum, args = (i,))\n",
    "        processes.append(process)\n",
    "        process.start()\n",
    "        \n",
    "for p in processes:\n",
    "    p.join()\n",
    "print(\"All processes finished\")"
   ]
  },
  {
   "cell_type": "code",
   "execution_count": null,
   "id": "10f649a2-d22a-41b6-a16e-3bc345d24273",
   "metadata": {},
   "outputs": [],
   "source": []
  }
 ],
 "metadata": {
  "kernelspec": {
   "display_name": "Python 3 (ipykernel)",
   "language": "python",
   "name": "python3"
  },
  "language_info": {
   "codemirror_mode": {
    "name": "ipython",
    "version": 3
   },
   "file_extension": ".py",
   "mimetype": "text/x-python",
   "name": "python",
   "nbconvert_exporter": "python",
   "pygments_lexer": "ipython3",
   "version": "3.10.8"
  }
 },
 "nbformat": 4,
 "nbformat_minor": 5
}
