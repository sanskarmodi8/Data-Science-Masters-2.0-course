{
 "cells": [
  {
   "cell_type": "code",
   "execution_count": 1,
   "id": "79aa967e-5897-4dd4-9d4e-391c9cca9fda",
   "metadata": {},
   "outputs": [],
   "source": [
    "# Answer 1\n",
    "\n",
    "# Database is where we can store some data which can be accessed later on when needed.\n",
    "#SQL databases use a structured, tabular data model, while NoSQL databases employs flexible data models and it stores data in JSON format."
   ]
  },
  {
   "cell_type": "code",
   "execution_count": 4,
   "id": "2b151ad0-ad5e-42a5-a36d-65e713ad7e91",
   "metadata": {},
   "outputs": [],
   "source": [
    "# Answer 2\n",
    "\n",
    "# DDL stands for Data Definition Language. It is a subset of SQL that is used to define and manage the structure of a database. \n",
    "# DDL statements are used to create, modify, and delete database objects such as tables, indexes, and constraints.\n",
    "\n",
    "\n",
    "# CREATE TABLE Customers (   #creates a table with column names as CutomerID, Name and Email which stores INT, String and string datatypes respectively\n",
    "#     CustomerID INT,\n",
    "#     Name VARCHAR(50),\n",
    "#     Email VARCHAR(100)\n",
    "# );\n",
    "\n",
    "\n",
    "# DROP TABLE Customers;  #removes the database Customers\n",
    "\n",
    "\n",
    "# ALTER TABLE Customers    #modifies existing database structure by adding a column Age which stores integers\n",
    "# ADD Age INT;\n",
    "\n",
    "\n",
    "# TRUNCATE TABLE Customers;   #deletes the data in the table while keeping the table/structure intact.\n"
   ]
  },
  {
   "cell_type": "code",
   "execution_count": null,
   "id": "b62842ee-bdb1-45a5-ac60-0406b36e51d6",
   "metadata": {},
   "outputs": [],
   "source": [
    "# Answer 3\n",
    "\n",
    "#DML stands for Data Manipulation Language. It is a subset of SQL that is used to manage and manipulate data within a database. \n",
    "#DML statements are used to insert, update, and delete data in database tables.\n",
    "\n",
    "\n",
    "# INSERT INTO Customers (CustomerID, Name, Email)    #inserts a new row of data in the database\n",
    "# VALUES (1, 'John Smith', 'john@example.com');\n",
    "\n",
    "\n",
    "# UPDATE Customers                       #used to modify existing data in the table\n",
    "# SET Email = 'newemail@example.com'\n",
    "# WHERE CustomerID = 1;\n",
    "\n",
    "\n",
    "# DELETE FROM Customers   #used to remove rows of data from the table\n",
    "# WHERE CustomerID = 1;\n"
   ]
  },
  {
   "cell_type": "code",
   "execution_count": null,
   "id": "b904a4b5-e08b-47f0-b890-45c4a1bd13c0",
   "metadata": {},
   "outputs": [],
   "source": [
    "# Answer 4\n",
    "\n",
    "# DQL stands for Data Query Language. It is a subset of SQL that is used to retrieve and query data from a database. \n",
    "# DQL statements are primarily focused on selecting and retrieving data based on specified conditions\n",
    "\n",
    "\n",
    "# SELECT CustomerID, Name, Email      #used to retrieve data from one or more tables, here from these 3 mentioned columns from table \n",
    "# FROM Customers                      #Customers applying a condition that country should be equals to usa\n",
    "# WHERE Country = 'USA';\n"
   ]
  },
  {
   "cell_type": "code",
   "execution_count": null,
   "id": "107ea5df-d9c4-4f18-b800-3253a2b99473",
   "metadata": {},
   "outputs": [],
   "source": [
    "# Answer 5\n",
    "\n",
    "# A primary key is a column or a set of columns in a database table that uniquely identifies each row or record. It serves as a unique identifier\n",
    "# for each entry in the table and ensures the uniqueness of the data. \n",
    "\n",
    "#A foreign key is a column or a set of columns in a database table that refers to the primary key of another table\n",
    "#The foreign key in one table refers to the primary key in another table, creating a link between the two"
   ]
  },
  {
   "cell_type": "code",
   "execution_count": null,
   "id": "21eac7bd-9ea4-441b-b7c7-d08873e31c21",
   "metadata": {},
   "outputs": [],
   "source": [
    "# Answer 6\n",
    "\n",
    "#python code to connect mysql to python --\n",
    "\n",
    "import mysql.connector\n",
    "\n",
    "mydb = mysql.connector.connect(\n",
    "  host=\"localhost\",\n",
    "  user=\"yourusername\",\n",
    "  password=\"yourpassword\",\n",
    ")\n",
    "\n",
    "#The cursor() method creates a cursor object that allows you to execute SQL statements and interact with the database. \n",
    "# It is called on the database connection object (mydb in the example) to obtain a cursor.\n",
    "\n",
    "# The execute() method is used to execute SQL queries or statements. It takes the SQL query as a parameter and executes it \n",
    "# using the cursor object \n"
   ]
  },
  {
   "cell_type": "code",
   "execution_count": null,
   "id": "6e6ac097-9345-4e49-875f-df0c93d79966",
   "metadata": {},
   "outputs": [],
   "source": [
    "# Answer 7\n",
    "\n",
    "#the order is as follows --\n",
    "# SELECT\n",
    "# FROM\n",
    "# JOIN\n",
    "# WHERE\n",
    "# GROUP BY\n",
    "# HAVING\n",
    "# ORDER BY\n",
    "# LIMIT/OFFSET"
   ]
  },
  {
   "cell_type": "code",
   "execution_count": null,
   "id": "b80d74be-135c-453a-94ee-a6a63c736751",
   "metadata": {},
   "outputs": [],
   "source": []
  }
 ],
 "metadata": {
  "kernelspec": {
   "display_name": "Python 3 (ipykernel)",
   "language": "python",
   "name": "python3"
  },
  "language_info": {
   "codemirror_mode": {
    "name": "ipython",
    "version": 3
   },
   "file_extension": ".py",
   "mimetype": "text/x-python",
   "name": "python",
   "nbconvert_exporter": "python",
   "pygments_lexer": "ipython3",
   "version": "3.10.8"
  }
 },
 "nbformat": 4,
 "nbformat_minor": 5
}
