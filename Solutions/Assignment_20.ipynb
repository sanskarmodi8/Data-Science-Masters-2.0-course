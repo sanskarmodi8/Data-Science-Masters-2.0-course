{
 "cells": [
  {
   "cell_type": "code",
   "execution_count": 15,
   "id": "a8ed7b9d-4ce1-41c6-9228-e0472c86044c",
   "metadata": {},
   "outputs": [
    {
     "name": "stdout",
     "output_type": "stream",
     "text": [
      "     Name Age  Gender\n",
      "0   Alice  25  Female\n",
      "1     Bob  30    Male\n",
      "2  Claire  27  Female\n"
     ]
    }
   ],
   "source": [
    "import pandas as pd\n",
    "import numpy as np\n",
    "\n",
    "l1 = [\"Alice\", \"25\", \"Female\"]\n",
    "l2 = [\"Bob\", \"30\", \"Male\"]\n",
    "l3 = [\"Claire\", \"27\", \"Female\"]\n",
    "arr = np.array([l1,l2,l3])\n",
    "\n",
    "df = pd.DataFrame(arr, columns=[\"Name\", \"Age\", \"Gender\"])\n",
    "print(df)"
   ]
  },
  {
   "cell_type": "code",
   "execution_count": 16,
   "id": "7a306c5f-ce07-4065-88f9-ffc69b96390d",
   "metadata": {},
   "outputs": [
    {
     "name": "stdout",
     "output_type": "stream",
     "text": [
      "     Name  Age  Gender\n",
      "0   Alice   25  Female\n",
      "1     Bob   30    Male\n",
      "2  Claire   27  Female\n",
      "\n",
      "\n",
      "     Name Age  Gender\n",
      "0   Alice  25  Female\n",
      "2  Claire  27  Female\n",
      "1     Bob  30    Male\n",
      "\n",
      "\n",
      "    Name Age  Gender\n",
      "0  Alice  25  Female\n",
      "\n",
      "\n",
      "     Name Age  Gender\n",
      "1     Bob  30    Male\n",
      "2  Claire  27  Female\n"
     ]
    }
   ],
   "source": [
    "# Answer 1\n",
    "\n",
    "#five functions with execution are -- \n",
    "\n",
    "# 1) to_csv()\n",
    "df.to_csv('output.csv', index=False)\n",
    "\n",
    "# 2) read_csv()\n",
    "df2 = pd.read_csv('output.csv')\n",
    "print(df2)\n",
    "print(\"\\n\")\n",
    "\n",
    "# 3) sort_values()\n",
    "print(df.sort_values(by=\"Age\"))\n",
    "print(\"\\n\")\n",
    "\n",
    "# 4) head()\n",
    "print(df.head(1))\n",
    "print(\"\\n\")\n",
    "\n",
    "# 5) tail()\n",
    "print(df.tail(2))"
   ]
  },
  {
   "cell_type": "code",
   "execution_count": 17,
   "id": "10c286db-9f0b-44dd-8e59-5148e824ab50",
   "metadata": {},
   "outputs": [
    {
     "name": "stdout",
     "output_type": "stream",
     "text": [
      "    A   B   C\n",
      "0   0   1   2\n",
      "1   3   4   5\n",
      "2   6   7   8\n",
      "3   9  10  11\n",
      "4  12  13  14\n",
      "\n",
      "\n",
      "    A   B   C\n",
      "1   0   1   2\n",
      "3   3   4   5\n",
      "5   6   7   8\n",
      "7   9  10  11\n",
      "9  12  13  14\n"
     ]
    }
   ],
   "source": [
    "# Answer 2\n",
    "\n",
    "df = pd.DataFrame(np.arange(0,15).reshape(5,3), columns=[\"A\", \"B\", \"C\"])\n",
    "datafr = df #this line is for use in answer 8\n",
    "print(df)\n",
    "print(\"\\n\")\n",
    "\n",
    "\n",
    "def reindexed_dataframe(dframe):\n",
    "    dframe.index = dframe.index.map(lambda x: x*2 + 1)\n",
    "    return dframe\n",
    "\n",
    "df = reindexed_dataframe(df)\n",
    "print(df)"
   ]
  },
  {
   "cell_type": "code",
   "execution_count": 26,
   "id": "ec9e11a3-3b38-445f-ac89-3ea78e13a338",
   "metadata": {},
   "outputs": [
    {
     "name": "stdout",
     "output_type": "stream",
     "text": [
      "   Values\n",
      "0       0\n",
      "1       1\n",
      "2       2\n",
      "3       3\n",
      "4       4\n",
      "\n",
      "\n",
      "3\n"
     ]
    }
   ],
   "source": [
    "# Answer 3\n",
    "\n",
    "df = pd.DataFrame(np.arange(0,5), columns=['Values'])\n",
    "tempdf = df #this line is to be used for Answer 9\n",
    "print(df)\n",
    "print(\"\\n\")\n",
    "\n",
    "def sum_of_first_3_values_in_df(dframe):\n",
    "    sum = 0\n",
    "    for i in range(0,3):\n",
    "        sum += dframe.values[i][0]\n",
    "    print(sum)\n",
    "    \n",
    "sum_of_first_3_values_in_df(df)"
   ]
  },
  {
   "cell_type": "code",
   "execution_count": 19,
   "id": "cdd20543-6741-41a3-9f68-e286d5c6e884",
   "metadata": {},
   "outputs": [
    {
     "name": "stdout",
     "output_type": "stream",
     "text": [
      "                 Text\n",
      "0              Word 1\n",
      "1         I am Word 2\n",
      "2       Myself Word 3\n",
      "3       Text number 4\n",
      "4  I am Text number 5\n",
      "\n",
      "\n",
      "                 Text  Word Count\n",
      "0              Word 1           2\n",
      "1         I am Word 2           4\n",
      "2       Myself Word 3           3\n",
      "3       Text number 4           3\n",
      "4  I am Text number 5           5\n"
     ]
    }
   ],
   "source": [
    "# Answer 4\n",
    "\n",
    "l1=['Word 1']\n",
    "l2=['I am Word 2']\n",
    "l3=['Myself Word 3']\n",
    "l4=['Text number 4']\n",
    "l5=['I am Text number 5']\n",
    "arr = np.array([l1,l2,l3,l4,l5])\n",
    "\n",
    "df = pd.DataFrame(arr, columns=['Text'])\n",
    "print(df)\n",
    "print(\"\\n\")\n",
    "\n",
    "def create_word_count_col(dframe):\n",
    "    dframe['Word Count'] = 0\n",
    "    for i in range(0, len(dframe['Word Count'].values)):\n",
    "        dframe['Word Count'].values[i] = len(dframe['Text'].values[i].split())\n",
    "    return dframe\n",
    "    \n",
    "print(create_word_count_col(df))"
   ]
  },
  {
   "cell_type": "code",
   "execution_count": 20,
   "id": "06e7e229-cd47-4c6a-bcd4-6a45c12750b2",
   "metadata": {},
   "outputs": [
    {
     "name": "stdout",
     "output_type": "stream",
     "text": [
      "10\n",
      "(5, 2)\n"
     ]
    }
   ],
   "source": [
    "# Answer 5\n",
    "\n",
    "# The size attribute of a DataFrame returns the total number of elements in the DataFrame, which is calculated as the product of the\n",
    "# number of rows and columns. It gives you the total count of cells in the DataFrame.\n",
    "# eg --\n",
    "print(df.size)\n",
    "\n",
    "\n",
    "# The shape attribute of a DataFrame returns a tuple representing the dimensions of the DataFrame. It provides the number of rows and\n",
    "# columns in the DataFrame.\n",
    "# eg --\n",
    "print(df.shape)"
   ]
  },
  {
   "cell_type": "code",
   "execution_count": 9,
   "id": "4aefc337-20aa-4732-979b-aa5a5c867bc7",
   "metadata": {},
   "outputs": [],
   "source": [
    "# Answer 6\n",
    "\n",
    "# to read excel file in pandas we call read_excel() function"
   ]
  },
  {
   "cell_type": "code",
   "execution_count": 21,
   "id": "5ec9aa61-e24d-4343-b7a5-4b05c45316b8",
   "metadata": {},
   "outputs": [
    {
     "name": "stdout",
     "output_type": "stream",
     "text": [
      "                           Email\n",
      "0           sansyprog8@gmail.com\n",
      "1  kunalkushwaha4573@example.com\n",
      "2           john.doe@example.com\n",
      "\n",
      "\n",
      "                           Email          User Name\n",
      "0           sansyprog8@gmail.com         sansyprog8\n",
      "1  kunalkushwaha4573@example.com  kunalkushwaha4573\n",
      "2           john.doe@example.com           john.doe\n"
     ]
    }
   ],
   "source": [
    "# Answer 7\n",
    "\n",
    "l1=['sansyprog8@gmail.com']\n",
    "l2=['kunalkushwaha4573@example.com']\n",
    "l3=['john.doe@example.com']\n",
    "arr = np.array([l1,l2,l3])\n",
    "\n",
    "df = pd.DataFrame(arr, columns=['Email'])\n",
    "print(df)\n",
    "print(\"\\n\")\n",
    "\n",
    "def create_username_col(dframe):\n",
    "    dframe['User Name'] = 'john'\n",
    "    for i in range(0, len(dframe['User Name'].values)):\n",
    "        dframe['User Name'].values[i] = dframe['Email'].values[i].split('@')[0]\n",
    "    return dframe\n",
    "    \n",
    "print(create_username_col(df))"
   ]
  },
  {
   "cell_type": "code",
   "execution_count": 25,
   "id": "167e8323-0949-4b1f-889b-ead8d80c8b65",
   "metadata": {},
   "outputs": [
    {
     "name": "stdout",
     "output_type": "stream",
     "text": [
      "    A   B   C\n",
      "1   0   1   2\n",
      "3   3   4   5\n",
      "5   6   7   8\n",
      "7   9  10  11\n",
      "9  12  13  14\n",
      "\n",
      "\n",
      "   A  B  C\n",
      "5  6  7  8\n"
     ]
    }
   ],
   "source": [
    "# Answer 8\n",
    "\n",
    "df = datafr #datafr value from Answer 2 is used here\n",
    "print(df)\n",
    "print(\"\\n\")\n",
    "\n",
    "def answer_eight(dframe):\n",
    "    return dframe[(dframe['A'].values > 5) & (dframe['B'].values < 10)]\n",
    "\n",
    "print(answer_eight(df))"
   ]
  },
  {
   "cell_type": "code",
   "execution_count": 28,
   "id": "591cab19-3682-4638-94ea-c2eb55046582",
   "metadata": {},
   "outputs": [
    {
     "name": "stdout",
     "output_type": "stream",
     "text": [
      "   Values\n",
      "0       0\n",
      "1       1\n",
      "2       2\n",
      "3       3\n",
      "4       4\n",
      "\n",
      "\n",
      "2.0\n",
      "2.0\n",
      "1.5811388300841898\n"
     ]
    }
   ],
   "source": [
    "# Answer 9\n",
    "\n",
    "df = tempdf #value of tempdf is used from Answer 3\n",
    "print(df)\n",
    "print(\"\\n\")\n",
    "\n",
    "def answer_nine(dframe):\n",
    "    mean = dframe['Values'].mean()\n",
    "    median = dframe['Values'].median()\n",
    "    standard_deviation = dframe['Values'].std()\n",
    "    print(mean)\n",
    "    print(median)\n",
    "    print(standard_deviation)\n",
    "    \n",
    "\n",
    "answer_nine(df)"
   ]
  },
  {
   "cell_type": "code",
   "execution_count": 29,
   "id": "c9863432-136b-4d65-aa4e-757200ad42bc",
   "metadata": {},
   "outputs": [
    {
     "name": "stdout",
     "output_type": "stream",
     "text": [
      "         Date  Sales\n",
      "0  2023-06-01     10\n",
      "1  2023-06-02     20\n",
      "2  2023-06-03     30\n",
      "3  2023-06-04     40\n",
      "4  2023-06-05     50\n",
      "5  2023-06-06     60\n",
      "6  2023-06-07     70\n",
      "7  2023-06-08     80\n",
      "8  2023-06-09     90\n",
      "9  2023-06-10    100\n",
      "\n",
      "\n",
      "         Date  Sales  MovingAverage\n",
      "0  2023-06-01     10           10.0\n",
      "1  2023-06-02     20           15.0\n",
      "2  2023-06-03     30           20.0\n",
      "3  2023-06-04     40           25.0\n",
      "4  2023-06-05     50           30.0\n",
      "5  2023-06-06     60           35.0\n",
      "6  2023-06-07     70           40.0\n",
      "7  2023-06-08     80           50.0\n",
      "8  2023-06-09     90           60.0\n",
      "9  2023-06-10    100           70.0\n"
     ]
    }
   ],
   "source": [
    "# Answer 10\n",
    "\n",
    "data = {'Date': ['2023-06-01', '2023-06-02', '2023-06-03', '2023-06-04', '2023-06-05', '2023-06-06', '2023-06-07', '2023-06-08', '2023-06-09', '2023-06-10'],\n",
    "        'Sales': [10, 20, 30, 40, 50, 60, 70, 80, 90, 100]}\n",
    "df = pd.DataFrame(data)\n",
    "print(df)\n",
    "print(\"\\n\")\n",
    "\n",
    "def moving_average(dframe):\n",
    "    dframe['MovingAverage'] = dframe['Sales'].rolling(window=7, min_periods=1).mean()\n",
    "    return dframe\n",
    "\n",
    "print(moving_average(df))\n"
   ]
  },
  {
   "cell_type": "code",
   "execution_count": 37,
   "id": "07382697-cb0d-4dda-b0ae-bc7b41d0a65d",
   "metadata": {},
   "outputs": [
    {
     "name": "stdout",
     "output_type": "stream",
     "text": [
      "         Date\n",
      "0  2023-06-27\n",
      "1  2023-06-28\n",
      "2  2023-06-29\n",
      "3  2023-06-30\n",
      "\n",
      "\n",
      "         Date    Weekday\n",
      "0  2023-06-27    Tuesday\n",
      "1  2023-06-28  Wednesday\n",
      "2  2023-06-29   Thursday\n",
      "3  2023-06-30     Friday\n"
     ]
    }
   ],
   "source": [
    "# Answer 11\n",
    "\n",
    "data = {'Date': ['2023-06-27', '2023-06-28', '2023-06-29', '2023-06-30']}\n",
    "df = pd.DataFrame(data)\n",
    "print(df)\n",
    "print(\"\\n\")\n",
    "\n",
    "def add_weekday_column(dframe):\n",
    "    dframe['Weekday'] = pd.to_datetime(dframe['Date']).dt.strftime('%A')\n",
    "    return dframe\n",
    "\n",
    "print(add_weekday_column(df))\n"
   ]
  },
  {
   "cell_type": "code",
   "execution_count": 42,
   "id": "5295f096-d7d4-4e25-9073-7b34537829d5",
   "metadata": {},
   "outputs": [
    {
     "name": "stdout",
     "output_type": "stream",
     "text": [
      "        Date\n",
      "0 2023-01-01\n",
      "1 2023-01-20\n",
      "2 2023-01-29\n",
      "3 2023-06-27\n",
      "\n",
      "\n",
      "        Date\n",
      "1 2023-01-20\n",
      "2 2023-01-29\n"
     ]
    }
   ],
   "source": [
    "# Answer 12\n",
    "\n",
    "data = {'Date': [pd.to_datetime('2023-01-01'), pd.to_datetime('2023-01-20'), pd.to_datetime('2023-01-29'), pd.to_datetime('2023-06-27')]}\n",
    "df = pd.DataFrame(data)\n",
    "print(df)\n",
    "print(\"\\n\")\n",
    "\n",
    "def answer_twelve(dframe):\n",
    "    return df[(df['Date']>'2023-01-01') & (df['Date']<'2023-01-31')]\n",
    "    \n",
    "print(answer_twelve(df))"
   ]
  },
  {
   "cell_type": "code",
   "execution_count": 43,
   "id": "7d68a0a6-d6ac-4228-bdbf-d5d869252761",
   "metadata": {},
   "outputs": [],
   "source": [
    "# Answer 13\n",
    "\n",
    "# To use the basic functions of pandas, pandas library should be imported as follows --\n",
    "import pandas"
   ]
  },
  {
   "cell_type": "code",
   "execution_count": null,
   "id": "9ccf11ac-3206-472c-921d-427c03bd7f67",
   "metadata": {},
   "outputs": [],
   "source": []
  }
 ],
 "metadata": {
  "kernelspec": {
   "display_name": "Python 3 (ipykernel)",
   "language": "python",
   "name": "python3"
  },
  "language_info": {
   "codemirror_mode": {
    "name": "ipython",
    "version": 3
   },
   "file_extension": ".py",
   "mimetype": "text/x-python",
   "name": "python",
   "nbconvert_exporter": "python",
   "pygments_lexer": "ipython3",
   "version": "3.10.8"
  }
 },
 "nbformat": 4,
 "nbformat_minor": 5
}
