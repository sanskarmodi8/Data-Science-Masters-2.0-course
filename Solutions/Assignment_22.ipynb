{
 "cells": [
  {
   "cell_type": "code",
   "execution_count": 26,
   "id": "acae1d51-abf0-4525-97fd-b336723965b6",
   "metadata": {},
   "outputs": [],
   "source": [
    "import numpy as np\n",
    "import pandas as pd"
   ]
  },
  {
   "cell_type": "code",
   "execution_count": 3,
   "id": "59d65828-5524-4367-b032-d16ec2e8f126",
   "metadata": {},
   "outputs": [],
   "source": [
    "list_ = [ '1' , '2' , '3' , '4' , '5' ]\n",
    "array_list = np.array(object = list_)"
   ]
  },
  {
   "cell_type": "code",
   "execution_count": 11,
   "id": "dfa391a1-54a1-4863-9313-cbcf7f61cd2c",
   "metadata": {},
   "outputs": [
    {
     "name": "stdout",
     "output_type": "stream",
     "text": [
      "Data type of list_ is --  <class 'list'>\n",
      "Data type of array_list is --  <class 'numpy.ndarray'>\n"
     ]
    }
   ],
   "source": [
    "# Answer 1\n",
    "\n",
    "# Yes, there is a difference in the data type of variables list_ and array_list\n",
    "\n",
    "print(\"Data type of list_ is -- \",type(list_))\n",
    "print(\"Data type of array_list is -- \",type(array_list)) # you can also use array_list.dtype"
   ]
  },
  {
   "cell_type": "code",
   "execution_count": 14,
   "id": "bdc992bb-a8b8-4fcd-b346-722ad2d0cbd6",
   "metadata": {},
   "outputs": [
    {
     "name": "stdout",
     "output_type": "stream",
     "text": [
      "Data type of element with index 0 in list_ is -- <class 'str'>\n",
      "Data type of element with index 1 in list_ is -- <class 'str'>\n",
      "Data type of element with index 2 in list_ is -- <class 'str'>\n",
      "Data type of element with index 3 in list_ is -- <class 'str'>\n",
      "Data type of element with index 4 in list_ is -- <class 'str'>\n",
      "\n",
      "\n",
      "Data type of element with index 0 in array_list is -- <class 'numpy.str_'>\n",
      "Data type of element with index 1 in array_list is -- <class 'numpy.str_'>\n",
      "Data type of element with index 2 in array_list is -- <class 'numpy.str_'>\n",
      "Data type of element with index 3 in array_list is -- <class 'numpy.str_'>\n",
      "Data type of element with index 4 in array_list is -- <class 'numpy.str_'>\n"
     ]
    }
   ],
   "source": [
    "# Answer 2\n",
    "\n",
    "for i in range(0, len(list_)):\n",
    "    print(f\"Data type of element with index {i} in list_ is -- {type(list_[i])}\")\n",
    "    \n",
    "print(\"\\n\")\n",
    "\n",
    "for i in range(0, len(array_list)):\n",
    "    print(f\"Data type of element with index {i} in array_list is -- {type(array_list[i])}\")\n"
   ]
  },
  {
   "cell_type": "code",
   "execution_count": 15,
   "id": "d8acd235-6841-41f7-84a3-432bb831f9cb",
   "metadata": {},
   "outputs": [],
   "source": [
    "array_list = np.array(object = list_, dtype = int)"
   ]
  },
  {
   "cell_type": "code",
   "execution_count": 16,
   "id": "932249b4-3a02-4c4f-ac70-453701694d3d",
   "metadata": {},
   "outputs": [
    {
     "name": "stdout",
     "output_type": "stream",
     "text": [
      "Data type of element with index 0 in list_ is -- <class 'str'>\n",
      "Data type of element with index 1 in list_ is -- <class 'str'>\n",
      "Data type of element with index 2 in list_ is -- <class 'str'>\n",
      "Data type of element with index 3 in list_ is -- <class 'str'>\n",
      "Data type of element with index 4 in list_ is -- <class 'str'>\n",
      "\n",
      "\n",
      "Data type of element with index 0 in array_list is -- <class 'numpy.int64'>\n",
      "Data type of element with index 1 in array_list is -- <class 'numpy.int64'>\n",
      "Data type of element with index 2 in array_list is -- <class 'numpy.int64'>\n",
      "Data type of element with index 3 in array_list is -- <class 'numpy.int64'>\n",
      "Data type of element with index 4 in array_list is -- <class 'numpy.int64'>\n"
     ]
    }
   ],
   "source": [
    "# Answer 3\n",
    "\n",
    "# Yes, there will be a difference in the data type of the elements present in both the variables, list_ and array_list\n",
    "\n",
    "for i in range(0, len(list_)):\n",
    "    print(f\"Data type of element with index {i} in list_ is -- {type(list_[i])}\")\n",
    "    \n",
    "print(\"\\n\")\n",
    "\n",
    "for i in range(0, len(array_list)):\n",
    "    print(f\"Data type of element with index {i} in array_list is -- {type(array_list[i])}\")\n"
   ]
  },
  {
   "cell_type": "code",
   "execution_count": 17,
   "id": "7ac6e320-8af6-4365-aa28-dff3aa2c1ae4",
   "metadata": {},
   "outputs": [],
   "source": [
    "num_list = [ [ 1 , 2 , 3 ] , [ 4 , 5 , 6 ] ]\n",
    "num_array = np.array(object = num_list)"
   ]
  },
  {
   "cell_type": "code",
   "execution_count": 20,
   "id": "1033f6be-5970-4ae0-ab88-0fef64d2358f",
   "metadata": {},
   "outputs": [
    {
     "name": "stdout",
     "output_type": "stream",
     "text": [
      "Shape of num_array is -- (2, 3)\n",
      "Size of num_array is -- 6\n"
     ]
    }
   ],
   "source": [
    "# Answer 4\n",
    "\n",
    "print(f\"Shape of num_array is -- {num_array.shape}\")\n",
    "print(f\"Size of num_array is -- {num_array.size}\")\n"
   ]
  },
  {
   "cell_type": "code",
   "execution_count": 30,
   "id": "e466279c-8155-4499-a36d-646e8c2393d9",
   "metadata": {},
   "outputs": [
    {
     "data": {
      "text/plain": [
       "array([[0., 0., 0.],\n",
       "       [0., 0., 0.],\n",
       "       [0., 0., 0.]])"
      ]
     },
     "execution_count": 30,
     "metadata": {},
     "output_type": "execute_result"
    }
   ],
   "source": [
    "# Answer 5\n",
    "\n",
    "np.zeros((3,3))"
   ]
  },
  {
   "cell_type": "code",
   "execution_count": 31,
   "id": "7b81e241-686b-4f1a-ab3c-ae6209b5164f",
   "metadata": {},
   "outputs": [
    {
     "data": {
      "text/plain": [
       "array([[1., 0., 0., 0., 0.],\n",
       "       [0., 1., 0., 0., 0.],\n",
       "       [0., 0., 1., 0., 0.],\n",
       "       [0., 0., 0., 1., 0.],\n",
       "       [0., 0., 0., 0., 1.]])"
      ]
     },
     "execution_count": 31,
     "metadata": {},
     "output_type": "execute_result"
    }
   ],
   "source": [
    "# Answer 6\n",
    "\n",
    "np.eye(5,5)"
   ]
  },
  {
   "cell_type": "code",
   "execution_count": null,
   "id": "e5603c45-4211-49d5-82df-38fefdd039a8",
   "metadata": {},
   "outputs": [],
   "source": []
  }
 ],
 "metadata": {
  "kernelspec": {
   "display_name": "Python 3 (ipykernel)",
   "language": "python",
   "name": "python3"
  },
  "language_info": {
   "codemirror_mode": {
    "name": "ipython",
    "version": 3
   },
   "file_extension": ".py",
   "mimetype": "text/x-python",
   "name": "python",
   "nbconvert_exporter": "python",
   "pygments_lexer": "ipython3",
   "version": "3.10.8"
  }
 },
 "nbformat": 4,
 "nbformat_minor": 5
}
