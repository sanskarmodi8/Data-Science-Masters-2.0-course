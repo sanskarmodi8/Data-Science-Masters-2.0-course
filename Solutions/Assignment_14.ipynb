{
 "cells": [
  {
   "cell_type": "code",
   "execution_count": 1,
   "id": "7672df2e-273c-46bc-8e88-524539bdc2b7",
   "metadata": {},
   "outputs": [],
   "source": [
    "# Answer 1\n",
    "\n",
    "#Flask is a lightweight web framework in Python\n",
    "\n",
    "#Advantages of flask --\n",
    "# simplicity\n",
    "# flexibility\n",
    "# lightweight\n",
    "# extensibility\n",
    "# excellent testing support\n",
    "# large community"
   ]
  },
  {
   "cell_type": "code",
   "execution_count": 4,
   "id": "2b42b1ed-4ca7-423f-ad71-7307199f0a94",
   "metadata": {},
   "outputs": [],
   "source": [
    "# Answer 2\n",
    "\n",
    "#code written in app.py file --\n",
    "# from flask import Flask\n",
    "\n",
    "# app = Flask(__name__)\n",
    "\n",
    "# @app.route(\"/\")\n",
    "# def hello_world():\n",
    "#     return \"<h1>Hello, World!</h1>\"\n",
    "\n",
    "# if __name__==\"__main__\":\n",
    "#     app.run(host=\"0.0.0.0\")\n",
    "\n",
    "#output --\n",
    "#see below "
   ]
  },
  {
   "cell_type": "markdown",
   "id": "c1e23d85-a2a0-41a6-b69f-f69c645373e5",
   "metadata": {},
   "source": [
    "\n",
    "![q2-solution](images/assignment14-q2-sol.png)\n",
    "\n"
   ]
  },
  {
   "cell_type": "code",
   "execution_count": 5,
   "id": "f3597f5a-a377-4be2-8501-12645d7976be",
   "metadata": {},
   "outputs": [],
   "source": [
    "# Answer 3\n",
    "\n",
    "# App routing in Flask refers to the process of mapping URL paths to specific functions or views in a Flask application. We use app routes\n",
    "# to define the different routes or endpoints of our web application, allowing users to access specific pages or perform certain actions based\n",
    "# on the URL they visit."
   ]
  },
  {
   "cell_type": "code",
   "execution_count": 6,
   "id": "da6a6902-83ec-4a69-8e63-a11095e9239f",
   "metadata": {},
   "outputs": [],
   "source": [
    "# Answer 4\n",
    "\n",
    "# code --\n",
    "\n",
    "# from flask import Flask\n",
    "\n",
    "# app = Flask(__name__)\n",
    "\n",
    "# @app.route(\"/welcome\")\n",
    "# def hello_world():\n",
    "#     return \"<h1>Welcome to ABC Corporation</h1>\"\n",
    "# @app.route('/')\n",
    "# def company_details():\n",
    "#     return '''\n",
    "#     <h1>Company Details</h1>\n",
    "#     <p>Company Name: ABC Corporation</p>\n",
    "#     <p>Location: India</p>\n",
    "#     <p>Contact Detail: 999-999-9999</p>\n",
    "#     '''\n",
    "# if __name__==\"__main__\":\n",
    "#     app.run(host=\"0.0.0.0\")\n",
    "\n",
    "\n",
    "#output -- see below"
   ]
  },
  {
   "cell_type": "markdown",
   "id": "b60cd8b7-b73d-4b4e-9fd3-60aea8c81785",
   "metadata": {},
   "source": [
    "![q4-solution](images/assignment14-q4-sol-part1.png)\n",
    "![q4-solution](images/assignment14-q4-sol-part2.png)"
   ]
  },
  {
   "cell_type": "code",
   "execution_count": 7,
   "id": "77945e22-d8e9-47e4-91ed-0162cbb12e92",
   "metadata": {},
   "outputs": [],
   "source": [
    "# Answer 5\n",
    "\n",
    "#In Flask, the url_for() function is used for URL building. It is a handy function that generates a URL for a given endpoint in your Flask application.\n",
    "#It takes the endpoint name as a parameter and returns the corresponding URL.\n",
    "\n",
    "#eg--\n",
    "\n",
    "# from flask import Flask, url_for\n",
    "\n",
    "# app = Flask(__name__)\n",
    "\n",
    "# @app.route('/')\n",
    "# def home():\n",
    "#     return 'Welcome to the home page'\n",
    "\n",
    "# @app.route('/user/<username>')\n",
    "# def profile(username):\n",
    "#     return f'Hello, {username}!'\n",
    "\n",
    "# @app.route('/post/<int:post_id>')\n",
    "# def show_post(post_id):\n",
    "#     return f'Post ID: {post_id}'\n",
    "\n",
    "# if __name__ == '__main__':\n",
    "#     with app.test_request_context():\n",
    "#         print(url_for('home'))  # Output: /\n",
    "#         print(url_for('profile', username='John'))  # Output: /user/John\n",
    "#         print(url_for('show_post', post_id=123))  # Output: /post/123\n"
   ]
  },
  {
   "cell_type": "code",
   "execution_count": null,
   "id": "e35c60af-3f68-4cb3-a891-f6b91b32b00a",
   "metadata": {},
   "outputs": [],
   "source": []
  }
 ],
 "metadata": {
  "kernelspec": {
   "display_name": "Python 3 (ipykernel)",
   "language": "python",
   "name": "python3"
  },
  "language_info": {
   "codemirror_mode": {
    "name": "ipython",
    "version": 3
   },
   "file_extension": ".py",
   "mimetype": "text/x-python",
   "name": "python",
   "nbconvert_exporter": "python",
   "pygments_lexer": "ipython3",
   "version": "3.10.8"
  }
 },
 "nbformat": 4,
 "nbformat_minor": 5
}
