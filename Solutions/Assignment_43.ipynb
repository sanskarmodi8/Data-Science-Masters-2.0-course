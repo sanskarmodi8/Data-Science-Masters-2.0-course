{
 "cells": [
  {
   "cell_type": "code",
   "execution_count": 1,
   "id": "a717c18f-f8f1-458e-be6c-b019e62e357c",
   "metadata": {},
   "outputs": [],
   "source": [
    "# Answer 1\n",
    "\n",
    "# To calculate the Pearson correlation coefficient between the amount of time students spend studying for an exam and their final exam scores, you need a dataset containing the study time and exam scores for each student. Once you have the data, you can use the following formula to compute the Pearson correlation coefficient:\n",
    "\n",
    "# Pearson correlation coefficient (r) = Covariance(X, Y) / (σX * σY)\n",
    "\n",
    "# where:\n",
    "\n",
    "# Covariance(X, Y) is the covariance between the study time (X) and exam scores (Y).\n",
    "# σX is the standard deviation of study time.\n",
    "# σY is the standard deviation of exam scores.\n",
    "# Interpretation:\n",
    "# The Pearson correlation coefficient ranges between -1 and 1, where -1 indicates a perfect negative linear relationship, 1 indicates a perfect positive linear relationship, and 0 indicates no linear relationship. If the coefficient is close to 1, it suggests that students who spend more time studying tend to have higher exam scores. If it is close to -1, it suggests that more study time is associated with lower exam scores. If the coefficient is close to 0, there is no significant linear relationship between study time and exam scores.\n",
    "\n"
   ]
  },
  {
   "cell_type": "code",
   "execution_count": 2,
   "id": "3ecc80cb-5850-4f49-ab2b-1873f0e7090f",
   "metadata": {},
   "outputs": [],
   "source": [
    "# Answer 2\n",
    "\n",
    "# To calculate the Spearman's rank correlation between the amount of sleep individuals get each night and their overall job satisfaction level (on a scale of 1 to 10), you need a dataset containing the sleep hours and job satisfaction scores for each individual. Once you have the data, follow these steps:\n",
    "\n",
    "# Rank the sleep hours and job satisfaction scores independently for each individual.\n",
    "# Calculate the differences between the ranks for each pair of observations.\n",
    "# Calculate the Spearman's rank correlation using the formula:\n",
    "# Spearman's rank correlation (ρ) = 1 - (6 * Σ(d^2)) / (n * (n^2 - 1))\n",
    "\n",
    "# where:\n",
    "\n",
    "# d is the difference between the ranks for each pair of observations.\n",
    "# n is the number of data points (participants).\n",
    "# Interpretation:\n",
    "# The Spearman's rank correlation ranges between -1 and 1, similar to Pearson correlation. A value of 1 indicates a perfect monotonic relationship, where higher sleep hours correspond to higher job satisfaction scores, and vice versa. A value of -1 indicates a perfect negative monotonic relationship. A value close to 0 suggests no monotonic relationship between sleep hours and job satisfaction."
   ]
  },
  {
   "cell_type": "code",
   "execution_count": 3,
   "id": "1a4094ea-add6-4fbe-895e-6561b6f194bb",
   "metadata": {},
   "outputs": [],
   "source": [
    "# Answer 3\n",
    "\n",
    "# To calculate the Pearson correlation coefficient and the Spearman's rank correlation between the number of hours of exercise per week and body mass index (BMI) for a sample of 50 adults, you would need a dataset with these two variables. Once you have the data, perform the calculations for each correlation coefficient as explained in Q1 and Q2.\n",
    "\n",
    "# Comparison:\n",
    "\n",
    "# Pearson correlation coefficient measures the strength and direction of the linear relationship between two continuous variables. It assumes that the relationship is linear, and it might be affected by outliers.\n",
    "# Spearman's rank correlation measures the strength and direction of the monotonic relationship between two variables. It does not assume linearity and is more robust to outliers.\n",
    "# If the relationship between exercise hours and BMI is approximately linear, the Pearson correlation coefficient would be more suitable. If the relationship is monotonic but not necessarily linear, the Spearman's rank correlation would be a better choice.\n",
    "\n"
   ]
  },
  {
   "cell_type": "code",
   "execution_count": 4,
   "id": "dce62185-1998-420a-8f63-4511f24f5989",
   "metadata": {},
   "outputs": [],
   "source": [
    "# Answer 4\n",
    "\n",
    "# To calculate the Pearson correlation coefficient between the number of hours individuals spend watching television per day and their level of physical activity, you would need a dataset containing these two variables for each participant. Once you have the data, use the Pearson correlation formula as mentioned in Q1 to compute the correlation coefficient.\n",
    "\n"
   ]
  },
  {
   "cell_type": "code",
   "execution_count": 5,
   "id": "332c3805-88cb-47a7-8cce-9a37ea6145ae",
   "metadata": {},
   "outputs": [],
   "source": [
    "# Answer 5\n",
    "\n",
    "# In the survey results provided, there are two variables: \"Age\" (continuous) and \"Soft drink preference\" (categorical). Since \"Age\" is a continuous variable, you can use Pearson correlation to examine the relationship between age and soft drink preference.\n",
    "\n",
    "# However, before calculating the correlation, you need to convert the \"Soft drink preference\" variable into numeric form. One way to do this is by assigning a numerical value to each soft drink brand (e.g., coke = 0, pepsi = 1, mountain dew = 2). Then, you can calculate the Pearson correlation coefficient between age (numeric) and soft drink preference (numeric).\n",
    "\n"
   ]
  },
  {
   "cell_type": "code",
   "execution_count": null,
   "id": "72964d0e-ba43-456f-971e-fab1896af212",
   "metadata": {},
   "outputs": [],
   "source": [
    "# Answer 6\n",
    "\n",
    "# To calculate the Pearson correlation coefficient between the number of sales calls made per day and the number of sales made per week for the sample of 30 sales representatives, you need a dataset with these two variables. Once you have the data, use the Pearson correlation formula mentioned in Q1 to compute the correlation coefficient. The result will be a value between -1 and 1, indicating the strength and direction of the linear relationship between the variables. A positive value suggests a positive linear relationship, while a negative value suggests a negative linear relationship. A value close to 0 indicates no significant linear relationship."
   ]
  }
 ],
 "metadata": {
  "kernelspec": {
   "display_name": "Python 3 (ipykernel)",
   "language": "python",
   "name": "python3"
  },
  "language_info": {
   "codemirror_mode": {
    "name": "ipython",
    "version": 3
   },
   "file_extension": ".py",
   "mimetype": "text/x-python",
   "name": "python",
   "nbconvert_exporter": "python",
   "pygments_lexer": "ipython3",
   "version": "3.10.8"
  }
 },
 "nbformat": 4,
 "nbformat_minor": 5
}
