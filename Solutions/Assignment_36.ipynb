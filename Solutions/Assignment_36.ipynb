{
 "cells": [
  {
   "cell_type": "code",
   "execution_count": 1,
   "id": "8f7618ac-2fd0-4124-bd6d-757404d6509d",
   "metadata": {},
   "outputs": [],
   "source": [
    "# Answer 1\n",
    "\n",
    "# a) Artificial Intelligence (AI): Machines imitating human intelligence to solve problems and make decisions. Example: Siri, Alexa.\n",
    "\n",
    "# b) Machine Learning (ML): Computers learning from data without explicit programming. Example: Email spam filters.\n",
    "\n",
    "# c) Deep Learning: Specialized machine learning using artificial neural networks. Example: Autonomous vehicle object recognition."
   ]
  },
  {
   "cell_type": "code",
   "execution_count": 2,
   "id": "2d321a1d-4a42-4597-8261-d16054fc966f",
   "metadata": {},
   "outputs": [],
   "source": [
    "# Answer 2\n",
    "\n",
    "# Supervised Learning is a type of machine learning where the algorithm is trained on a labeled dataset, meaning that each input data point is associated with a corresponding target or output label. The goal of supervised learning is for the algorithm to learn the mapping between input features and their corresponding output labels so that it can make accurate predictions on new, unseen data.\n",
    "\n",
    "# Here are some examples of supervised learning:\n",
    "\n",
    "# Image Classification: Given a dataset of images with labeled categories (e.g., cats and dogs), a supervised learning algorithm can learn to identify and classify new images correctly into their respective categories.\n",
    "\n",
    "# Sentiment Analysis: In this task, the algorithm is trained on a dataset of text documents with labeled sentiments (e.g., positive, negative, or neutral). The goal is to predict the sentiment of new text inputs."
   ]
  },
  {
   "cell_type": "code",
   "execution_count": 3,
   "id": "646d7221-b56e-4322-9de2-84321bf2f390",
   "metadata": {},
   "outputs": [],
   "source": [
    "# Answer 3\n",
    "\n",
    "\n",
    "# Unsupervised Learning is a type of machine learning where the algorithm is trained on an unlabeled dataset, meaning that there are no explicit output labels provided. The goal of unsupervised learning is to find patterns, structures, or representations in the data without any predefined guidance.\n",
    "\n",
    "# Here are some examples of unsupervised learning:\n",
    "\n",
    "# Clustering: In clustering, the algorithm groups similar data points together based on their features. For example, given a dataset of customer purchasing behavior, unsupervised learning can be used to identify distinct groups of customers with similar buying habits.\n",
    "\n",
    "# Anomaly Detection: Unsupervised learning can be employed to detect anomalies or outliers in a dataset. It helps identify data points that deviate significantly from the typical pattern."
   ]
  },
  {
   "cell_type": "code",
   "execution_count": 4,
   "id": "3378696e-7c5c-4f38-9917-6ce737af4f9a",
   "metadata": {},
   "outputs": [],
   "source": [
    "# Answer 4\n",
    "\n",
    "# AI (Artificial Intelligence): The broad field of creating machines that can mimic human intelligence and perform tasks like problem-solving, learning, and decision-making.\n",
    "\n",
    "# ML (Machine Learning): A subset of AI where computers learn from data without explicit programming, making predictions and improving their performance through experience.\n",
    "\n",
    "# DL (Deep Learning): A specialized form of ML that uses artificial neural networks to process complex data and achieve significant breakthroughs in various AI tasks.\n",
    "\n",
    "# DS (Data Science): An interdisciplinary field that involves extracting insights and knowledge from data using various techniques, including AI and ML. It encompasses data analysis, visualization, and modeling."
   ]
  },
  {
   "cell_type": "code",
   "execution_count": 5,
   "id": "cf180eb4-5635-44b9-8aa5-f99d8a9102d9",
   "metadata": {},
   "outputs": [],
   "source": [
    "# Answer 5\n",
    "\n",
    "# The main differences between supervised, unsupervised, and semi-supervised learning are as follows:\n",
    "\n",
    "# Supervised Learning:\n",
    "\n",
    "# Labeled Data: In supervised learning, the algorithm is trained on a labeled dataset, where each input data point has a corresponding target or output label.\n",
    "# Goal: The goal is to learn the mapping between input features and their corresponding output labels to make accurate predictions on new, unseen data.\n",
    "# Example: Image classification, sentiment analysis, regression.\n",
    "# Unsupervised Learning:\n",
    "\n",
    "# Unlabeled Data: In unsupervised learning, the algorithm is trained on an unlabeled dataset, meaning there are no explicit output labels provided.\n",
    "# Goal: The goal is to find patterns, structures, or representations in the data without predefined guidance.\n",
    "# Example: Clustering, anomaly detection, dimensionality reduction.\n",
    "# Semi-supervised Learning:\n",
    "\n",
    "# Combination: Semi-supervised learning combines elements of both supervised and unsupervised learning. It uses a dataset that contains both labeled and unlabeled data.\n",
    "# Goal: The goal is to leverage the small amount of labeled data together with the larger pool of unlabeled data to improve the performance of the model.\n",
    "# Example: In some cases, obtaining labeled data can be expensive or time-consuming, and semi-supervised learning can be used to make the most of the available resources.\n"
   ]
  },
  {
   "cell_type": "code",
   "execution_count": 6,
   "id": "e00e065a-8612-4816-9c87-3d1ae2ef0a6b",
   "metadata": {},
   "outputs": [],
   "source": [
    "# Answer 6\n",
    "\n",
    "# Train, test, and validation split is dividing the dataset into three parts:\n",
    "# 1. Training set: Used to teach the model.\n",
    "# 2. Test set: Used to evaluate the model's performance on new data.\n",
    "# 3. Validation set: Optional, helps fine-tune model's settings (hyperparameters)."
   ]
  },
  {
   "cell_type": "code",
   "execution_count": 7,
   "id": "6c4c1c58-13f1-4f36-8254-8f79d8ffe62c",
   "metadata": {},
   "outputs": [],
   "source": [
    "# Answer 7\n",
    "\n",
    "# Unsupervised learning can be used effectively in anomaly detection due to its ability to identify patterns and structures within data without the need for explicit labeled examples of anomalies. Here's how unsupervised learning can be applied in anomaly detection:\n",
    "\n",
    "# Normal Behavior Modeling: An unsupervised learning algorithm can be used to model the normal behavior of a system or dataset based on the available data. It learns the underlying distribution of normal data points and creates a representation of what is considered typical or usual.\n",
    "\n",
    "# Anomaly Score Calculation: Once the normal behavior is modeled, new data points can be evaluated for their similarity to the learned normal behavior. Unsupervised learning algorithms can assign anomaly scores to data points based on how well they fit the learned model. Data points that deviate significantly from the norm are assigned higher anomaly scores.\n",
    "\n",
    "# Thresholding: Anomaly scores can be compared to a predefined threshold. Data points with anomaly scores exceeding this threshold are considered anomalies. The threshold can be adjusted based on the desired balance between false positives and false negatives.\n",
    "\n",
    "# Adaptability to New Anomalies: One significant advantage of unsupervised learning in anomaly detection is its ability to detect novel or previously unseen anomalies. As the algorithm focuses on identifying deviations from normal behavior, it can potentially identify anomalies that were not present in the training data.\n",
    "\n",
    "# Clustering-based Approaches: Unsupervised learning can also employ clustering algorithms to group data points into clusters based on their similarity. Data points that do not belong to any cluster or are isolated in a cluster may be considered anomalies."
   ]
  },
  {
   "cell_type": "code",
   "execution_count": null,
   "id": "01ccd521-cf21-41d5-a8ba-ade7f9a69ed6",
   "metadata": {},
   "outputs": [],
   "source": [
    "# Answer 8\n",
    "\n",
    "# Supervised Learning Algorithms:\n",
    "\n",
    "# Linear Regression\n",
    "# Logistic Regression\n",
    "# Support Vector Machines (SVM)\n",
    "# Decision Trees\n",
    "# Random Forests\n",
    "# Gradient Boosting Machines (GBM)\n",
    "# Naive Bayes\n",
    "# k-Nearest Neighbors (k-NN)\n",
    "# Neural Networks (Deep Learning)\n",
    "# Linear Discriminant Analysis (LDA)\n",
    "# Unsupervised Learning Algorithms:\n",
    "\n",
    "# K-Means Clustering\n",
    "# Hierarchical Clustering\n",
    "# Gaussian Mixture Models (GMM)\n",
    "# Principal Component Analysis (PCA)\n",
    "# Autoencoders (used for dimensionality reduction)\n",
    "# Isolation Forest\n",
    "# Local Outlier Factor (LOF)\n",
    "# DBSCAN (Density-Based Spatial Clustering of Applications with Noise)\n",
    "# t-Distributed Stochastic Neighbor Embedding (t-SNE)\n",
    "# Independent Component Analysis (ICA)"
   ]
  }
 ],
 "metadata": {
  "kernelspec": {
   "display_name": "Python 3 (ipykernel)",
   "language": "python",
   "name": "python3"
  },
  "language_info": {
   "codemirror_mode": {
    "name": "ipython",
    "version": 3
   },
   "file_extension": ".py",
   "mimetype": "text/x-python",
   "name": "python",
   "nbconvert_exporter": "python",
   "pygments_lexer": "ipython3",
   "version": "3.10.8"
  }
 },
 "nbformat": 4,
 "nbformat_minor": 5
}
