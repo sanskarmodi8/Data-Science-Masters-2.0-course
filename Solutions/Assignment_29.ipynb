{
 "cells": [
  {
   "cell_type": "code",
   "execution_count": 1,
   "id": "dad851de-40c5-4b04-ab44-a6716c22f457",
   "metadata": {},
   "outputs": [],
   "source": [
    "# Answer 1\n",
    "\n",
    " # For continuous random variables, the PDF represents the likelihood of a random variable taking on a particular value within\n",
    " #    a given range. The PDF does not give the probability of a specific value but provides the relative likelihood of observing \n",
    " #    values within an infinitesimal interval around that value."
   ]
  },
  {
   "cell_type": "code",
   "execution_count": 2,
   "id": "2ca9054c-a0db-4b37-8b07-6e07448f9b5a",
   "metadata": {},
   "outputs": [],
   "source": [
    "# Answer 2\n",
    "\n",
    "# There are several types of probability distributions, which can be broadly categorized into two main types:\n",
    "\n",
    "# Discrete Probability Distributions: These distributions are associated with discrete random variables, which take on distinct\n",
    "# and separate values. Examples include the Binomial distribution, Poisson distribution, and Geometric distribution.\n",
    "\n",
    "# Continuous Probability Distributions: These distributions are associated with continuous random variables, which can take on any\n",
    "# value within a certain range. Examples include the Normal distribution, Exponential distribution, and Uniform distribution."
   ]
  },
  {
   "cell_type": "code",
   "execution_count": 3,
   "id": "3ef48416-a308-460b-a323-1fca292a49ce",
   "metadata": {},
   "outputs": [
    {
     "name": "stdout",
     "output_type": "stream",
     "text": [
      "PDF at x = 1.5: 0.12951759566589174\n"
     ]
    }
   ],
   "source": [
    "# Answer 3\n",
    "\n",
    "from scipy.stats import norm\n",
    "\n",
    "def normal_pdf(x, mean, std_dev):\n",
    "    return norm.pdf(x, loc=mean, scale=std_dev)\n",
    "\n",
    "# Example usage:\n",
    "mean = 0\n",
    "std_dev = 1\n",
    "x_value = 1.5\n",
    "pdf_value = normal_pdf(x_value, mean, std_dev)\n",
    "print(f\"PDF at x = {x_value}: {pdf_value}\")\n"
   ]
  },
  {
   "cell_type": "code",
   "execution_count": 4,
   "id": "bda355c5-bcf8-4827-9af0-3b5b8b5ddb0a",
   "metadata": {},
   "outputs": [],
   "source": [
    "# Answer 4\n",
    "\n",
    "# Properties of the Binomial distribution:\n",
    "\n",
    "# The binomial distribution describes the number of successes (usually denoted as \"x\") in a fixed number of independent Bernoulli\n",
    "# trials (experiments with two possible outcomes: success or failure).\n",
    "# Each trial is independent of the others.\n",
    "# The probability of success in a single trial is constant and denoted as \"p.\"\n",
    "# The random variable \"x\" follows a discrete probability distribution, taking values from 0 to the number of trials.\n",
    "\n",
    "# Two examples of events where binomial distribution can be applied are:\n",
    "\n",
    "# Coin Tossing: The number of heads obtained when flipping a fair coin multiple times follows a binomial distribution.\n",
    "# Product Defects: The number of defective products found in a sample of items from a production line with a known defect \n",
    "# rate follows a binomial distribution."
   ]
  },
  {
   "cell_type": "code",
   "execution_count": 7,
   "id": "3914820c-0042-40e4-8c7d-c9e1356cae08",
   "metadata": {},
   "outputs": [
    {
     "data": {
      "image/png": "[encoded data removed]",
      "text/plain": [
       "<Figure size 640x480 with 1 Axes>"
      ]
     },
     "metadata": {},
     "output_type": "display_data"
    }
   ],
   "source": [
    "# Answer 5\n",
    "\n",
    "import numpy as np\n",
    "import matplotlib.pyplot as plt\n",
    "\n",
    "# Parameters\n",
    "sample_size = 1000\n",
    "probability_of_success = 0.4\n",
    "\n",
    "# Generate random sample from binomial distribution\n",
    "random_sample = np.random.binomial(1, probability_of_success, size=sample_size)\n",
    "\n",
    "# Plot histogram\n",
    "plt.hist(random_sample, bins=2, align='mid', rwidth=0.8, color='skyblue', alpha=0.7)\n",
    "plt.xticks([0, 1], ['Failure', 'Success'])\n",
    "plt.xlabel('Outcome')\n",
    "plt.ylabel('Frequency')\n",
    "plt.title('Histogram of Random Sample from Binomial Distribution')\n",
    "plt.show()\n"
   ]
  },
  {
   "cell_type": "code",
   "execution_count": 8,
   "id": "7c4ab197-9bd7-4842-9389-509572f5f7ee",
   "metadata": {},
   "outputs": [
    {
     "name": "stdout",
     "output_type": "stream",
     "text": [
      "CDF at x = 2: 0.42319008112684364\n"
     ]
    }
   ],
   "source": [
    "# Answer 6\n",
    "\n",
    "from scipy.stats import poisson\n",
    "\n",
    "def poisson_cdf(x, mean):\n",
    "    return poisson.cdf(x, mu=mean)\n",
    "\n",
    "# Example usage:\n",
    "mean = 3\n",
    "x_value = 2\n",
    "cdf_value = poisson_cdf(x_value, mean)\n",
    "print(f\"CDF at x = {x_value}: {cdf_value}\")\n"
   ]
  },
  {
   "cell_type": "code",
   "execution_count": 9,
   "id": "095f2a1f-bf04-4a33-9988-4842ea9c83d3",
   "metadata": {},
   "outputs": [],
   "source": [
    "# Answer 7\n",
    "\n",
    "# The key differences between the Binomial distribution and Poisson distribution are as follows:\n",
    "\n",
    "# Nature of Random Variable:\n",
    "\n",
    "# Binomial Distribution: The binomial distribution is associated with a discrete random variable that represents the number of successes in a fixed number of independent Bernoulli trials (experiments with two possible outcomes: success or failure).\n",
    "# Poisson Distribution: The Poisson distribution is associated with a discrete random variable that represents the number of events occurring in a fixed interval of time or space.\n",
    "\n",
    "# Number of Trials or Events:\n",
    "\n",
    "# Binomial Distribution: The binomial distribution requires a fixed number of trials or experiments (n) and the probability of success in each trial (p).\n",
    "# Poisson Distribution: The Poisson distribution does not require a fixed number of events or trials but is often used to model the occurrence of rare events over a continuous interval.\n",
    "\n",
    "# Independence:\n",
    "\n",
    "# Binomial Distribution: The trials in the binomial distribution are assumed to be independent of each other.\n",
    "# Poisson Distribution: The Poisson distribution assumes that the occurrences of events in non-overlapping intervals are independent.\n",
    "\n",
    "# Parameterization:\n",
    "\n",
    "# Binomial Distribution: The binomial distribution is parameterized by two values: n (number of trials) and p (probability of success in each trial).\n",
    "# Poisson Distribution: The Poisson distribution is parameterized by a single value λ (lambda), which represents the average rate of occurrence of events in the given interval."
   ]
  },
  {
   "cell_type": "code",
   "execution_count": 10,
   "id": "c4139626-b452-488f-afcc-c21220f7aca6",
   "metadata": {},
   "outputs": [
    {
     "name": "stdout",
     "output_type": "stream",
     "text": [
      "Sample Mean: 4.901\n",
      "Sample Variance: 4.755199\n"
     ]
    }
   ],
   "source": [
    "# Answer 8\n",
    "\n",
    "import numpy as np\n",
    "\n",
    "# Parameters\n",
    "sample_size = 1000\n",
    "mean = 5\n",
    "\n",
    "# Generate random sample from Poisson distribution\n",
    "random_sample = np.random.poisson(mean, size=sample_size)\n",
    "\n",
    "# Calculate sample mean and variance\n",
    "sample_mean = np.mean(random_sample)\n",
    "sample_variance = np.var(random_sample)\n",
    "\n",
    "print(f\"Sample Mean: {sample_mean}\")\n",
    "print(f\"Sample Variance: {sample_variance}\")\n"
   ]
  },
  {
   "cell_type": "code",
   "execution_count": 11,
   "id": "dfa195df-22a3-4008-8e68-8583c1434981",
   "metadata": {},
   "outputs": [],
   "source": [
    "# Answer 9\n",
    "\n",
    "# In both the Binomial distribution and Poisson distribution:\n",
    "\n",
    "# Mean (or expected value) is equal to the product of the number of trials (n) and the probability of success in each trial (p).\n",
    "\n",
    "# For the Binomial distribution: Mean (μ) = n * p\n",
    "# For the Poisson distribution: Mean (λ) = λ (parameter λ represents the average rate of occurrence)\n",
    "# Variance is equal to the product of the number of trials (n) and the probability of success in each trial (p) for the Binomial distribution. However, for the Poisson distribution, the variance is equal to the mean itself.\n",
    "\n",
    "# For the Binomial distribution: Variance = n * p * (1 - p)\n",
    "# For the Poisson distribution: Variance = λ (which is equal to the mean)\n"
   ]
  },
  {
   "cell_type": "code",
   "execution_count": null,
   "id": "8a851d35-e3eb-4380-9036-02dcf14173f2",
   "metadata": {},
   "outputs": [],
   "source": [
    "# Answer 10\n",
    "\n",
    "# In a normal distribution (also known as Gaussian distribution), the data is symmetrically distributed around the mean. The mean is the central value of the distribution, and it represents the peak or center of the curve. Since the normal distribution is symmetric, the least frequent data appears at the tails of the distribution, farthest from the mean.\n",
    "\n",
    "# Specifically, the tails of the normal distribution contain the extreme values, and the frequency of data decreases as you move away from the mean in either direction. The vast majority of data points lie close to the mean, and the frequency gradually decreases as you move towards the tails. The tails represent the rarest events in a normal distribution."
   ]
  }
 ],
 "metadata": {
  "kernelspec": {
   "display_name": "Python 3 (ipykernel)",
   "language": "python",
   "name": "python3"
  },
  "language_info": {
   "codemirror_mode": {
    "name": "ipython",
    "version": 3
   },
   "file_extension": ".py",
   "mimetype": "text/x-python",
   "name": "python",
   "nbconvert_exporter": "python",
   "pygments_lexer": "ipython3",
   "version": "3.10.8"
  }
 },
 "nbformat": 4,
 "nbformat_minor": 5
}
