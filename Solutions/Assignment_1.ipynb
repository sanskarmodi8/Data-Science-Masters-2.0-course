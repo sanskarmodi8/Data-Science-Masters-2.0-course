{
 "cells": [
  {
   "cell_type": "code",
   "execution_count": 1,
   "id": "685db3dc-d0af-438b-87db-7ea01550ecdc",
   "metadata": {},
   "outputs": [
    {
     "name": "stdout",
     "output_type": "stream",
     "text": [
      "<class 'str'>\n",
      "<class 'list'>\n",
      "<class 'float'>\n",
      "<class 'tuple'>\n"
     ]
    }
   ],
   "source": [
    "# Answer 1)\n",
    "\n",
    "# i)\n",
    "a = \"str\"\n",
    "\n",
    "# ii)\n",
    "b = [\"List\", 0, 1, 0.1001, True, False]\n",
    "\n",
    "# iii) \n",
    "c = 987.1023\n",
    "\n",
    "# iv) \n",
    "d = (\"tuple\",\"immutable\",)\n",
    "\n",
    "print(type(a))\n",
    "print(type(b))\n",
    "print(type(c))\n",
    "print(type(d))"
   ]
  },
  {
   "cell_type": "code",
   "execution_count": null,
   "id": "6585843e-0ab1-4579-a9ed-29d7f2ccddd7",
   "metadata": {},
   "outputs": [],
   "source": [
    "# Answer 2)\n",
    "\n",
    "# i)\n",
    "# String\n",
    "\n",
    "# ii)\n",
    "# String\n",
    "\n",
    "# iii) \n",
    "# List\n",
    "\n",
    "# iv) \n",
    "# Int"
   ]
  },
  {
   "cell_type": "code",
   "execution_count": 5,
   "id": "4adde808-fd87-4eef-bcfb-9e37449715a9",
   "metadata": {},
   "outputs": [
    {
     "name": "stdout",
     "output_type": "stream",
     "text": [
      "2.0\n",
      "0\n",
      "2\n",
      "8\n"
     ]
    }
   ],
   "source": [
    "# Answer 3)\n",
    "\n",
    "# i)\n",
    "# '/' is used for division eg-\n",
    "a = 4/2  # ans = 2\n",
    "print(a)\n",
    "\n",
    "# ii)\n",
    "# '%' is used for obtaining remainder eg-\n",
    "b = 4%2  # ans = 0\n",
    "print(b)\n",
    "\n",
    "# iii) \n",
    "# '//' is used to get the integral part (GIF) of the quotient eg-\n",
    "c = 5//2  # ans = 2\n",
    "print(c)\n",
    "\n",
    "# iv) \n",
    "# '**' is used as a power operator eg-\n",
    "d = 2**3  # ans = 2^3 = 8\n",
    "print(d)"
   ]
  },
  {
   "cell_type": "code",
   "execution_count": 26,
   "id": "e88f396a-79c0-4695-b48c-36f3fc867ff6",
   "metadata": {},
   "outputs": [
    {
     "name": "stdout",
     "output_type": "stream",
     "text": [
      "Length of the List is - 10\n",
      "\n",
      "\n",
      "Items in the List are -:\n",
      "\n",
      "0\n",
      "<class 'int'>\n",
      "\n",
      "\n",
      "1\n",
      "<class 'str'>\n",
      "\n",
      "\n",
      "2\n",
      "<class 'int'>\n",
      "\n",
      "\n",
      "3.0\n",
      "<class 'float'>\n",
      "\n",
      "\n",
      "4\n",
      "<class 'int'>\n",
      "\n",
      "\n",
      "True\n",
      "<class 'bool'>\n",
      "\n",
      "\n",
      "6\n",
      "<class 'int'>\n",
      "\n",
      "\n",
      "[5, 7, 9]\n",
      "<class 'list'>\n",
      "\n",
      "\n",
      "8\n",
      "<class 'int'>\n",
      "\n",
      "\n",
      "False\n",
      "<class 'bool'>\n",
      "\n",
      "\n"
     ]
    }
   ],
   "source": [
    "# Answer 4)\n",
    "\n",
    "list = [0,\"1\",2,3.0,4,True,6,[5,7,9],8,False]\n",
    "print(\"Length of the List is - \" + str(len(list)))\n",
    "\n",
    "print(\"\\n\\nItems in the List are -:\\n\")\n",
    "for data in list:\n",
    "    \n",
    "    print(data)\n",
    "    print(type(data))\n",
    "    print(\"\\n\")"
   ]
  },
  {
   "cell_type": "code",
   "execution_count": null,
   "id": "68714ce2-2069-4357-bf6d-e4c3fe9a43b1",
   "metadata": {},
   "outputs": [],
   "source": [
    "# Answer 5)\n",
    "\n",
    "a = int(input())  # num A\n",
    "copyA = a\n",
    "b = int(input())  # num B\n",
    "i=0\n",
    "\n",
    "while True:\n",
    "    if a%b == 0:\n",
    "        a/=b\n",
    "        i+=1\n",
    "        continue\n",
    "    elif a%b != 0 and a < copyA :\n",
    "        print(str(copyA) + \" is completely divisible by \" + str(b) + \" and it can be divided \" + str(i) + \" times.\" )\n",
    "        break\n",
    "    else:\n",
    "        print(str(a) + \" is not divisible by \" + str(b))\n",
    "        break\n"
   ]
  },
  {
   "cell_type": "code",
   "execution_count": 7,
   "id": "cf27bd1c-537f-4c6d-a170-85524cf0e6dd",
   "metadata": {},
   "outputs": [
    {
     "name": "stdout",
     "output_type": "stream",
     "text": [
      "Length of the List is - 25\n",
      "\n",
      "\n",
      "Items completely divisible by 3 are -:\n",
      "\n",
      "0 is divisible by 3.\n",
      "\n",
      "1 is not divisible by 3.\n",
      "\n",
      "2 is not divisible by 3.\n",
      "\n",
      "3 is divisible by 3.\n",
      "\n",
      "4 is not divisible by 3.\n",
      "\n",
      "5 is not divisible by 3.\n",
      "\n",
      "6 is divisible by 3.\n",
      "\n",
      "7 is not divisible by 3.\n",
      "\n",
      "8 is not divisible by 3.\n",
      "\n",
      "9 is divisible by 3.\n",
      "\n",
      "10 is not divisible by 3.\n",
      "\n",
      "11 is not divisible by 3.\n",
      "\n",
      "12 is divisible by 3.\n",
      "\n",
      "13 is not divisible by 3.\n",
      "\n",
      "14 is not divisible by 3.\n",
      "\n",
      "15 is divisible by 3.\n",
      "\n",
      "16 is not divisible by 3.\n",
      "\n",
      "17 is not divisible by 3.\n",
      "\n",
      "18 is divisible by 3.\n",
      "\n",
      "19 is not divisible by 3.\n",
      "\n",
      "20 is not divisible by 3.\n",
      "\n",
      "21 is divisible by 3.\n",
      "\n",
      "22 is not divisible by 3.\n",
      "\n",
      "23 is not divisible by 3.\n",
      "\n",
      "24 is divisible by 3.\n"
     ]
    }
   ],
   "source": [
    "# Answer 6)\n",
    "\n",
    "intList = [0,1,2,3,4,5,6,7,8,9,10,11,12,13,14,15,16,17,18,19,20,21,22,23,24]\n",
    "print(\"Length of the List is - \" + str(len(intList)))\n",
    "\n",
    "print(\"\\n\\nItems completely divisible by 3 are -:\")\n",
    "for i in intList:\n",
    "    if i%3 == 0:\n",
    "        print(\"\\n\" + str(i) + \" is divisible by 3.\")\n",
    "    else:\n",
    "        print(\"\\n\" + str(i) + \" is not divisible by 3.\")"
   ]
  },
  {
   "cell_type": "code",
   "execution_count": 8,
   "id": "429ae661-0daf-484e-90ba-1a1ca302b2a9",
   "metadata": {},
   "outputs": [
    {
     "name": "stdout",
     "output_type": "stream",
     "text": [
      "1\n",
      "0\n"
     ]
    }
   ],
   "source": [
    "# Answer 7)\n",
    "\n",
    "# Mutable Data types are the ones whose values can be changed or mutated. For eg -\n",
    "l = [1,1,2,3,4]\n",
    "print(l[0])\n",
    "l[0] = 0  # Changing the value of the item having 0th index in the list from 1 to 0\n",
    "print(l[0])\n",
    "\n",
    "\n",
    "# Immutable Data types are the ones whose values can't be changed or mutated. For eg -\n",
    "t = (1,1,2,3,4,)\n",
    "#t[0] = 0  # Changing the value of the item having 0th index in the tuple from 1 to 0  # this will give error as tuples are immutable"
   ]
  },
  {
   "cell_type": "code",
   "execution_count": null,
   "id": "794e7f92-cc4c-4e97-ad5b-0cab4cc6dfd9",
   "metadata": {},
   "outputs": [],
   "source": []
  }
 ],
 "metadata": {
  "kernelspec": {
   "display_name": "Python 3 (ipykernel)",
   "language": "python",
   "name": "python3"
  },
  "language_info": {
   "codemirror_mode": {
    "name": "ipython",
    "version": 3
   },
   "file_extension": ".py",
   "mimetype": "text/x-python",
   "name": "python",
   "nbconvert_exporter": "python",
   "pygments_lexer": "ipython3",
   "version": "3.10.8"
  }
 },
 "nbformat": 4,
 "nbformat_minor": 5
}
