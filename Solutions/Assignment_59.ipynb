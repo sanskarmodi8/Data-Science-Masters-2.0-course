{
 "cells": [
  {
   "cell_type": "code",
   "execution_count": 1,
   "id": "44358f24-13b6-4c56-8981-5207e495ab6e",
   "metadata": {},
   "outputs": [],
   "source": [
    "# Answer 1\n",
    "\n",
    "# The choice of metric depends on the characteristics of your dataset and your specific goals. For predicting house prices, MAE, MSE, and RMSE are commonly used metrics. If you want to emphasize the importance of larger errors, MSE or RMSE might be more suitable. If you want to understand the average percentage deviation, MAPE could be a good choice. Additionally, using multiple metrics in conjunction can provide a more comprehensive view of model performance."
   ]
  },
  {
   "cell_type": "code",
   "execution_count": null,
   "id": "0cdb0fc4-408a-45a1-a76e-e0186dda0e35",
   "metadata": {},
   "outputs": [],
   "source": [
    "# Answer 2\n",
    "\n",
    "# If your goal is to predict the actual price of a house as accurately as possible, using Mean Squared Error (MSE) as your evaluation metric would be more appropriate.\n",
    "\n",
    "# MSE measures the average of the squared differences between predicted and actual values. It heavily penalizes larger errors, which makes it well-suited for situations where the focus is on minimizing the magnitude of errors. By minimizing MSE, you are essentially aiming to reduce the overall magnitude of errors in your predictions, which aligns with the goal of accurately predicting house prices.\n",
    "\n",
    "# On the other hand, R-squared (Coefficient of Determination) measures the proportion of the variance in the dependent variable that is explained by the independent variables. While R-squared is a valuable metric for understanding the proportion of variability explained by the model, it might not directly reflect the accuracy of predicting the actual price of a house.\n",
    "\n",
    "# Since your primary goal is accurate prediction of house prices, minimizing MSE will lead you to focus on minimizing the squared differences between your predicted prices and the actual prices. This will ensure that the model aims to make predictions that are as close to the true prices as possible."
   ]
  },
  {
   "cell_type": "code",
   "execution_count": null,
   "id": "10b7f172-baa6-4326-be46-5f5d49e64ed4",
   "metadata": {},
   "outputs": [],
   "source": [
    "# Answer 3\n",
    "\n",
    "# When dealing with a dataset that contains a significant number of outliers, the most appropriate regression metric to use with your SVM model is the Median Absolute Error (MedAE).\n",
    "\n",
    "# MedAE is a robust metric that measures the median absolute difference between the predicted and actual values. Unlike Mean Squared Error (MSE) and Root Mean Squared Error (RMSE), which can be highly influenced by outliers due to the squaring operation, MedAE is not as sensitive to extreme values. It gives equal weight to all errors regardless of their magnitude, making it less affected by outliers.\n",
    "\n",
    "# Since outliers can have a disproportionately large impact on traditional metrics like MSE and RMSE, using MedAE helps to provide a more accurate assessment of the model's performance in the presence of outliers. It's a suitable choice when your focus is on predicting values accurately while being less affected by extreme observations."
   ]
  },
  {
   "cell_type": "code",
   "execution_count": null,
   "id": "c314843d-657b-431a-9451-7b0c04cf2c4f",
   "metadata": {},
   "outputs": [],
   "source": [
    "# Answer 4\n",
    "\n",
    "# In a scenario where you have built an SVM regression model using a polynomial kernel and both the Mean Squared Error (MSE) and Root Mean Squared Error (RMSE) values are very close, either metric can be used to evaluate the performance of the model. Since both MSE and RMSE are closely related and differ only in the squaring and square root operations, their values will be proportional to each other.\n",
    "\n",
    "# In this situation, you can choose either MSE or RMSE based on your preference and the context of your analysis. If you prefer to work with metric values in the same unit as the target variable and want a more interpretable metric, you can choose RMSE. On the other hand, if you want to work with a metric that emphasizes larger errors and penalizes them more heavily, you can choose MSE.\n",
    "\n",
    "# Both metrics provide similar information about the model's performance, and the choice between them often comes down to personal preference and the specific goals of your analysis."
   ]
  },
  {
   "cell_type": "code",
   "execution_count": null,
   "id": "4fe4db50-dcdb-484c-a89d-159c95d4c6f1",
   "metadata": {},
   "outputs": [],
   "source": [
    "# Answer 5\n",
    "\n",
    "# If your goal is to measure how well the model explains the variance in the target variable, the most appropriate evaluation metric to use is the R-squared (Coefficient of Determination) metric.\n",
    "\n",
    "# R-squared measures the proportion of the variance in the dependent variable (target) that is explained by the independent variables (features) used in the model. It provides insight into how well the model captures the variability in the target variable. R-squared values range between 0 and 1, where:\n",
    "\n",
    "# An R-squared value of 1 indicates that the model explains all the variability in the target variable, meaning it perfectly fits the data.\n",
    "# An R-squared value of 0 indicates that the model does not explain any variability, and its predictions are equivalent to the mean of the target variable.\n",
    "# R-squared is particularly suitable when comparing models with different kernels (linear, polynomial, RBF) because it gives you a relative measure of how well each model explains the variance in the target variable. It allows you to assess whether the added complexity of a non-linear kernel, such as polynomial or radial basis function (RBF), results in improved explanation of variance compared to a linear kernel."
   ]
  }
 ],
 "metadata": {
  "kernelspec": {
   "display_name": "Python 3 (ipykernel)",
   "language": "python",
   "name": "python3"
  },
  "language_info": {
   "codemirror_mode": {
    "name": "ipython",
    "version": 3
   },
   "file_extension": ".py",
   "mimetype": "text/x-python",
   "name": "python",
   "nbconvert_exporter": "python",
   "pygments_lexer": "ipython3",
   "version": "3.10.8"
  }
 },
 "nbformat": 4,
 "nbformat_minor": 5
}
