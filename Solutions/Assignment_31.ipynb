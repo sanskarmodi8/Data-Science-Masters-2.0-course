{
 "cells": [
  {
   "cell_type": "code",
   "execution_count": 1,
   "id": "496bf055-7916-4125-aba7-19478b5d2b40",
   "metadata": {},
   "outputs": [],
   "source": [
    "# Answer 1\n",
    "\n",
    "# Estimation statistics is a branch of inferential statistics that deals with estimating population parameters (such as the mean or proportion) based on sample data. Estimation aims to draw conclusions about the population using information obtained from a sample.\n",
    "\n",
    "# Point Estimate:\n",
    "# A point estimate is a single value that serves as the best guess or approximation for the population parameter. It is derived from sample data and provides an estimate of the unknown population parameter.\n",
    "\n",
    "# Example of Point Estimate:\n",
    "# If we calculate the mean height of a sample of 100 individuals and find it to be 170 cm, then 170 cm is the point estimate for the mean height of the entire population.\n",
    "\n",
    "# Interval Estimate:\n",
    "# An interval estimate, also known as a confidence interval, provides a range of values within which the population parameter is likely to lie. It conveys the uncertainty associated with the point estimate by providing an upper and lower bound around it.\n",
    "\n",
    "# Example of Interval Estimate:\n",
    "# A 95% confidence interval for the population mean height could be (165 cm, 175 cm), which means we are 95% confident that the true mean height of the population lies between 165 cm and 175 cm based on the sample data."
   ]
  },
  {
   "cell_type": "code",
   "execution_count": 18,
   "id": "772ac72d-e87d-45dd-bc74-9db79abba9ed",
   "metadata": {},
   "outputs": [
    {
     "name": "stdout",
     "output_type": "stream",
     "text": [
      "95% Confidence Interval: (486.1407070887437, 513.8592929112564)\n"
     ]
    }
   ],
   "source": [
    "# Answer 2\n",
    "\n",
    "def estimate_population_mean(sample_mean, sample_std_dev, sample_size):\n",
    "    import math\n",
    "    \n",
    "    # Z-score for 95% confidence level (two-tailed)\n",
    "    z_critical = 1.96\n",
    "    \n",
    "    # Calculate the margin of error\n",
    "    margin_of_error = z_critical * (sample_std_dev / math.sqrt(sample_size))\n",
    "    \n",
    "    # Calculate the confidence interval\n",
    "    lower_bound = sample_mean - margin_of_error\n",
    "    upper_bound = sample_mean + margin_of_error\n",
    "    \n",
    "    return lower_bound, upper_bound\n",
    "\n",
    "# Example usage:\n",
    "sample_mean = 500\n",
    "sample_std_dev = 50\n",
    "sample_size = 50\n",
    "\n",
    "lower_bound, upper_bound = estimate_population_mean(sample_mean, sample_std_dev, sample_size)\n",
    "print(f\"95% Confidence Interval: ({lower_bound}, {upper_bound})\")\n"
   ]
  },
  {
   "cell_type": "code",
   "execution_count": 3,
   "id": "1f1eee35-0e12-4979-ac77-bb980d7a179a",
   "metadata": {},
   "outputs": [],
   "source": [
    "# Answer 3\n",
    "\n",
    "# Hypothesis testing is a statistical method used to make inferences about population parameters based on sample data. It involves formulating two competing hypotheses, the null hypothesis (H0) and the alternative hypothesis (Ha), and assessing the evidence in favor of one of these hypotheses.\n",
    "\n",
    "# The main purpose of hypothesis testing is to determine whether there is enough evidence to support a claim or belief about a population parameter. It is used to draw conclusions and make decisions in various fields, including science, research, medicine, economics, and business.\n",
    "\n",
    "# Importance of Hypothesis Testing:\n",
    "\n",
    "# Evidence-Based Decision Making: Hypothesis testing provides a systematic way to assess evidence and make decisions based on data rather than intuition or personal beliefs.\n",
    "\n",
    "# Testing Research Hypotheses: In scientific research, hypothesis testing is crucial for testing research hypotheses and drawing valid conclusions.\n",
    "\n",
    "# Assessing Treatment Effects: In medical trials and experiments, hypothesis testing helps determine whether a treatment or intervention has a significant effect.\n",
    "\n",
    "# Quality Control: In industries, hypothesis testing is used to monitor and improve product quality.\n",
    "\n",
    "# Business Decision Making: In business analytics, hypothesis testing is used to assess the impact of marketing strategies, product changes, or process improvements."
   ]
  },
  {
   "cell_type": "code",
   "execution_count": 4,
   "id": "fc67869e-8eaf-43d2-83d4-c7102c16da1f",
   "metadata": {},
   "outputs": [],
   "source": [
    "# Answer 4\n",
    "\n",
    "# Null Hypothesis (H0): The average weight of male college students is equal to or less than the average weight of female college students.\n",
    "# Alternative Hypothesis (Ha): The average weight of male college students is greater than the average weight of female college students."
   ]
  },
  {
   "cell_type": "code",
   "execution_count": 19,
   "id": "0454f282-2b6b-484c-a557-c01db7a1ed8c",
   "metadata": {},
   "outputs": [
    {
     "name": "stdout",
     "output_type": "stream",
     "text": [
      "Reject the null hypothesis. There is a significant difference between the population means.\n"
     ]
    }
   ],
   "source": [
    "# Answer 5\n",
    "\n",
    "import numpy as np\n",
    "from scipy.stats import ttest_ind\n",
    "\n",
    "# Sample data for two populations\n",
    "population1 = [72, 75, 69, 71, 73, 70, 68, 74, 72, 76]\n",
    "population2 = [65, 68, 70, 67, 72, 66, 69, 68, 71, 70]\n",
    "\n",
    "# Conduct independent two-sample t-test\n",
    "t_stat, p_value = ttest_ind(population1, population2)\n",
    "\n",
    "# Test the null hypothesis\n",
    "alpha = 0.05\n",
    "if p_value < alpha:\n",
    "    print(\"Reject the null hypothesis. There is a significant difference between the population means.\")\n",
    "else:\n",
    "    print(\"Fail to reject the null hypothesis. There is no significant difference between the population means.\")\n"
   ]
  },
  {
   "cell_type": "code",
   "execution_count": 6,
   "id": "fc3aa57c-b416-4e41-9c6d-a61cdfc4d4f0",
   "metadata": {},
   "outputs": [],
   "source": [
    "# Answer 6\n",
    "\n",
    "# Null Hypothesis (H0):\n",
    "\n",
    "# The null hypothesis is a statement of no effect or no difference between groups or conditions.\n",
    "# It often represents the status quo or the current belief, assuming that any observed differences are due to random chance.\n",
    "# In hypothesis testing, the null hypothesis is tested against the alternative hypothesis.\n",
    "# Example of Null Hypothesis:\n",
    "# H0: There is no significant difference in test scores between students who use Method A and students who use Method B.\n",
    "\n",
    "# Alternative Hypothesis (Ha):\n",
    "\n",
    "# The alternative hypothesis is a statement that contradicts the null hypothesis and represents the researcher's claim or hypothesis.\n",
    "# It suggests that there is a significant effect or difference between groups or conditions.\n",
    "# Example of Alternative Hypothesis:\n",
    "# Ha: Students who use Method A perform significantly better on the test than students who use Method B.\n",
    "\n"
   ]
  },
  {
   "cell_type": "code",
   "execution_count": 7,
   "id": "f2123146-a8cc-4ca8-9bac-2cf1eb13bddc",
   "metadata": {},
   "outputs": [],
   "source": [
    "# Answer 7\n",
    "\n",
    "# The steps involved in hypothesis testing are as follows:\n",
    "\n",
    "# Formulate Hypotheses:\n",
    "\n",
    "# State the null hypothesis (H0), representing no effect or no difference.\n",
    "# State the alternative hypothesis (Ha), representing the researcher's claim.\n",
    "# Set Significance Level (α):\n",
    "\n",
    "# Choose a significance level (α), typically 0.05 (5%) or 0.01 (1%). It represents the probability of rejecting the null hypothesis when it is true.\n",
    "# Collect Data and Calculate Test Statistic:\n",
    "\n",
    "# Collect sample data from the population.\n",
    "# Calculate the appropriate test statistic based on the study design and the type of hypothesis test (e.g., t-statistic, z-statistic).\n",
    "# Determine Critical Region:\n",
    "\n",
    "# Identify the critical region(s) in the probability distribution that corresponds to the chosen significance level (α).\n",
    "# Calculate P-Value:\n",
    "\n",
    "# Calculate the p-value, which represents the probability of observing the data or more extreme results if the null hypothesis is true.\n",
    "# Compare P-Value with α:\n",
    "\n",
    "# If the p-value is less than or equal to the chosen significance level (p ≤ α), reject the null hypothesis in favor of the alternative hypothesis.\n",
    "# If the p-value is greater than the chosen significance level (p > α), fail to reject the null hypothesis.\n",
    "# Draw Conclusion:\n",
    "\n",
    "# Based on the p-value and the chosen significance level, draw a conclusion about the null hypothesis.\n",
    "# If the null hypothesis is rejected, interpret the results and support the alternative hypothesis."
   ]
  },
  {
   "cell_type": "code",
   "execution_count": 20,
   "id": "bc45f80c-3404-463f-a27f-31f6959b545c",
   "metadata": {},
   "outputs": [],
   "source": [
    "# Answer 8\n",
    "\n",
    "# The p-value, or probability value, is a measure of evidence against the null hypothesis in hypothesis testing. It represents the probability of observing the data or more extreme results if the null hypothesis is true. In other words, the p-value quantifies the strength of the evidence against the null hypothesis.\n",
    "\n",
    "# Significance of the p-value in Hypothesis Testing:\n",
    "\n",
    "# If the p-value is small (typically less than the chosen significance level α), it suggests that the observed data is unlikely under the null hypothesis. This provides evidence to reject the null hypothesis in favor of the alternative hypothesis.\n",
    "\n",
    "# If the p-value is large (greater than the chosen significance level α), it suggests that the observed data is likely under the null hypothesis. In this case, there is insufficient evidence to reject the null hypothesis.\n",
    "\n",
    "# A p-value does not prove the null hypothesis; it only provides evidence for or against it. It helps in drawing conclusions about the population based on the sample data.\n",
    "\n"
   ]
  },
  {
   "cell_type": "code",
   "execution_count": 22,
   "id": "59b51709-e917-4539-b165-8f76aeade652",
   "metadata": {},
   "outputs": [
    {
     "data": {
      "image/png": "[encoded data removed]",
      "text/plain": [
       "<Figure size 640x480 with 1 Axes>"
      ]
     },
     "metadata": {},
     "output_type": "display_data"
    }
   ],
   "source": [
    "# Answer 9\n",
    "\n",
    "import numpy as np\n",
    "import matplotlib.pyplot as plt\n",
    "from scipy.stats import t\n",
    "\n",
    "# Degrees of freedom\n",
    "df = 10\n",
    "\n",
    "# Generate values for the x-axis (t-values)\n",
    "x = np.linspace(-5, 5, 1000)\n",
    "\n",
    "# Calculate the probability density function (PDF) for the t-distribution\n",
    "pdf_values = t.pdf(x, df)\n",
    "\n",
    "# Plot the t-distribution\n",
    "plt.plot(x, pdf_values, label=f\"df = {df}\")\n",
    "plt.xlabel('t-value')\n",
    "plt.ylabel('Probability Density')\n",
    "plt.title('Student\\'s t-Distribution')\n",
    "plt.legend()\n",
    "plt.grid(True)\n",
    "plt.show()\n"
   ]
  },
  {
   "cell_type": "code",
   "execution_count": 23,
   "id": "3f74cbf6-4d08-487c-a276-86ee8edd5b91",
   "metadata": {},
   "outputs": [
    {
     "name": "stdout",
     "output_type": "stream",
     "text": [
      "Two-Sample T-Test Results:\n",
      "T-Statistic: 1.7608175569602638\n",
      "P-Value: 0.11630190916212516\n"
     ]
    }
   ],
   "source": [
    "# Answer 10\n",
    "\n",
    "import numpy as np\n",
    "from scipy.stats import ttest_ind\n",
    "\n",
    "def two_sample_ttest(sample1, sample2):\n",
    "    # Conduct independent two-sample t-test\n",
    "    t_stat, p_value = ttest_ind(sample1, sample2)\n",
    "    \n",
    "    # Return the test statistic and p-value\n",
    "    return t_stat, p_value\n",
    "\n",
    "# Example usage:\n",
    "sample1 = [85, 92, 78, 88, 95]\n",
    "sample2 = [72, 80, 77, 85, 88]\n",
    "\n",
    "t_statistic, p_value = two_sample_ttest(sample1, sample2)\n",
    "\n",
    "print(\"Two-Sample T-Test Results:\")\n",
    "print(f\"T-Statistic: {t_statistic}\")\n",
    "print(f\"P-Value: {p_value}\")\n"
   ]
  },
  {
   "cell_type": "code",
   "execution_count": 11,
   "id": "fa78bf6e-8a70-4791-9242-82318f2cb60f",
   "metadata": {},
   "outputs": [],
   "source": [
    "# Answer 11\n",
    "\n",
    "# Student's t-distribution, commonly referred to as the t-distribution, is a probability distribution used in hypothesis testing and confidence interval estimation when the sample size is small or when the population standard deviation is unknown. It is a modification of the standard normal distribution and is characterized by its degrees of freedom (df).\n",
    "\n",
    "# When to use the t-Distribution:\n",
    "\n",
    "# The t-distribution is used under the following conditions:\n",
    "\n",
    "# Small Sample Size: When the sample size is small (typically less than 30) and the population standard deviation is unknown, the t-distribution is used for hypothesis testing and confidence intervals.\n",
    "\n",
    "# Population Standard Deviation Unknown: When the population standard deviation is unknown, and the sample size is not large, the t-distribution is used instead of the standard normal distribution.\n",
    "\n",
    "# Normally Distributed Data: The t-distribution assumes that the data is normally distributed.\n",
    "\n",
    "# The larger the sample size (degrees of freedom increase), the t-distribution approaches the standard normal distribution. As the sample size increases, the t-distribution becomes very similar to the standard normal distribution, and using the standard normal distribution is appropriate in such cases.\n",
    "\n"
   ]
  },
  {
   "cell_type": "code",
   "execution_count": 12,
   "id": "1373ba03-bb8f-4921-8c22-5c2a1d6539c3",
   "metadata": {},
   "outputs": [],
   "source": [
    "# Answer 12\n",
    "\n",
    "# The t-statistic is a measure used in hypothesis testing to assess the difference between a sample statistic (such as the sample mean) and the corresponding population parameter when the population standard deviation is unknown and estimated from the sample. It indicates how many standard errors the sample statistic is away from the hypothesized population parameter under the null hypothesis.\n",
    "\n",
    "# Formula for t-statistic:\n",
    "\n",
    "# The formula for the t-statistic depends on the type of hypothesis test being performed. For a one-sample t-test comparing the sample mean (x̄) to a hypothesized population mean (μ), the t-statistic is calculated as follows:\n",
    "\n",
    "# t = (x̄ - μ) / (s / √n)\n",
    "\n",
    "# where:\n",
    "\n",
    "# x̄ is the sample mean,\n",
    "# μ is the hypothesized population mean under the null hypothesis,\n",
    "# s is the sample standard deviation,\n",
    "# n is the sample size."
   ]
  },
  {
   "cell_type": "code",
   "execution_count": 24,
   "id": "a6172f93-f6f9-495e-abbb-9f41ccecfd81",
   "metadata": {},
   "outputs": [
    {
     "name": "stdout",
     "output_type": "stream",
     "text": [
      "95% Confidence Interval for Population Mean Revenue: ($485.79, $514.21)\n"
     ]
    }
   ],
   "source": [
    "# Answer 13\n",
    "\n",
    "# To estimate the population mean revenue with a 95% confidence interval, we use the t-distribution since the population standard deviation is unknown, and the sample size is relatively small (n = 50).\n",
    "\n",
    "# The formula for the confidence interval is:\n",
    "\n",
    "# Confidence Interval = sample mean ± (critical value) * (standard error)\n",
    "\n",
    "# where the standard error is the standard deviation of the sample mean, given by:\n",
    "\n",
    "# Standard Error = sample standard deviation / √(sample size)\n",
    "\n",
    "# Let's calculate the confidence interval using Python:\n",
    "\n",
    "import numpy as np\n",
    "from scipy.stats import t\n",
    "\n",
    "# Sample data\n",
    "sample_mean = 500\n",
    "sample_std_dev = 50\n",
    "sample_size = 50\n",
    "confidence_level = 0.95\n",
    "\n",
    "# Calculate the critical value (t-value) for a 95% confidence level and 49 degrees of freedom (n - 1)\n",
    "t_critical = t.ppf((1 + confidence_level) / 2, df=sample_size - 1)\n",
    "\n",
    "# Calculate the standard error\n",
    "standard_error = sample_std_dev / np.sqrt(sample_size)\n",
    "\n",
    "# Calculate the lower and upper bounds of the confidence interval\n",
    "lower_bound = sample_mean - t_critical * standard_error\n",
    "upper_bound = sample_mean + t_critical * standard_error\n",
    "\n",
    "print(f\"95% Confidence Interval for Population Mean Revenue: (${lower_bound:.2f}, ${upper_bound:.2f})\")\n"
   ]
  },
  {
   "cell_type": "code",
   "execution_count": 25,
   "id": "810b0505-c96c-4a15-98ce-ecafeda28b5b",
   "metadata": {},
   "outputs": [
    {
     "name": "stdout",
     "output_type": "stream",
     "text": [
      "Fail to reject the null hypothesis. There is insufficient evidence that the drug decreases blood pressure by 10 mmHg.\n"
     ]
    }
   ],
   "source": [
    "# Answer 14\n",
    "\n",
    "# To test the hypothesis, we can use a one-sample t-test. The null hypothesis (H0) assumes no difference in blood pressure (mean decrease of 0 mmHg), and the alternative hypothesis (Ha) assumes a mean decrease of 10 mmHg.\n",
    "\n",
    "# Using Python:\n",
    "\n",
    "import numpy as np\n",
    "from scipy.stats import t\n",
    "\n",
    "# Sample data\n",
    "sample_mean = 8\n",
    "sample_std_dev = 3\n",
    "sample_size = 100\n",
    "null_hypothesis_mean = 0\n",
    "hypothesized_mean = 10\n",
    "significance_level = 0.05\n",
    "\n",
    "# Calculate the t-statistic\n",
    "t_statistic = (sample_mean - hypothesized_mean) / (sample_std_dev / np.sqrt(sample_size))\n",
    "\n",
    "# Calculate the degrees of freedom\n",
    "df = sample_size - 1\n",
    "\n",
    "# Calculate the critical value (t-value) for the given significance level and degrees of freedom\n",
    "t_critical = t.ppf(1 - significance_level / 2, df)\n",
    "\n",
    "# Compare the t-statistic with the critical value\n",
    "if t_statistic > t_critical:\n",
    "    print(\"Reject the null hypothesis. There is evidence that the drug decreases blood pressure by 10 mmHg.\")\n",
    "else:\n",
    "    print(\"Fail to reject the null hypothesis. There is insufficient evidence that the drug decreases blood pressure by 10 mmHg.\")\n"
   ]
  },
  {
   "cell_type": "code",
   "execution_count": 26,
   "id": "904d173e-0fcd-4e16-a27a-8c754b454c09",
   "metadata": {},
   "outputs": [
    {
     "name": "stdout",
     "output_type": "stream",
     "text": [
      "Fail to reject the null hypothesis. There is insufficient evidence that the true mean weight is less than 5 pounds.\n"
     ]
    }
   ],
   "source": [
    "# Answer 15\n",
    "\n",
    "import numpy as np\n",
    "from scipy.stats import t\n",
    "\n",
    "# Sample data\n",
    "sample_mean = 4.8\n",
    "population_mean = 5\n",
    "sample_std_dev = 0.5\n",
    "sample_size = 25\n",
    "significance_level = 0.01\n",
    "\n",
    "# Calculate the t-statistic\n",
    "t_statistic = (sample_mean - population_mean) / (sample_std_dev / np.sqrt(sample_size))\n",
    "\n",
    "# Calculate the degrees of freedom\n",
    "df = sample_size - 1\n",
    "\n",
    "# Calculate the critical value (t-value) for the given significance level and degrees of freedom\n",
    "t_critical = t.ppf(significance_level, df)\n",
    "\n",
    "# Compare the t-statistic with the critical value\n",
    "if t_statistic < t_critical:\n",
    "    print(\"Reject the null hypothesis. There is evidence that the true mean weight is less than 5 pounds.\")\n",
    "else:\n",
    "    print(\"Fail to reject the null hypothesis. There is insufficient evidence that the true mean weight is less than 5 pounds.\")\n"
   ]
  },
  {
   "cell_type": "code",
   "execution_count": 27,
   "id": "aa9faef3-56e2-49ba-a6b0-ef7bf2f472f8",
   "metadata": {},
   "outputs": [
    {
     "name": "stdout",
     "output_type": "stream",
     "text": [
      "Fail to reject the null hypothesis. There is no evidence that the population means for the two groups are different.\n"
     ]
    }
   ],
   "source": [
    "# Answer 16\n",
    "\n",
    "import numpy as np\n",
    "from scipy.stats import ttest_ind\n",
    "\n",
    "# Sample data for two groups\n",
    "group1_mean = 80\n",
    "group1_std_dev = 10\n",
    "group1_size = 30\n",
    "\n",
    "group2_mean = 75\n",
    "group2_std_dev = 8\n",
    "group2_size = 40\n",
    "\n",
    "significance_level = 0.01\n",
    "\n",
    "# Conduct independent two-sample t-test\n",
    "t_statistic, p_value = ttest_ind(np.random.normal(group1_mean, group1_std_dev, group1_size),\n",
    "                                 np.random.normal(group2_mean, group2_std_dev, group2_size))\n",
    "\n",
    "# Compare the p-value with the significance level\n",
    "if p_value < significance_level:\n",
    "    print(\"Reject the null hypothesis. There is evidence that the population means for the two groups are different.\")\n",
    "else:\n",
    "    print(\"Fail to reject the null hypothesis. There is no evidence that the population means for the two groups are different.\")\n"
   ]
  },
  {
   "cell_type": "code",
   "execution_count": 28,
   "id": "6d45b437-ab48-471b-a7e9-a543aac7a7b9",
   "metadata": {},
   "outputs": [
    {
     "name": "stdout",
     "output_type": "stream",
     "text": [
      "99% Confidence Interval for Population Mean: (3.45, 4.55)\n"
     ]
    }
   ],
   "source": [
    "# Answer 17\n",
    "\n",
    "import numpy as np\n",
    "\n",
    "# Sample data\n",
    "sample_mean = 4\n",
    "sample_std_dev = 1.5\n",
    "sample_size = 50\n",
    "confidence_level = 0.99\n",
    "\n",
    "# Population standard deviation (known)\n",
    "population_std_dev = 1.5\n",
    "\n",
    "# Calculate the critical value (z-value) for a 99% confidence level\n",
    "z_critical = 2.576\n",
    "\n",
    "# Calculate the standard error\n",
    "standard_error = population_std_dev / np.sqrt(sample_size)\n",
    "\n",
    "# Calculate the lower and upper bounds of the confidence interval\n",
    "lower_bound = sample_mean - z_critical * standard_error\n",
    "upper_bound = sample_mean + z_critical * standard_error\n",
    "\n",
    "print(f\"99% Confidence Interval for Population Mean: ({lower_bound:.2f}, {upper_bound:.2f})\")\n"
   ]
  },
  {
   "cell_type": "code",
   "execution_count": null,
   "id": "fc951fc1-6426-4c3b-887a-932cd2097e82",
   "metadata": {},
   "outputs": [],
   "source": []
  }
 ],
 "metadata": {
  "kernelspec": {
   "display_name": "Python 3 (ipykernel)",
   "language": "python",
   "name": "python3"
  },
  "language_info": {
   "codemirror_mode": {
    "name": "ipython",
    "version": 3
   },
   "file_extension": ".py",
   "mimetype": "text/x-python",
   "name": "python",
   "nbconvert_exporter": "python",
   "pygments_lexer": "ipython3",
   "version": "3.10.8"
  }
 },
 "nbformat": 4,
 "nbformat_minor": 5
}
