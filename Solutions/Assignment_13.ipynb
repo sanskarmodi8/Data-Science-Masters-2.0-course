{
 "cells": [
  {
   "cell_type": "code",
   "execution_count": null,
   "id": "9c4e0ce1-fd75-4f14-b36d-e9a4a66dd565",
   "metadata": {},
   "outputs": [],
   "source": [
    "# Answer 1\n",
    "\n",
    "# An API is a set of rules that allows different software applications to communicate and share data. It enables developers to integrate\n",
    "# functionality from one application into another."
   ]
  },
  {
   "cell_type": "code",
   "execution_count": null,
   "id": "a34db10a-1f8f-4833-bd35-6c154d213832",
   "metadata": {},
   "outputs": [],
   "source": [
    "# Answer 2\n",
    "\n",
    "# Some advantages of using API:\n",
    "# 1. Integration: APIs enable easy integration of functionalities between applications.\n",
    "# 2. Efficiency: APIs save development time by providing pre-built functionalities.\n",
    "\n",
    "# Some disadvantages of using API:\n",
    "# 1. Dependency: APIs rely on external services, making dependent applications vulnerable to disruptions or changes in the API.\n",
    "# 2. Lack of Control: API providers control the APIs, which can lead to compatibility issues or require modifications in dependent applications."
   ]
  },
  {
   "cell_type": "code",
   "execution_count": null,
   "id": "d557b1d2-0dad-4789-94a9-dcc2db01c707",
   "metadata": {},
   "outputs": [],
   "source": [
    "# Answer 3\n",
    "\n",
    "# A Web API is an API that is specifically designed for web applications, allowing them to communicate and interact with server-side \n",
    "# resources over the internet. \n",
    "\n",
    "# Difference between API and Web API: \n",
    "# 1) API refers to a general set of rules and protocols that enable software applications to communicate and interact with each other, while \n",
    "# 2) Web API specifically focuses on APIs designed for web-based applications, facilitating communication between web servers and client \n",
    "# applications using HTTP protocols."
   ]
  },
  {
   "cell_type": "code",
   "execution_count": 1,
   "id": "53b2b8c9-ce8b-4aa3-be33-e599bc728e9f",
   "metadata": {},
   "outputs": [],
   "source": [
    "# Answer 4\n",
    "\n",
    "#REST is a simple, scalable web service architecture that uses HTTP methods (GET, POST, PUT, DELETE).\n",
    "#It stands for representational state transfer\n",
    "\n",
    "#SOAP (Simple Object Access Protocol) is a protocol that defines a set of rules for structuring messages \n",
    "# exchanged between web services. It relies on XML for message format and can use different transport protocols like HTTP, SMTP, or others. It is more \n",
    "# secure than REST\n",
    "\n",
    "# Shortcomings of SOAP are -- Complexity, larger message size, limited compatibility, and less flexibility and scalibility compared to REST."
   ]
  },
  {
   "cell_type": "code",
   "execution_count": null,
   "id": "0b30acc7-e247-4caf-bd7d-3d6e470a1ad9",
   "metadata": {},
   "outputs": [],
   "source": [
    "# Answer 5\n",
    "\n",
    "# REST --\n",
    "# Simpler and lightweight architecture.\n",
    "# Uses standard HTTP methods for communication.\n",
    "# Emphasizes statelessness and scalability.\n",
    "# Supports various data formats such as JSON, XML, etc.\n",
    "\n",
    "# SOAP --\n",
    "# More secure\n",
    "# Protocol with a more complex and heavy structure.\n",
    "# Relies on XML for message format.\n",
    "# Supports multiple transport protocols."
   ]
  }
 ],
 "metadata": {
  "kernelspec": {
   "display_name": "Python 3 (ipykernel)",
   "language": "python",
   "name": "python3"
  },
  "language_info": {
   "codemirror_mode": {
    "name": "ipython",
    "version": 3
   },
   "file_extension": ".py",
   "mimetype": "text/x-python",
   "name": "python",
   "nbconvert_exporter": "python",
   "pygments_lexer": "ipython3",
   "version": "3.10.8"
  }
 },
 "nbformat": 4,
 "nbformat_minor": 5
}
