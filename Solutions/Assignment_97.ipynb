{
 "cells": [
  {
   "cell_type": "code",
   "execution_count": 1,
   "id": "8668e36e-c065-4051-8a19-561591e77281",
   "metadata": {},
   "outputs": [],
   "source": [
    "# 1) Objectives of Using Selective Search in R-CNN: Selective Search is used to generate region proposals in R-CNN. The objective is to identify potential object regions in an image efficiently.\n",
    "\n",
    "# 2) Phases Involved in R-CNN:\n",
    "\n",
    "# Region Proposal: In this phase, Selective Search generates region proposals.\n",
    "# Feature Extraction: Extract features from each region proposal using a pre-trained CNN.\n",
    "# Object Classification: Use an SVM classifier to classify objects within these proposals.\n",
    "# Cleanup: Post-processing to filter and refine the detected objects.\n",
    "# Implementation of Counting Logic: Counting and logging the detected objects.\n",
    "\n",
    "# 3) Pre-trained CNNs for Feature Extraction: Common pre-trained CNN architectures used in R-CNN include AlexNet, VGG, and ResNet.\n",
    "\n",
    "# 4) Implementation of SVM in R-CNN: R-CNN uses Support Vector Machines (SVMs) for object classification. Features extracted from the region proposals are fed into SVMs for classification.\n",
    "\n",
    "# 5) Non-Maximum Suppression (NMS): NMS is used to suppress duplicate or overlapping region proposals, keeping only the most confident one.\n",
    "\n",
    "# 6) Fast R-CNN vs. R-CNN: Fast R-CNN is an improvement over R-CNN. It shares the convolutional feature map across all region proposals, making it faster and more efficient.\n",
    "\n",
    "# 7) RoI Pooling: RoI pooling is used to extract fixed-sized features from irregularly sized region proposals.\n",
    "\n",
    "# 8) RoI Projection: RoI (Region of Interest) projection involves mapping region proposals back to the original image.\n",
    "\n",
    "# RoI Pooling: RoI pooling is used to extract fixed-sized features from irregularly sized region proposals.\n",
    "\n",
    "# 9) Object Classifier Activation Function Change: In Fast R-CNN, the object classifier activation function changes to Softmax, allowing multi-class object classification.\n",
    "\n",
    "# 10) Major Changes in Faster R-CNN:\n",
    "\n",
    "# Faster R-CNN improves the speed and efficiency of object detection by introducing the Region Proposal Network (RPN) inside the network architecture. It combines region proposal and object detection into a single framework.\n",
    "\n",
    "# 11) Anchor Boxes:\n",
    "\n",
    "# Anchor boxes are predefined bounding boxes of different aspect ratios and scales. They help the model detect objects of various sizes and shapes by regressing to these anchor boxes during training.\n"
   ]
  },
  {
   "cell_type": "code",
   "execution_count": 2,
   "id": "ce687500-5df1-4152-8196-e4a8a3f78a66",
   "metadata": {},
   "outputs": [
    {
     "name": "stdout",
     "output_type": "stream",
     "text": [
      "Collecting torch\n",
      "  Using cached torch-2.1.0-cp310-cp310-manylinux1_x86_64.whl (670.2 MB)\n",
      "Collecting torchvision\n",
      "  Downloading torchvision-0.16.0-cp310-cp310-manylinux1_x86_64.whl (6.9 MB)\n",
      "\u001b[2K     \u001b[90m━━━━━━━━━━━━━━━━━━━━━━━━━━━━━━━━━━━━━━━━\u001b[0m \u001b[32m6.9/6.9 MB\u001b[0m \u001b[31m52.5 MB/s\u001b[0m eta \u001b[36m0:00:00\u001b[0m00:01\u001b[0m00:01\u001b[0m\n",
      "\u001b[?25hRequirement already satisfied: sympy in /opt/conda/lib/python3.10/site-packages (from torch) (1.11.1)\n",
      "Requirement already satisfied: nvidia-cusparse-cu12==12.1.0.106 in /opt/conda/lib/python3.10/site-packages (from torch) (12.1.0.106)\n",
      "Collecting nvidia-cusolver-cu12==11.4.5.107\n",
      "  Using cached nvidia_cusolver_cu12-11.4.5.107-py3-none-manylinux1_x86_64.whl (124.2 MB)\n",
      "Requirement already satisfied: typing-extensions in /opt/conda/lib/python3.10/site-packages (from torch) (4.4.0)\n",
      "Requirement already satisfied: nvidia-cuda-runtime-cu12==12.1.105 in /opt/conda/lib/python3.10/site-packages (from torch) (12.1.105)\n",
      "Requirement already satisfied: nvidia-cudnn-cu12==8.9.2.26 in /opt/conda/lib/python3.10/site-packages (from torch) (8.9.2.26)\n",
      "Requirement already satisfied: filelock in /opt/conda/lib/python3.10/site-packages (from torch) (3.12.4)\n",
      "Requirement already satisfied: networkx in /opt/conda/lib/python3.10/site-packages (from torch) (2.8.8)\n",
      "Requirement already satisfied: nvidia-cufft-cu12==11.0.2.54 in /opt/conda/lib/python3.10/site-packages (from torch) (11.0.2.54)\n",
      "Requirement already satisfied: jinja2 in /opt/conda/lib/python3.10/site-packages (from torch) (3.1.2)\n",
      "Requirement already satisfied: fsspec in /opt/conda/lib/python3.10/site-packages (from torch) (2022.11.0)\n",
      "Requirement already satisfied: nvidia-nvtx-cu12==12.1.105 in /opt/conda/lib/python3.10/site-packages (from torch) (12.1.105)\n",
      "Requirement already satisfied: triton==2.1.0 in /opt/conda/lib/python3.10/site-packages (from torch) (2.1.0)\n",
      "Requirement already satisfied: nvidia-cublas-cu12==12.1.3.1 in /opt/conda/lib/python3.10/site-packages (from torch) (12.1.3.1)\n",
      "Requirement already satisfied: nvidia-nccl-cu12==2.18.1 in /opt/conda/lib/python3.10/site-packages (from torch) (2.18.1)\n",
      "Requirement already satisfied: nvidia-curand-cu12==10.3.2.106 in /opt/conda/lib/python3.10/site-packages (from torch) (10.3.2.106)\n",
      "Requirement already satisfied: nvidia-cuda-nvrtc-cu12==12.1.105 in /opt/conda/lib/python3.10/site-packages (from torch) (12.1.105)\n",
      "Requirement already satisfied: nvidia-cuda-cupti-cu12==12.1.105 in /opt/conda/lib/python3.10/site-packages (from torch) (12.1.105)\n",
      "Requirement already satisfied: nvidia-nvjitlink-cu12 in /opt/conda/lib/python3.10/site-packages (from nvidia-cusolver-cu12==11.4.5.107->torch) (12.2.140)\n",
      "Requirement already satisfied: numpy in /opt/conda/lib/python3.10/site-packages (from torchvision) (1.23.5)\n",
      "Requirement already satisfied: pillow!=8.3.*,>=5.3.0 in /opt/conda/lib/python3.10/site-packages (from torchvision) (9.2.0)\n",
      "Requirement already satisfied: requests in /opt/conda/lib/python3.10/site-packages (from torchvision) (2.28.1)\n",
      "Requirement already satisfied: MarkupSafe>=2.0 in /opt/conda/lib/python3.10/site-packages (from jinja2->torch) (2.1.1)\n",
      "Requirement already satisfied: idna<4,>=2.5 in /opt/conda/lib/python3.10/site-packages (from requests->torchvision) (3.4)\n",
      "Requirement already satisfied: urllib3<1.27,>=1.21.1 in /opt/conda/lib/python3.10/site-packages (from requests->torchvision) (1.26.13)\n",
      "Requirement already satisfied: certifi>=2017.4.17 in /opt/conda/lib/python3.10/site-packages (from requests->torchvision) (2022.12.7)\n",
      "Requirement already satisfied: charset-normalizer<3,>=2 in /opt/conda/lib/python3.10/site-packages (from requests->torchvision) (2.1.1)\n",
      "Requirement already satisfied: mpmath>=0.19 in /opt/conda/lib/python3.10/site-packages (from sympy->torch) (1.2.1)\n",
      "Installing collected packages: nvidia-cusolver-cu12, torch, torchvision\n",
      "Successfully installed nvidia-cusolver-cu12-11.4.5.107 torch-2.1.0 torchvision-0.16.0\n"
     ]
    }
   ],
   "source": [
    "!pip install torch torchvision"
   ]
  },
  {
   "cell_type": "code",
   "execution_count": 4,
   "id": "c0ffd0c2-c7fb-4b9d-bb68-e560e97bf8e1",
   "metadata": {},
   "outputs": [
    {
     "ename": "AttributeError",
     "evalue": "module 'torchvision.ops' has no attribute 'RPN'",
     "output_type": "error",
     "traceback": [
      "\u001b[0;31m---------------------------------------------------------------------------\u001b[0m",
      "\u001b[0;31mAttributeError\u001b[0m                            Traceback (most recent call last)",
      "Cell \u001b[0;32mIn[4], line 60\u001b[0m\n\u001b[1;32m     57\u001b[0m resnet \u001b[38;5;241m=\u001b[39m torchvision\u001b[38;5;241m.\u001b[39mmodels\u001b[38;5;241m.\u001b[39mresnet50(pretrained\u001b[38;5;241m=\u001b[39m\u001b[38;5;28;01mTrue\u001b[39;00m)\n\u001b[1;32m     59\u001b[0m \u001b[38;5;66;03m# Define the RPN network\u001b[39;00m\n\u001b[0;32m---> 60\u001b[0m rpn \u001b[38;5;241m=\u001b[39m \u001b[43mops\u001b[49m\u001b[38;5;241;43m.\u001b[39;49m\u001b[43mRPN\u001b[49m(resnet\u001b[38;5;241m.\u001b[39mfeatures, \u001b[38;5;241m9\u001b[39m)\n\u001b[1;32m     62\u001b[0m \u001b[38;5;66;03m# Create the Faster R-CNN model\u001b[39;00m\n\u001b[1;32m     63\u001b[0m model \u001b[38;5;241m=\u001b[39m FasterRCNN(resnet, rpn, roi_pooling, head)\n",
      "\u001b[0;31mAttributeError\u001b[0m: module 'torchvision.ops' has no attribute 'RPN'"
     ]
    }
   ],
   "source": [
    "# 12) \n",
    "\n"
   ]
  },
  {
   "cell_type": "code",
   "execution_count": null,
   "id": "948ea82c-a0de-46a6-92d4-5482d02f77d9",
   "metadata": {},
   "outputs": [],
   "source": []
  }
 ],
 "metadata": {
  "kernelspec": {
   "display_name": "Python 3 (ipykernel)",
   "language": "python",
   "name": "python3"
  },
  "language_info": {
   "codemirror_mode": {
    "name": "ipython",
    "version": 3
   },
   "file_extension": ".py",
   "mimetype": "text/x-python",
   "name": "python",
   "nbconvert_exporter": "python",
   "pygments_lexer": "ipython3",
   "version": "3.10.8"
  }
 },
 "nbformat": 4,
 "nbformat_minor": 5
}
