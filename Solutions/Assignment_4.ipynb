{
 "cells": [
  {
   "cell_type": "code",
   "execution_count": 8,
   "id": "28fcf737-889f-4d0b-9ea3-bd076be7a073",
   "metadata": {},
   "outputs": [
    {
     "name": "stdout",
     "output_type": "stream",
     "text": [
      "[('Virat Kohli', 24936), ('Jack Kallis', 25534), ('Ricky Ponting', 27483), ('Sachin Tendulkar', 34357)]\n"
     ]
    }
   ],
   "source": [
    "# Answer 1\n",
    "\n",
    "l = [('Sachin Tendulkar', 34357), ('Ricky Ponting', 27483), ('Jack Kallis', 25534), ('Virat Kohli', 24936)]\n",
    "\n",
    "l.sort(key = lambda e : e[1])\n",
    "print(l)\n"
   ]
  },
  {
   "cell_type": "code",
   "execution_count": 10,
   "id": "352553f6-1010-4873-a20f-679704a2a375",
   "metadata": {},
   "outputs": [
    {
     "data": {
      "text/plain": [
       "[1, 4, 9, 16, 25, 36, 49, 64, 81, 100]"
      ]
     },
     "execution_count": 10,
     "metadata": {},
     "output_type": "execute_result"
    }
   ],
   "source": [
    "# Answer 2\n",
    "\n",
    "l2 = [1, 2, 3, 4, 5, 6, 7, 8, 9, 10]\n",
    "list(map(lambda x : x**2, l2))"
   ]
  },
  {
   "cell_type": "code",
   "execution_count": 12,
   "id": "e764a490-5399-4dc1-92ff-f25020ca5c21",
   "metadata": {},
   "outputs": [
    {
     "data": {
      "text/plain": [
       "('1', '2', '3', '4', '5', '6', '7', '8', '9', '10')"
      ]
     },
     "execution_count": 12,
     "metadata": {},
     "output_type": "execute_result"
    }
   ],
   "source": [
    "# Answer 3\n",
    "\n",
    "l3 = [1, 2, 3, 4, 5, 6, 7, 8, 9, 10]\n",
    "tuple(map(lambda x: \"{}\".format(x),l3))"
   ]
  },
  {
   "cell_type": "code",
   "execution_count": 16,
   "id": "402855b3-255d-4a30-b417-1a77d4c0bcbd",
   "metadata": {},
   "outputs": [
    {
     "data": {
      "text/plain": [
       "15511210043330985984000000"
      ]
     },
     "execution_count": 16,
     "metadata": {},
     "output_type": "execute_result"
    }
   ],
   "source": [
    "# Answer 4\n",
    "\n",
    "from functools import reduce\n",
    "\n",
    "l4 = [i for i in range(1,26)]\n",
    "reduce(lambda x,y : x*y, l4)"
   ]
  },
  {
   "cell_type": "code",
   "execution_count": 18,
   "id": "73f63ed2-fe66-4696-a040-a653930b791d",
   "metadata": {},
   "outputs": [
    {
     "data": {
      "text/plain": [
       "[6, 60, 90, 120]"
      ]
     },
     "execution_count": 18,
     "metadata": {},
     "output_type": "execute_result"
    }
   ],
   "source": [
    "# Answer 5\n",
    "\n",
    "l5 = [2, 3, 6, 9, 27, 60, 90, 120, 55, 46]\n",
    "list(filter(lambda x: x%2==0 and x%3==0, l5))"
   ]
  },
  {
   "cell_type": "code",
   "execution_count": null,
   "id": "c7a75e3d-45fa-459d-863b-010ae32b2806",
   "metadata": {},
   "outputs": [],
   "source": [
    "# Answer 6\n",
    "\n",
    "l6 = ['python', 'php', 'aba', 'radar', 'level']\n",
    "list(filter(lambda x: x[::] == x[::-1], l6))"
   ]
  }
 ],
 "metadata": {
  "kernelspec": {
   "display_name": "Python 3 (ipykernel)",
   "language": "python",
   "name": "python3"
  },
  "language_info": {
   "codemirror_mode": {
    "name": "ipython",
    "version": 3
   },
   "file_extension": ".py",
   "mimetype": "text/x-python",
   "name": "python",
   "nbconvert_exporter": "python",
   "pygments_lexer": "ipython3",
   "version": "3.10.8"
  }
 },
 "nbformat": 4,
 "nbformat_minor": 5
}
