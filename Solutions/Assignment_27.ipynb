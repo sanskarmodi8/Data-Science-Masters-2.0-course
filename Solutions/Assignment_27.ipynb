{
 "cells": [
  {
   "cell_type": "code",
   "execution_count": null,
   "id": "0ec88e99-41da-46fd-b84d-446e2a2af55a",
   "metadata": {},
   "outputs": [],
   "source": [
    "# Answer 1\n",
    "\n",
    "# Statistics is the branch of mathematics that involves the collection, analysis, interpretation, presentation, and organization of \n",
    "# data to gain insights and make informed decisions about a population or a sample. "
   ]
  },
  {
   "cell_type": "code",
   "execution_count": 1,
   "id": "65a19341-9519-4206-95e7-0b3abc971920",
   "metadata": {},
   "outputs": [],
   "source": [
    "# Answer 2\n",
    "\n",
    "# different types of statistics --\n",
    "\n",
    "# Descriptive Statistics: Descriptive statistics involves the organization, summarization, and presentation of data in a meaningful way. \n",
    "# It aims to describe and provide insights about a dataset without making inferences beyond the data itself.\n",
    "\n",
    "# Example: Descriptive statistics could be used to analyze survey responses from a group of individuals.\n",
    "\n",
    "# Inferential Statistics: Inferential statistics involves using sample data to make inferences or draw conclusions about a larger population.\n",
    "# It utilizes probability theory to estimate population parameters and test hypotheses.\n",
    "\n",
    "# Example: Inferential statistics might be used in a medical study to determine the effectiveness of a new drug."
   ]
  },
  {
   "cell_type": "code",
   "execution_count": 2,
   "id": "3cf63e4b-ffc6-4768-b837-d3ce81ec4ad7",
   "metadata": {},
   "outputs": [],
   "source": [
    "# Answer 3\n",
    "\n",
    "# there are four main types of data: nominal, ordinal, interval, and ratio. \n",
    "# The key difference between these types of data lies in the level of measurement\n",
    "# and the mathematical operations that can be applied. Nominal and ordinal data are qualitative, while interval and ratio data are quantitative.\n",
    "\n",
    "# Nominal Data: Nominal data represents categories without any inherent order or ranking. It consists of distinct groups or labels.\n",
    "# Example: Colors of cars in a parking lot (e.g., red, blue, green).\n",
    "\n",
    "# Ordinal Data: Ordinal data allows for ranking or ordering of categories, but the differences between categories may not be equal or precisely\n",
    "# quantifiable.\n",
    "# Example: Ratings of a movie on a scale of 1 to 5 (e.g., 1 = poor, 5 = excellent).\n",
    "\n",
    "# Interval Data: Interval data represents values with equal intervals between them, but it lacks a meaningful zero point.\n",
    "# Example: Temperatures recorded in degrees Celsius or Fahrenheit (e.g., 20°C, 30°C).\n",
    "\n",
    "# Ratio Data: Ratio data possesses equal intervals between values and a meaningful zero point, enabling the comparison of absolute quantities.\n",
    "# Example: Height in centimeters (e.g., 160 cm, 180 cm).\n"
   ]
  },
  {
   "cell_type": "code",
   "execution_count": 3,
   "id": "39339692-d087-4da6-81e4-53f28e2df256",
   "metadata": {},
   "outputs": [],
   "source": [
    "# Answer 4\n",
    "\n",
    "# i) Qualitative (ordinal)\n",
    "# ii) Qualitative (nominal)\n",
    "# iii) Quantitative (ratio)\n",
    "# iv) Quantitative (ratio)"
   ]
  },
  {
   "cell_type": "code",
   "execution_count": 4,
   "id": "022664d6-bbbc-4b2b-bae0-b6546d511803",
   "metadata": {},
   "outputs": [],
   "source": [
    "# Answer 5\n",
    "\n",
    "# Levels of measurement, also known as scales of measurement, refer to the different ways in which variables can be measured or classified.\n",
    "# There are four main levels of measurement: nominal, ordinal, interval, and ratio.\n",
    "\n",
    "# Nominal Level\n",
    "# Example: Gender (categories: male, female, non-binary)\n",
    "\n",
    "# Ordinal Level\n",
    "# Example: Educational attainment (categories: high school, bachelor's degree, master's degree, doctorate)\n",
    "\n",
    "# Interval Level\n",
    "# Example: Temperature in degrees Celsius or Fahrenheit (e.g., 20°C, 30°C)\n",
    "\n",
    "# Ratio Level\n",
    "# Example: Weight in kilograms (e.g., 50 kg, 70 kg)"
   ]
  },
  {
   "cell_type": "code",
   "execution_count": 5,
   "id": "e689517f-1e3b-4379-9524-c9160ad17552",
   "metadata": {},
   "outputs": [],
   "source": [
    "# Answer 6\n",
    "\n",
    "# Understanding the level of measurement is crucial when analyzing data because it determines the appropriate statistical operations that can\n",
    "# be applied and the meaningful interpretations that can be made. \n",
    "# Failing to consider the level of measurement can lead to incorrect analyses and misleading conclusions.\n",
    "\n",
    "# Suppose we have data on the favorite colors of individuals in a survey. The colors are represented by numbers: 1 for red, 2 for blue, 3 for\n",
    "# green, and 4 for yellow.\n",
    "\n",
    "# If we treat the color variable as interval or ratio data, we might perform calculations such as computing the mean color or comparing color\n",
    "# differences using arithmetic operations. However, since the numbers are merely representing different categories, treating the data as interval \n",
    "# or ratio would be inappropriate.\n",
    "\n",
    "# Understanding that the variable is at the nominal level of measurement, we should focus on using appropriate descriptive statistics like\n",
    "# frequency counts or mode to analyze and describe the data accurately. Recognizing the correct level of measurement ensures the use of\n",
    "# appropriate statistical techniques and prevents erroneous interpretations."
   ]
  },
  {
   "cell_type": "code",
   "execution_count": 6,
   "id": "fe6fe153-940e-409e-9cb1-1cfca656dcd1",
   "metadata": {},
   "outputs": [],
   "source": [
    "# Answer 7\n",
    "\n",
    "# Nominal data represents categories without any inherent order or ranking, while ordinal data allows for the ranking or ordering of \n",
    "# categories but does not necessarily have quantifiable differences between them."
   ]
  },
  {
   "cell_type": "code",
   "execution_count": 7,
   "id": "af761a2b-fb3d-4389-b3f0-b2e2cc43eaba",
   "metadata": {},
   "outputs": [],
   "source": [
    "# Answer 8\n",
    "\n",
    "# A box plot, also known as a box-and-whisker plot, is commonly used to display data in terms of range. \n"
   ]
  },
  {
   "cell_type": "code",
   "execution_count": 8,
   "id": "10758c91-46b6-4c4c-a6f5-680cda11543b",
   "metadata": {},
   "outputs": [],
   "source": [
    "# Answer 9\n",
    "\n",
    "# Descriptive statistics involves summarizing and describing data using measures such as mean, median, and standard deviation.\n",
    "# It aims to provide a clear understanding of the dataset without making inferences beyond the observed data. \n",
    "# Example: Calculating the average income of a group of individuals.\n",
    "\n",
    "# Inferential statistics involves drawing conclusions and making predictions about a population based on sample data.\n",
    "# It utilizes probability theory and statistical tests to make inferences. \n",
    "# Example: Conducting a hypothesis test to determine if a new drug is effective based on data from a sample of patients."
   ]
  },
  {
   "cell_type": "code",
   "execution_count": null,
   "id": "69edeb85-28e3-4dab-ba67-c8c026c0ed66",
   "metadata": {},
   "outputs": [],
   "source": [
    "# Answer 10\n",
    "\n",
    "# Common measures of central tendency include:\n",
    "\n",
    "# Mean: The mean provides the average value of a dataset and is calculated by summing all values and dividing by the total count.\n",
    "# It represents the typical value.\n",
    "\n",
    "# Median: The median is the middle value when the dataset is sorted in ascending or descending order.\n",
    "# It is resistant to extreme values and represents the central value.\n",
    "\n",
    "# Mode: The mode is the value(s) that occur most frequently in a dataset. It identifies the most common value.\n",
    "\n",
    "\n",
    "\n",
    "# Common measures of variability include:\n",
    "\n",
    "# Range: The range is the difference between the maximum and minimum values in a dataset. It indicates the spread or dispersion of the data.\n",
    "\n",
    "# Variance: Variance measures the average squared deviation from the mean. It quantifies the variability of data points around the mean.\n",
    "\n",
    "# Standard Deviation: The standard deviation is the square root of the variance. It provides a measure of the average distance between \n",
    "# each data point and the mean, representing the overall variability in the dataset."
   ]
  }
 ],
 "metadata": {
  "kernelspec": {
   "display_name": "Python 3 (ipykernel)",
   "language": "python",
   "name": "python3"
  },
  "language_info": {
   "codemirror_mode": {
    "name": "ipython",
    "version": 3
   },
   "file_extension": ".py",
   "mimetype": "text/x-python",
   "name": "python",
   "nbconvert_exporter": "python",
   "pygments_lexer": "ipython3",
   "version": "3.10.8"
  }
 },
 "nbformat": 4,
 "nbformat_minor": 5
}
