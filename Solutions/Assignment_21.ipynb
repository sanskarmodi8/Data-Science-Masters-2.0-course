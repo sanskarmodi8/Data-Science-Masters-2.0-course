{
 "cells": [
  {
   "cell_type": "code",
   "execution_count": 22,
   "id": "4ff3e8a6-d2dc-4be8-bcb9-bf4ad860fd29",
   "metadata": {},
   "outputs": [
    {
     "name": "stdout",
     "output_type": "stream",
     "text": [
      "        course_name  duration\n",
      "0      Data Science         2\n",
      "1  Machine Learning         3\n",
      "2          Big Data         6\n",
      "3     Data Engineer         4\n",
      "\n",
      "\n",
      "   column_1  column_2  column_3  column_4  column_5  column_6\n",
      "1  0.913751  0.662320  0.852920  0.010808  0.978004  0.589947\n",
      "2  0.535580  0.491163  0.541755  0.506987  0.362185  0.204459\n",
      "3  0.278481  0.108377  0.724005  0.176048  0.645234  0.245559\n",
      "4  0.651705  0.751394  0.414930  0.954978  0.113332  0.162546\n",
      "5  0.613188  0.377911  0.031490  0.702712  0.697828  0.124642\n",
      "6  0.166390  0.907810  0.113686  0.477013  0.004344  0.349428\n"
     ]
    }
   ],
   "source": [
    "import pandas as pd\n",
    "import numpy as np\n",
    "from datetime import datetime\n",
    "import matplotlib.pyplot as plt\n",
    "\n",
    "course_name = ['Data Science', 'Machine Learning', 'Big Data', 'Data Engineer']\n",
    "duration = [2,3,6,4]\n",
    "df = pd.DataFrame(data = {'course_name' : course_name, 'duration' : duration})\n",
    "print(df)\n",
    "\n",
    "print(\"\\n\")\n",
    "\n",
    "columns = ['column_1', 'column_2', 'column_3', 'column_4', 'column_5', 'column_6']\n",
    "indices = [1,2,3,4,5,6]\n",
    "df1 = pd.DataFrame(np.random.rand(6,6), columns = columns, index = indices)\n",
    "print(df1)"
   ]
  },
  {
   "cell_type": "code",
   "execution_count": 2,
   "id": "b5827082-ada6-428f-8745-2187c9eec245",
   "metadata": {},
   "outputs": [
    {
     "name": "stdout",
     "output_type": "stream",
     "text": [
      "course_name    Machine Learning\n",
      "duration                      3\n",
      "Name: 1, dtype: object\n"
     ]
    }
   ],
   "source": [
    "# Answer 1\n",
    "\n",
    "print(df.loc[1])"
   ]
  },
  {
   "cell_type": "code",
   "execution_count": 7,
   "id": "315bf5a2-2c62-42d0-ab59-deaeb4ea1b67",
   "metadata": {},
   "outputs": [],
   "source": [
    "# Answer 2\n",
    "\n",
    "# The `loc` function in Pandas is used for label-based indexing, allowing you to access data in a DataFrame using explicit\n",
    "# row and column labels. On the other hand, the `iloc` function is used for integer-based indexing, where you specify the integer\n",
    "# positions of rows and columns to access the corresponding data. In essence, `loc` deals with labels, while `iloc` deals with positions."
   ]
  },
  {
   "cell_type": "code",
   "execution_count": 3,
   "id": "8a3ad9d1-22fc-4b32-b093-5a4185aeb830",
   "metadata": {},
   "outputs": [
    {
     "name": "stdout",
     "output_type": "stream",
     "text": [
      "        course_name  duration\n",
      "0      Data Science         2\n",
      "1  Machine Learning         3\n",
      "2          Big Data         6\n",
      "3     Data Engineer         4\n",
      "\n",
      "\n",
      "course_name    Big Data\n",
      "duration              6\n",
      "Name: 2, dtype: object\n",
      "course_name    Machine Learning\n",
      "duration                      3\n",
      "Name: 1, dtype: object\n"
     ]
    }
   ],
   "source": [
    "# Answer 3\n",
    "\n",
    "reindex = [3,0,1,2]\n",
    "new_df = df.reindex(reindex)\n",
    "print(df)\n",
    "print(\"\\n\")\n",
    "print(new_df.loc[2])\n",
    "print(new_df.iloc[2])\n",
    "\n",
    "# yes there will be difference in both the outputs because--\n",
    "# loc uses label-based indexing, so new_df.loc[2] retrieves the row with the label 2, while iloc uses integer-based indexing,\n",
    "# so new_df.iloc[2] retrieves the row at the integer position 2"
   ]
  },
  {
   "cell_type": "code",
   "execution_count": 4,
   "id": "58919603-08eb-4216-8321-90c2fa30e03c",
   "metadata": {},
   "outputs": [
    {
     "name": "stdout",
     "output_type": "stream",
     "text": [
      "column_1    0.253916\n",
      "column_2    0.458611\n",
      "column_3    0.497879\n",
      "column_4    0.628644\n",
      "column_5    0.517028\n",
      "column_6    0.233086\n",
      "dtype: float64\n",
      "\n",
      "\n",
      "0.17786579444526204\n"
     ]
    }
   ],
   "source": [
    "# Answer 4\n",
    "\n",
    "# i)\n",
    "print(df1.mean())\n",
    "\n",
    "print(\"\\n\")\n",
    "\n",
    "# ii)\n",
    "print(df1['column_2'].std())"
   ]
  },
  {
   "cell_type": "code",
   "execution_count": 8,
   "id": "600fc164-cd6c-4d2d-8188-ffa2d83f69b4",
   "metadata": {},
   "outputs": [],
   "source": [
    "# Answer 5\n",
    "\n",
    "df1.loc[2, 'column_2'] = \"Sanskar\"\n",
    "# df1['column_2'].mean() \n",
    "# the above commented line will give typerror because in column_2 we also have a string data and we cannot take mean of strings"
   ]
  },
  {
   "cell_type": "code",
   "execution_count": 10,
   "id": "03e92d4f-1bb5-4832-ac0f-6b4dc6325270",
   "metadata": {},
   "outputs": [],
   "source": [
    "# Answer 6\n",
    "\n",
    "# In pandas, window functions provide a way to perform calculations over a specified window or range of data in a DataFrame or \n",
    "# Series. These functions operate on a sliding or expanding window of data and allow you to compute various aggregations and \n",
    "# transformations.\n",
    "\n",
    "# types -- \n",
    "\n",
    "# Rolling Window Functions\n",
    "# Expanding Window Functions\n",
    "# Exponentially Weighted Moving Average (EWMA) Functions\n",
    "# Rolling Window Apply Functions"
   ]
  },
  {
   "cell_type": "code",
   "execution_count": 17,
   "id": "3fd156ff-412c-48ac-afe1-293f450ec77b",
   "metadata": {},
   "outputs": [
    {
     "name": "stdout",
     "output_type": "stream",
     "text": [
      "Current month -- 6 \n",
      "Current Year -- 2023\n"
     ]
    }
   ],
   "source": [
    "# Answer 7\n",
    "#pandas datetime module is deprecated so using datetime module\n",
    "print(f\"Current month -- {datetime.now().month} \\nCurrent Year -- {datetime.now().year}\")"
   ]
  },
  {
   "cell_type": "code",
   "execution_count": 19,
   "id": "5ac37ea4-8b3e-4c9a-ab61-3f12a11d5c9f",
   "metadata": {},
   "outputs": [
    {
     "name": "stdin",
     "output_type": "stream",
     "text": [
      "Enter the first date (YYYY-MM-DD):  2023-4-20\n",
      "Enter the second date (YYYY-MM-DD):  2023-6-28\n"
     ]
    },
    {
     "name": "stdout",
     "output_type": "stream",
     "text": [
      "\n",
      "<class 'pandas._libs.tslibs.timedeltas.Timedelta'>\n",
      "\n",
      "Time Difference:\n",
      "Days: 69\n",
      "Hours: 0\n",
      "Minutes: 0\n"
     ]
    }
   ],
   "source": [
    "# Answer 8\n",
    "\n",
    "date1 = input(\"Enter the first date (YYYY-MM-DD): \")\n",
    "date2 = input(\"Enter the second date (YYYY-MM-DD): \")\n",
    "\n",
    "date1 = pd.to_datetime(date1)\n",
    "date2 = pd.to_datetime(date2)\n",
    "\n",
    "time_diff = date2 - date1\n",
    "print(f\"\\n{type(time_diff)}\\n\")\n",
    "\n",
    "days = time_diff.days\n",
    "hours = time_diff.seconds // 3600\n",
    "minutes = (time_diff.seconds % 3600) // 60\n",
    "\n",
    "print(\"Time Difference:\")\n",
    "print(\"Days:\", days)\n",
    "print(\"Hours:\", hours)\n",
    "print(\"Minutes:\", minutes)"
   ]
  },
  {
   "cell_type": "code",
   "execution_count": null,
   "id": "5a3fa88c-e756-47fb-aa7e-10c1d3796dd9",
   "metadata": {},
   "outputs": [],
   "source": [
    "# Answer 9\n",
    "\n",
    "file_path = input(\"Enter the CSV file path: \")\n",
    "data = pd.read_csv(file_path)\n",
    "\n",
    "column_name = input(\"Enter the column name: \")\n",
    "category_order = input(\"Enter the category order (comma-separated): \").split(',')\n",
    "\n",
    "data[column_name] = pd.Categorical(data[column_name], categories=category_order, ordered=True)\n",
    "sorted_data = data.sort_values(by=column_name)\n",
    "\n",
    "print(sorted_data)\n"
   ]
  },
  {
   "cell_type": "code",
   "execution_count": 24,
   "id": "8ab14504-341f-467f-9096-2f32e828e6ff",
   "metadata": {},
   "outputs": [],
   "source": [
    "# Answer 10\n",
    "\n",
    "file_path = input(\"Enter the CSV file path: \")\n",
    "data = pd.read_csv(file_path)\n",
    "\n",
    "data['Date'] = pd.to_datetime(data['Date'])\n",
    "grouped_data = data.groupby(['Product Category', 'Date']).sum().reset_index()\n",
    "pivot_data = grouped_data.pivot(index='Date', columns='Product Category', values='Sales')\n",
    "\n",
    "pivot_data.plot(kind='bar', stacked=True)\n",
    "plt.title('Sales of Product Categories Over Time')\n",
    "plt.xlabel('Date')\n",
    "plt.ylabel('Sales')\n",
    "\n",
    "plt.show()\n"
   ]
  },
  {
   "cell_type": "code",
   "execution_count": 27,
   "id": "4a8f6457-cd94-4900-9981-4e52b8693b30",
   "metadata": {},
   "outputs": [
    {
     "name": "stdin",
     "output_type": "stream",
     "text": [
      "Enter the CSV file path:  test.csv\n"
     ]
    },
    {
     "name": "stdout",
     "output_type": "stream",
     "text": [
      "  Statistic  Test Score\n",
      "0      Mean        83.5\n",
      "1    Median        85.0\n",
      "2      Mode        85.0\n"
     ]
    }
   ],
   "source": [
    "# Answer 11\n",
    "\n",
    "file_path = input(\"Enter the CSV file path: \")\n",
    "data = pd.read_csv(file_path)\n",
    "\n",
    "mean_score = data['Test Score'].mean()\n",
    "median_score = data['Test Score'].median()\n",
    "mode_score = data['Test Score'].mode()[0]\n",
    "\n",
    "print(pd.DataFrame({'Statistic': ['Mean', 'Median', 'Mode'],\n",
    "                        'Test Score': [mean_score, median_score, mode_score]}))\n",
    "\n"
   ]
  },
  {
   "cell_type": "code",
   "execution_count": null,
   "id": "c05e8f2b-69f7-48fa-8637-c88e51a13b73",
   "metadata": {},
   "outputs": [],
   "source": []
  }
 ],
 "metadata": {
  "kernelspec": {
   "display_name": "Python 3 (ipykernel)",
   "language": "python",
   "name": "python3"
  },
  "language_info": {
   "codemirror_mode": {
    "name": "ipython",
    "version": 3
   },
   "file_extension": ".py",
   "mimetype": "text/x-python",
   "name": "python",
   "nbconvert_exporter": "python",
   "pygments_lexer": "ipython3",
   "version": "3.10.8"
  }
 },
 "nbformat": 4,
 "nbformat_minor": 5
}
