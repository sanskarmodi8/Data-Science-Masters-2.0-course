{
 "cells": [
  {
   "cell_type": "code",
   "execution_count": 1,
   "id": "e8e15e87-78bc-4d28-a2c5-95458463c792",
   "metadata": {},
   "outputs": [],
   "source": [
    "# Answer 1\n",
    "\n",
    "#Multithreading in Python refers to the ability of a program to simultaneously execute multiple threads within a single process\n",
    "\n",
    "#Multithreading is used to improve the performance and efficiency of certain types of programs, especially when dealing with tasks that \n",
    "#can be executed independently and don't require the full processing power of a single CPU core.\n",
    "\n",
    "#In Python, the threading module is used to handle threads."
   ]
  },
  {
   "cell_type": "code",
   "execution_count": 2,
   "id": "f45a4969-3d99-4178-8ee3-737c66497b26",
   "metadata": {},
   "outputs": [],
   "source": [
    "# Answer 2\n",
    "\n",
    "#The threading module in Python is used to handle threads for concurrent execution of tasks within a program. It provides a high-level \n",
    "#interface for creating, controlling, and synchronizing threads.\n",
    "\n",
    "#1) activeCount() is used to retrieve the number of active threads in the program\n",
    "#2) currentThread() is used to retrieve the thread which is currently executing at the moment\n",
    "#3) enumerate() gives the list of thread objects currently active in the program"
   ]
  },
  {
   "cell_type": "code",
   "execution_count": 3,
   "id": "4b564504-2ffa-48b6-bbc1-9f48ad71d3d7",
   "metadata": {},
   "outputs": [],
   "source": [
    "# Answer 3\n",
    "\n",
    "#1)\n",
    "#When the start() method is called on a Thread object, it internally calls the run() method to start the execution of that thread. \n",
    "#The run() method contains the code that will be executed in the thread.\n",
    "\n",
    "#2)\n",
    "#The start() method is used to start the execution of the thread.\n",
    "\n",
    "#3)\n",
    "#The join() method is used to wait for a thread to complete its execution. When it is called the code after this function calling will only execute \n",
    "#when the previous thread running will complete its execution\n",
    "\n",
    "#4)\n",
    "#The isAlive() method is used to check whether a thread is currently running or not. It returns a boolean value."
   ]
  },
  {
   "cell_type": "code",
   "execution_count": 10,
   "id": "2a615791-83a3-4cef-bcd2-9e6778dfa4fc",
   "metadata": {},
   "outputs": [
    {
     "name": "stdout",
     "output_type": "stream",
     "text": [
      "[1, 4, 9, 16, 25, 36, 49, 64, 81, 100]\n",
      "[1, 8, 27, 64, 125, 216, 343, 512, 729, 1000]\n",
      "Threads finished!\n"
     ]
    }
   ],
   "source": [
    "# Answer 4\n",
    "\n",
    "import threading\n",
    "\n",
    "def square(nums):\n",
    "    l = []\n",
    "    for i in nums:\n",
    "        l.append(i**2)\n",
    "    print(l)\n",
    "\n",
    "def cube(nums):\n",
    "    l = []\n",
    "    for i in nums:\n",
    "        l.append(i**3)\n",
    "    print(l)\n",
    "\n",
    "l = [1,2,3,4,5,6,7,8,9,10]\n",
    "\n",
    "thread1 = threading.Thread(target=square, args=(l,))\n",
    "thread2 = threading.Thread(target=cube, args=(l,))\n",
    "\n",
    "thread1.start()\n",
    "thread2.start()\n",
    "\n",
    "thread1.join()\n",
    "thread2.join()\n",
    "\n",
    "print(\"Threads finished!\")"
   ]
  },
  {
   "cell_type": "code",
   "execution_count": 11,
   "id": "b40a889d-f42e-4fe5-9399-5c7ae7996a6d",
   "metadata": {},
   "outputs": [],
   "source": [
    "# Answer 5\n",
    "\n",
    "# Advantages of multithreading includes efficient resource utilization, enhanced performance, simplified program design, etc\n",
    "# Disadvantages includes complexity and difficulty of implementation, increased debugging and testing complexity, etc"
   ]
  },
  {
   "cell_type": "code",
   "execution_count": null,
   "id": "60b5f95f-6c49-471d-9b17-aaa4a434667c",
   "metadata": {},
   "outputs": [],
   "source": [
    "# Answer 6\n",
    "\n",
    "#Deadlocks --\n",
    "#A deadlock occurs when two or more threads are blocked indefinitely, waiting for each other to release resources they hold.\n",
    "# It happens due to a circular dependency among the threads and the resources they require. Deadlocks can bring the entire system to a \n",
    "# halt and require manual intervention to resolve.\n",
    "\n",
    "# Race conditions --\n",
    "# A race condition occurs when two or more threads access a shared resource simultaneously, and the final outcome depends on the relative timing\n",
    "# or interleaving of their execution. The result of a race condition can be unpredictable and may lead to incorrect or inconsistent program behavior.\n"
   ]
  }
 ],
 "metadata": {
  "kernelspec": {
   "display_name": "Python 3 (ipykernel)",
   "language": "python",
   "name": "python3"
  },
  "language_info": {
   "codemirror_mode": {
    "name": "ipython",
    "version": 3
   },
   "file_extension": ".py",
   "mimetype": "text/x-python",
   "name": "python",
   "nbconvert_exporter": "python",
   "pygments_lexer": "ipython3",
   "version": "3.10.8"
  }
 },
 "nbformat": 4,
 "nbformat_minor": 5
}
