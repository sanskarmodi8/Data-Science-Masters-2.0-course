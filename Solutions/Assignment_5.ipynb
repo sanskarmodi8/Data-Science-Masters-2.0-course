{
 "cells": [
  {
   "cell_type": "code",
   "execution_count": 1,
   "id": "5c66f79b-4cc2-4f91-9190-9c8cec01499a",
   "metadata": {},
   "outputs": [],
   "source": [
    "# Answer 1\n",
    "\n",
    "#In Object Oriented Programming, class refers to a template and object is the product made using the template. For example--\n",
    "\n",
    "class summercampform: #form for school summer camp (template)\n",
    "    \n",
    "    def __init__(self, name, classofstudent, section, age, sport):\n",
    "        \n",
    "        self.name = name\n",
    "        self.classofstudent = classofstudent\n",
    "        self.section = section\n",
    "        self.age = age\n",
    "        self.sport = sport\n",
    "    \n",
    "student1 = summercampform( \"student1\", \"8\", \"A\", 13, \"Football\" ) \n",
    "student2 = summercampform( \"student2\", \"9\", \"D\", 15, \"Table Tennis\" )\n",
    "student3 = summercampform( \"student3\", \"7\", \"C\", 12, \"Swimming\" )"
   ]
  },
  {
   "cell_type": "code",
   "execution_count": 2,
   "id": "7ebf8fdd-458d-4247-8eae-548291b006ab",
   "metadata": {},
   "outputs": [],
   "source": [
    "# Answer 2\n",
    "\n",
    "#The four pillars of OOPS are Abstraction, Encapsulation, Inheritance, and Polymorphism"
   ]
  },
  {
   "cell_type": "code",
   "execution_count": 8,
   "id": "c5c6d1c1-730e-4f41-b4d1-818ca1161928",
   "metadata": {},
   "outputs": [
    {
     "name": "stdout",
     "output_type": "stream",
     "text": [
      "True\n"
     ]
    }
   ],
   "source": [
    "# Answer 3\n",
    "\n",
    "#__init__ function is used as a constructor so that class can recieve arguments which can be later used in the class according to the logic of the class.\n",
    "#For example --\n",
    "\n",
    "class summercampform: #form for school summer camp (template)\n",
    "    \n",
    "    def __init__(self, name, classofstudent, section, age, sport):\n",
    "        \n",
    "        self.name = name\n",
    "        self.classofstudent = classofstudent\n",
    "        self.section = section\n",
    "        self.age = age\n",
    "        self.sport = sport\n",
    "    \n",
    "        \n",
    "    def hasEnrolled(self):\n",
    "        #checks if the requirements are met and seats are left and then return true or false. For now, its returning true for everyone \n",
    "        return True\n",
    "    \n",
    "student1 = summercampform( \"student1\", \"8\", \"A\", 13, \"Football\" )\n",
    "print(student1.hasEnrolled())"
   ]
  },
  {
   "cell_type": "code",
   "execution_count": 9,
   "id": "f3270cf8-ba1e-45f7-8fdf-d0f97e33b6ac",
   "metadata": {},
   "outputs": [],
   "source": [
    "# Answer 4\n",
    "\n",
    "#self is used in OOPS to bind methods and properties to their classes"
   ]
  },
  {
   "cell_type": "code",
   "execution_count": null,
   "id": "b7da4bdd-1903-4ea4-bc92-cc61bcbf2dcc",
   "metadata": {},
   "outputs": [],
   "source": []
  },
  {
   "cell_type": "code",
   "execution_count": 22,
   "id": "8457b1b8-f644-431d-8c9c-cc4162af0bb4",
   "metadata": {},
   "outputs": [
    {
     "name": "stdout",
     "output_type": "stream",
     "text": [
      "Blood group is B Positive\n",
      "Blood group is B Positive\n",
      "Blood group is B Positive\n",
      "\n",
      "\n",
      "\n",
      "square face\n",
      "playing football\n"
     ]
    }
   ],
   "source": [
    "# Answer 5\n",
    "\n",
    "#In OOPS, inheritance means giving access of a parent class methods and properties to a child class.\n",
    "#There are 2 types of inheritance -- multilevel inheritance and multiple inheritance\n",
    "\n",
    "#example of multilevel inheritance --\n",
    "class grandfather:\n",
    "    def showbloodgroup(self):\n",
    "        print(\"Blood group is B Positive\")\n",
    "class father(grandfather):\n",
    "    pass\n",
    "class son(father):\n",
    "    pass\n",
    "        \n",
    "mukesh = grandfather()\n",
    "suresh = father()\n",
    "niresh = son()\n",
    "\n",
    "mukesh.showbloodgroup()\n",
    "suresh.showbloodgroup()\n",
    "niresh.showbloodgroup()\n",
    "print(\"\\n\\n\")\n",
    "\n",
    "#example of multiple inheritance\n",
    "class dad:\n",
    "    def facetype(self):\n",
    "        print(\"square face\")\n",
    "class mom:\n",
    "    def hobbies(self):\n",
    "        print(\"playing football\")\n",
    "class child(dad, mom):\n",
    "    pass\n",
    "\n",
    "\n",
    "himesh = child()\n",
    "himesh.facetype()\n",
    "himesh.hobbies()"
   ]
  },
  {
   "cell_type": "code",
   "execution_count": null,
   "id": "77d18268-d523-4009-80ba-b21eeca32976",
   "metadata": {},
   "outputs": [],
   "source": []
  }
 ],
 "metadata": {
  "kernelspec": {
   "display_name": "Python 3 (ipykernel)",
   "language": "python",
   "name": "python3"
  },
  "language_info": {
   "codemirror_mode": {
    "name": "ipython",
    "version": 3
   },
   "file_extension": ".py",
   "mimetype": "text/x-python",
   "name": "python",
   "nbconvert_exporter": "python",
   "pygments_lexer": "ipython3",
   "version": "3.10.8"
  }
 },
 "nbformat": 4,
 "nbformat_minor": 5
}
