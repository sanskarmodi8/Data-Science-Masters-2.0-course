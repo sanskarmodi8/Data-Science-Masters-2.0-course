{
 "cells": [
  {
   "cell_type": "code",
   "execution_count": 1,
   "id": "49c5149a-d1ba-4073-8495-ddf17199cee9",
   "metadata": {},
   "outputs": [],
   "source": [
    "# Answer 1\n",
    "\n",
    "# Data encoding is the process of converting categorical or textual data into numerical representations to make it suitable for machine learning algorithms. In data science, numerical data is easier for algorithms to process and analyze. Encoding allows us to represent categorical features in a format that can be used as input for various machine learning models."
   ]
  },
  {
   "cell_type": "code",
   "execution_count": 2,
   "id": "f838f58f-5c79-4937-b6ff-66565bb80af5",
   "metadata": {},
   "outputs": [],
   "source": [
    "# Answer 2\n",
    "\n",
    "# Nominal encoding, also known as label encoding, is a method of assigning a unique integer to each category in a categorical variable. Each category is mapped to an integer value, and these integers represent the different categories in the data.\n",
    "\n",
    "# Example:\n",
    "# Suppose we have a dataset of fruit types, where the \"Fruit\" column contains categorical values: \"Apple,\" \"Orange,\" \"Banana,\" and \"Mango.\" Using nominal encoding, we can map these categories to integers as follows:\n",
    "\n",
    "# Apple: 0\n",
    "# Orange: 1\n",
    "# Banana: 2\n",
    "# Mango: 3\n"
   ]
  },
  {
   "cell_type": "code",
   "execution_count": 3,
   "id": "477924cb-eae9-4c00-828c-6d57aebadcfb",
   "metadata": {},
   "outputs": [],
   "source": [
    "# Answer 3\n",
    "\n",
    "# Nominal encoding is preferred over one-hot encoding in situations where the categorical variable has a natural order or ordinal relationship. One-hot encoding treats each category independently and creates binary columns for each category, which might not be suitable when the categories have a meaningful order.\n",
    "\n",
    "# Practical Example:\n",
    "# Consider a dataset with an \"Education Level\" column, where the categories are \"High School,\" \"Bachelor's Degree,\" \"Master's Degree,\" and \"Ph.D.\" These categories have a natural order, where a higher degree level represents more education. In this case, nominal encoding would be more appropriate than one-hot encoding.\n",
    "\n"
   ]
  },
  {
   "cell_type": "code",
   "execution_count": 4,
   "id": "d86c0031-2d2b-40c3-bbc4-518de66e183f",
   "metadata": {},
   "outputs": [],
   "source": [
    "# Answer 4\n",
    "\n",
    "# If the dataset contains categorical data with 5 unique values, and there is no inherent order among the categories, then nominal encoding (label encoding) would be a suitable technique. It converts the categories into numeric labels ranging from 0 to (n-1), where \"n\" is the number of unique categories."
   ]
  },
  {
   "cell_type": "code",
   "execution_count": 5,
   "id": "efd58019-a55b-439a-bd9e-e9e539ff4bc3",
   "metadata": {},
   "outputs": [],
   "source": [
    "# Answer 5\n",
    "\n",
    "# If you were to use nominal encoding on two categorical columns in a dataset with 1000 rows, you would create two new columns with integer values representing the encoded labels. Since nominal encoding assigns a unique integer to each category, the number of new columns created would be equal to the number of categorical columns you are encoding, which is 2 in this case."
   ]
  },
  {
   "cell_type": "code",
   "execution_count": 6,
   "id": "257d5a22-6077-44ce-b73b-902e0d870145",
   "metadata": {},
   "outputs": [],
   "source": [
    "# Answer 6\n",
    "\n",
    "# For the dataset containing information about different types of animals, where the categorical data includes species, habitat, and diet, it would be ideal to use one-hot encoding. One-hot encoding creates binary columns for each category, where 1 represents the presence of that category and 0 represents the absence. This allows machine learning algorithms to understand the categorical features without imposing any ordinal relationship among the categories.\n",
    "\n",
    "# For example, if there are different species of animals like \"lion,\" \"elephant,\" and \"giraffe,\" one-hot encoding would create separate binary columns for each species, such as \"Species_lion,\" \"Species_elephant,\" and \"Species_giraffe.\""
   ]
  },
  {
   "cell_type": "code",
   "execution_count": 7,
   "id": "9808697f-9df8-41a4-a1c1-6ac2d21481d2",
   "metadata": {},
   "outputs": [],
   "source": [
    "# Answer 7\n",
    "\n",
    "# For the project involving predicting customer churn for a telecommunications company, you can use one-hot encoding for the \"gender\" and \"contract type\" features to transform the categorical data into numerical data.\n",
    "\n",
    "# Step-by-step explanation for one-hot encoding:\n",
    "\n",
    "# Identify the categorical features: In this case, the categorical features are \"gender\" and \"contract type.\"\n",
    "\n",
    "# Apply one-hot encoding: For each categorical feature, create binary columns for each category. For example, if \"gender\" has categories \"Male\" and \"Female,\" and \"contract type\" has categories \"Monthly\" and \"Yearly,\" one-hot encoding would create the following new binary columns:\n",
    "\n",
    "# \"Gender_Male,\" \"Gender_Female,\" \"ContractType_Monthly,\" \"ContractType_Yearly\"\n",
    "# Populate the binary columns: For each row in the original dataset, set the corresponding binary column to 1 if the category is present for that row, and 0 if it is not present.\n",
    "# After applying one-hot encoding, the categorical data would be transformed into a numerical format suitable for machine learning algorithms, and you can use these encoded features for prediction tasks like customer churn prediction."
   ]
  },
  {
   "cell_type": "code",
   "execution_count": null,
   "id": "1b5842c9-e5cf-40bc-b847-052dfc9d659c",
   "metadata": {},
   "outputs": [],
   "source": [
    "\n",
    "\n"
   ]
  }
 ],
 "metadata": {
  "kernelspec": {
   "display_name": "Python 3 (ipykernel)",
   "language": "python",
   "name": "python3"
  },
  "language_info": {
   "codemirror_mode": {
    "name": "ipython",
    "version": 3
   },
   "file_extension": ".py",
   "mimetype": "text/x-python",
   "name": "python",
   "nbconvert_exporter": "python",
   "pygments_lexer": "ipython3",
   "version": "3.10.8"
  }
 },
 "nbformat": 4,
 "nbformat_minor": 5
}
