{
 "cells": [
  {
   "cell_type": "code",
   "execution_count": 1,
   "id": "efead611-a654-4cca-af8b-58601dbc40da",
   "metadata": {},
   "outputs": [],
   "source": [
    "# Answer 1\n",
    "\n",
    "import numpy as np\n",
    "from scipy.stats import f\n",
    "\n",
    "def variance_ratio_test(arr1, arr2):\n",
    "    # Calculate the sample variances for each array\n",
    "    var1 = np.var(arr1, ddof=1)\n",
    "    var2 = np.var(arr2, ddof=1)\n",
    "    \n",
    "    # Ensure the larger variance is used in the numerator\n",
    "    if var1 > var2:\n",
    "        F = var1 / var2\n",
    "        df_num = len(arr1) - 1\n",
    "        df_den = len(arr2) - 1\n",
    "    else:\n",
    "        F = var2 / var1\n",
    "        df_num = len(arr2) - 1\n",
    "        df_den = len(arr1) - 1\n",
    "    \n",
    "    # Calculate the p-value\n",
    "    p_value = 1 - f.cdf(F, df_num, df_den)\n",
    "    \n",
    "    return F, p_value\n"
   ]
  },
  {
   "cell_type": "code",
   "execution_count": null,
   "id": "5c045663-160d-4515-b9bf-1b7bb217d4ad",
   "metadata": {},
   "outputs": [],
   "source": [
    "# Answer 2\n",
    "\n",
    "from scipy.stats import f\n",
    "\n",
    "def critical_f_value(alpha, df_num, df_den):\n",
    "    return f.ppf(1 - alpha / 2, df_num, df_den)\n"
   ]
  },
  {
   "cell_type": "code",
   "execution_count": 2,
   "id": "b3a7024e-17a9-4f74-bf5e-761644226f42",
   "metadata": {},
   "outputs": [
    {
     "name": "stdout",
     "output_type": "stream",
     "text": [
      "F-value: 1.2729926932306077\n",
      "Degrees of freedom (numerator, denominator): 49 59\n",
      "P-value: 0.18683406344789433\n"
     ]
    }
   ],
   "source": [
    "# Answer 3\n",
    "\n",
    "import numpy as np\n",
    "from scipy.stats import f\n",
    "\n",
    "def f_test_for_variances(sample1, sample2):\n",
    "    var1 = np.var(sample1, ddof=1)\n",
    "    var2 = np.var(sample2, ddof=1)\n",
    "    \n",
    "    F = var1 / var2\n",
    "    df_num = len(sample1) - 1\n",
    "    df_den = len(sample2) - 1\n",
    "    \n",
    "    p_value = 1 - f.cdf(F, df_num, df_den)\n",
    "    \n",
    "    return F, df_num, df_den, p_value\n",
    "\n",
    "# Example usage:\n",
    "sample1 = np.random.normal(loc=10, scale=2, size=50)\n",
    "sample2 = np.random.normal(loc=10, scale=2, size=60)\n",
    "F, df_num, df_den, p_value = f_test_for_variances(sample1, sample2)\n",
    "print(\"F-value:\", F)\n",
    "print(\"Degrees of freedom (numerator, denominator):\", df_num, df_den)\n",
    "print(\"P-value:\", p_value)\n"
   ]
  },
  {
   "cell_type": "code",
   "execution_count": 3,
   "id": "5ed76cc9-a076-46e8-bd10-a9b43f9cb0f7",
   "metadata": {},
   "outputs": [
    {
     "name": "stdout",
     "output_type": "stream",
     "text": [
      "Fail to reject null hypothesis: Variances are not significantly different.\n"
     ]
    }
   ],
   "source": [
    "# Answer 4\n",
    "\n",
    "from scipy.stats import f\n",
    "\n",
    "population_var1 = 10\n",
    "population_var2 = 15\n",
    "sample_size = 12\n",
    "alpha = 0.05\n",
    "\n",
    "# For an F-test, degrees of freedom for numerator and denominator are (sample_size - 1)\n",
    "df_num = sample_size - 1\n",
    "df_den = sample_size - 1\n",
    "\n",
    "# Calculate the F-value\n",
    "F = population_var1 / population_var2\n",
    "\n",
    "# Calculate the critical F-value\n",
    "critical_F = f.ppf(1 - alpha / 2, df_num, df_den)\n",
    "\n",
    "# Compare F-value with critical F-value\n",
    "if F > critical_F or F < 1 / critical_F:\n",
    "    print(\"Reject null hypothesis: Variances are significantly different.\")\n",
    "else:\n",
    "    print(\"Fail to reject null hypothesis: Variances are not significantly different.\")\n"
   ]
  },
  {
   "cell_type": "code",
   "execution_count": 4,
   "id": "a71a42d4-eb68-440c-ace6-bf30f3845379",
   "metadata": {},
   "outputs": [
    {
     "name": "stdout",
     "output_type": "stream",
     "text": [
      "Fail to reject null hypothesis: The claim is justified.\n"
     ]
    }
   ],
   "source": [
    "# Answer 5\n",
    "\n",
    "from scipy.stats import f\n",
    "\n",
    "claim_variance = 0.005\n",
    "sample_variance = 0.006\n",
    "sample_size = 25\n",
    "alpha = 0.01\n",
    "\n",
    "# For an F-test, degrees of freedom for numerator and denominator are (sample_size - 1)\n",
    "df_num = sample_size - 1\n",
    "df_den = sample_size - 1\n",
    "\n",
    "# Calculate the F-value\n",
    "F = sample_variance / claim_variance\n",
    "\n",
    "# Calculate the critical F-value\n",
    "critical_F = f.ppf(1 - alpha / 2, df_num, df_den)\n",
    "\n",
    "# Compare F-value with critical F-value\n",
    "if F > critical_F or F < 1 / critical_F:\n",
    "    print(\"Reject null hypothesis: The claim is not justified.\")\n",
    "else:\n",
    "    print(\"Fail to reject null hypothesis: The claim is justified.\")\n"
   ]
  },
  {
   "cell_type": "code",
   "execution_count": 9,
   "id": "7aa5cb45-7399-41b3-8c2c-784f558849a7",
   "metadata": {},
   "outputs": [],
   "source": [
    "# Answer 6\n",
    "\n",
    "def f_distribution_mean_and_variance(df_num, df_den):\n",
    "    if df_num <= 0 or df_den <= 0:\n",
    "        raise ValueError(\"Degrees of freedom must be greater than 0.\")\n",
    "    \n",
    "    mean = df_den / (df_den - 2)\n",
    "    variance = (2 * df_den**2 * (df_num + df_den - 2)) / (df_num * (df_den - 2)**2 * (df_den - 4))\n",
    "    \n",
    "    return mean, variance\n"
   ]
  },
  {
   "cell_type": "code",
   "execution_count": 6,
   "id": "dc9bc93b-f37d-48d4-8d68-aabeaab59797",
   "metadata": {},
   "outputs": [
    {
     "name": "stdout",
     "output_type": "stream",
     "text": [
      "Fail to reject null hypothesis: Variances are not significantly different.\n"
     ]
    }
   ],
   "source": [
    "# Answer 7\n",
    "\n",
    "from scipy.stats import f\n",
    "\n",
    "sample_var1 = 25\n",
    "sample_size1 = 10\n",
    "sample_var2 = 20\n",
    "sample_size2 = 15\n",
    "alpha = 0.10\n",
    "\n",
    "# For an F-test, degrees of freedom for numerator and denominator are (sample_size - 1)\n",
    "df_num1 = sample_size1 - 1\n",
    "df_den1 = sample_size1 - 1\n",
    "df_num2 = sample_size2 - 1\n",
    "df_den2 = sample_size2 - 1\n",
    "\n",
    "# Calculate the F-value\n",
    "F = sample_var1 / sample_var2\n",
    "\n",
    "# Calculate the critical F-value\n",
    "critical_F = f.ppf(1 - alpha / 2, df_num1, df_den2)\n",
    "\n",
    "# Compare F-value with critical F-value\n",
    "if F > critical_F or F < 1 / critical_F:\n",
    "    print(\"Reject null hypothesis: Variances are significantly different.\")\n",
    "else:\n",
    "    print(\"Fail to reject null hypothesis: Variances are not significantly different.\")\n"
   ]
  },
  {
   "cell_type": "code",
   "execution_count": 8,
   "id": "813e9bf5-dfb7-4474-8858-0bc32d39e82c",
   "metadata": {},
   "outputs": [
    {
     "name": "stdout",
     "output_type": "stream",
     "text": [
      "Fail to reject null hypothesis: Variances are not significantly different.\n"
     ]
    }
   ],
   "source": [
    "# Answer 8\n",
    "\n",
    "from scipy.stats import f\n",
    "\n",
    "restaurant_a = [24, 25, 28, 23, 22, 20, 27]\n",
    "restaurant_b = [31, 33, 35, 30, 32, 36]\n",
    "alpha = 0.05\n",
    "\n",
    "# For an F-test, degrees of freedom for numerator and denominator are (sample_size - 1)\n",
    "df_num = len(restaurant_a) - 1\n",
    "df_den = len(restaurant_b) - 1\n",
    "\n",
    "# Calculate the sample variances\n",
    "sample_var_a = np.var(restaurant_a, ddof=1)\n",
    "sample_var_b = np.var(restaurant_b, ddof=1)\n",
    "\n",
    "# Calculate the F-value\n",
    "F = sample_var_a / sample_var_b\n",
    "\n",
    "# Calculate the critical F-value\n",
    "critical_F = f.ppf(1 - alpha / 2, df_num, df_den)\n",
    "\n",
    "# Compare F-value with critical F-value\n",
    "if F > critical_F or F < 1 / critical_F:\n",
    "    print(\"Reject null hypothesis: Variances are significantly different.\")\n",
    "else:\n",
    "    print(\"Fail to reject null hypothesis: Variances are not significantly different.\")\n"
   ]
  },
  {
   "cell_type": "code",
   "execution_count": 7,
   "id": "a11dc581-110a-4dcd-b0f8-ae1eedc947e6",
   "metadata": {},
   "outputs": [
    {
     "name": "stdout",
     "output_type": "stream",
     "text": [
      "Fail to reject null hypothesis: Variances are not significantly different.\n"
     ]
    }
   ],
   "source": [
    "# Answer 9\n",
    "\n",
    "from scipy.stats import f\n",
    "\n",
    "group_a = [80, 85, 90, 92, 87, 83]\n",
    "group_b = [75, 78, 82, 79, 81, 84]\n",
    "alpha = 0.01\n",
    "\n",
    "# For an F-test, degrees of freedom for numerator and denominator are (sample_size - 1)\n",
    "df_num = len(group_a) - 1\n",
    "df_den = len(group_b) - 1\n",
    "\n",
    "# Calculate the sample variances\n",
    "sample_var_a = np.var(group_a, ddof=1)\n",
    "sample_var_b = np.var(group_b, ddof=1)\n",
    "\n",
    "# Calculate the F-value\n",
    "F = sample_var_a / sample_var_b\n",
    "\n",
    "# Calculate the critical F-value\n",
    "critical_F = f.ppf(1 - alpha / 2, df_num, df_den)\n",
    "\n",
    "# Compare F-value with critical F-value\n",
    "if F > critical_F or F < 1 / critical_F:\n",
    "    print(\"Reject null hypothesis: Variances are significantly different.\")\n",
    "else:\n",
    "    print(\"Fail to reject null hypothesis: Variances are not significantly different.\")\n"
   ]
  },
  {
   "cell_type": "code",
   "execution_count": null,
   "id": "2d7e0c4d-ed37-4bd6-9d5b-9cf240618680",
   "metadata": {},
   "outputs": [],
   "source": []
  }
 ],
 "metadata": {
  "kernelspec": {
   "display_name": "Python 3 (ipykernel)",
   "language": "python",
   "name": "python3"
  },
  "language_info": {
   "codemirror_mode": {
    "name": "ipython",
    "version": 3
   },
   "file_extension": ".py",
   "mimetype": "text/x-python",
   "name": "python",
   "nbconvert_exporter": "python",
   "pygments_lexer": "ipython3",
   "version": "3.10.8"
  }
 },
 "nbformat": 4,
 "nbformat_minor": 5
}
